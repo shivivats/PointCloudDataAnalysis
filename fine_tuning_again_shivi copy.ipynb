{
 "cells": [
  {
   "attachments": {},
   "cell_type": "markdown",
   "metadata": {},
   "source": [
    "# Fine-Tuning P.1203 Model"
   ]
  },
  {
   "attachments": {},
   "cell_type": "markdown",
   "metadata": {},
   "source": [
    "# ITU-T P.1203"
   ]
  },
  {
   "cell_type": "code",
   "execution_count": 118,
   "metadata": {},
   "outputs": [],
   "source": [
    "import matplotlib.pyplot as plt\n",
    "import pandas as pd\n",
    "from itu_p1203_new import P1203Standalone\n",
    "from itu_p1203_new import P1203Pq\n",
    "from itu_p1203_new import P1203Pa\n",
    "from itu_p1203_new import P1203Pv\n",
    "from itertools import permutations\n",
    "\n",
    "import json\n"
   ]
  },
  {
   "cell_type": "code",
   "execution_count": null,
   "metadata": {},
   "outputs": [],
   "source": [
    "f = open(\"./mode0.json\")\n",
    "input_data = json.load(f)\n",
    "input_data"
   ]
  },
  {
   "cell_type": "code",
   "execution_count": 120,
   "metadata": {},
   "outputs": [],
   "source": [
    "bitratesMbps = {\n",
    "    'BlueSpin': {'r01': 1.75, 'r02': 2.29, 'r03': 3.17, 'r04': 7.53, 'r05': 12.62},\n",
    "    'CasualSquat':  {'r01': 2.50, 'r02': 3.91, 'r03': 6.66, 'r04': 19.51, 'r05': 31.11},\n",
    "    'ReadyForWinter':  {'r01': 1.97, 'r02': 2.58, 'r03': 3.61, 'r04': 9.34, 'r05': 16.59},\n",
    "    'FlowerDance':  {'r01': 2.66, 'r02': 4.24, 'r03': 7.12, 'r04': 22.81, 'r05': 39.35},\n",
    "}\n",
    "\n",
    "resolution_map = {\n",
    "    'r01': '640x360', # worse than 420p\n",
    "    'r02': '852x480', # exactly 480p\n",
    "    'r03': '1192x672', # bit worse than 720p\n",
    "    'r04': '1533x864', # a bit better than 720p\n",
    "    'r05': '1920x1080', # exactly 1080p\n",
    "\n",
    "}"
   ]
  },
  {
   "cell_type": "code",
   "execution_count": 121,
   "metadata": {},
   "outputs": [],
   "source": [
    "p1203_results = {\n",
    "    'object': [],\n",
    "    'qual': [],\n",
    "    'bitrate': [],\n",
    "    'p1203_qoe': []\n",
    "}\n",
    "\n",
    "for video in list(bitratesMbps.keys()):\n",
    "    bitrates = list(bitratesMbps[video].values())\n",
    "    qualities = list(bitratesMbps[video].keys())\n",
    "    \n",
    "    for bitrate, quality in zip(bitrates, qualities):\n",
    "        p1203_results['object'].append(video)\n",
    "        p1203_results['qual'].append(quality)\n",
    "        p1203_results['bitrate'].append(bitrate)\n",
    "\n",
    "        input_data['I13']['segments'][0]['bitrate'] = bitrate\n",
    "        input_data['I13']['segments'][0]['resolution'] = resolution_map[quality]\n",
    "        # print(input_data)\n",
    "        p1203_results['p1203_qoe'].append(P1203Standalone(input_data).calculate_complete()['O46'])\n",
    "\n",
    "# p1203_results"
   ]
  },
  {
   "cell_type": "code",
   "execution_count": null,
   "metadata": {},
   "outputs": [],
   "source": [
    "p1203_df = pd.DataFrame.from_dict(p1203_results)\n",
    "p1203_df"
   ]
  },
  {
   "cell_type": "code",
   "execution_count": null,
   "metadata": {},
   "outputs": [],
   "source": [
    "p1203_df_1 = p1203_df.loc[p1203_df['object'].isin(['BlueSpin', 'CasualSquat'])]\n",
    "grouped_p1203_qoe = p1203_df_1.groupby(['object', 'qual'])\n",
    "grouped_p1203_qoe = grouped_p1203_qoe.mean()\n",
    "grouped_p1203_qoe\n"
   ]
  },
  {
   "cell_type": "code",
   "execution_count": null,
   "metadata": {},
   "outputs": [],
   "source": [
    "p1203_qoe = list(grouped_p1203_qoe['p1203_qoe'])\n",
    "p1203_qoe"
   ]
  },
  {
   "cell_type": "code",
   "execution_count": null,
   "metadata": {},
   "outputs": [],
   "source": [
    "import pandas as pd\n",
    "import numpy as np\n",
    "# get input data\n",
    "ground_truth_df = pd.read_csv('./results/individual_opinion_score_vpcc.csv')\n",
    "ground_truth_df"
   ]
  },
  {
   "cell_type": "code",
   "execution_count": null,
   "metadata": {},
   "outputs": [],
   "source": [
    "ground_truth_df[['object', 'encoder', 'qual', 'dist']] = ground_truth_df.objects.str.split('_', expand=True)\n",
    "#df['object'] = df['object'].str.lower()\n",
    "ground_truth_df['rate_scaled'] = ground_truth_df['rate'] # no need to scale it since this time we took 1-5 results\n",
    "ground_truth_df"
   ]
  },
  {
   "cell_type": "code",
   "execution_count": 127,
   "metadata": {},
   "outputs": [],
   "source": [
    "ground_truth_df = ground_truth_df.loc[ground_truth_df['object'].isin(['BlueSpin', 'CasualSquat'])]\n",
    "grouped_ground_truth = ground_truth_df.groupby(['object', 'qual'])\n",
    "grouped_ground_truth = grouped_ground_truth.mean(numeric_only=True)"
   ]
  },
  {
   "cell_type": "code",
   "execution_count": null,
   "metadata": {},
   "outputs": [],
   "source": [
    "qoe_ground_truth = list(grouped_ground_truth['rate'])\n",
    "qoe_ground_truth"
   ]
  },
  {
   "cell_type": "code",
   "execution_count": null,
   "metadata": {},
   "outputs": [],
   "source": [
    "plt.scatter(qoe_ground_truth, p1203_qoe)\n",
    "plt.plot([1, 5], [1, 5], color = 'red')\n",
    "plt.axis([1, 5, 1, 5])\n",
    "plt.xlabel(\"Ground Truth\")\n",
    "plt.ylabel(\"P1203 Mode 0\")"
   ]
  },
  {
   "cell_type": "code",
   "execution_count": null,
   "metadata": {},
   "outputs": [],
   "source": [
    "#import seaborn as sns\n",
    "df_correlation = pd.DataFrame({'Ground truth': qoe_ground_truth,\n",
    "                              'P.1203': p1203_qoe})\n",
    "\n",
    "spear_corr = df_correlation.corr(method = 'spearman') #pearson\n",
    "print(\"Spearmann\")\n",
    "print(spear_corr)\n",
    "\n",
    "#sns.heatmap(corr, cmap='YlGnBu', annot = True)\n",
    "plt.imshow(spear_corr, cmap='YlGnBu')\n",
    "\n",
    "plt.text(0, 0, spear_corr['Ground truth']['Ground truth'], ha = \"center\", va = \"center\", color = \"w\")\n",
    "plt.text(1, 0, spear_corr['Ground truth']['P.1203'], ha = \"center\", va = \"center\", color = \"black\")\n",
    "plt.text(0, 1, spear_corr['P.1203']['Ground truth'], ha = \"center\", va = \"center\", color = \"black\")\n",
    "plt.text(1, 1, spear_corr['P.1203']['P.1203'], ha = \"center\", va = \"center\", color = \"w\")\n",
    "\n",
    "plt.savefig(\"./figures/correlation_spearman_1203_1080p.pdf\")\n",
    "plt.show()\n",
    "\n",
    "pearson_corr = df_correlation.corr(method = 'pearson') #spearman\n",
    "print(\"Pearson\")\n",
    "print(pearson_corr)\n",
    "\n",
    "#sns.heatmap(corr, cmap='YlGnBu', annot = True)\n",
    "plt.imshow(pearson_corr, cmap='YlGnBu')\n",
    "\n",
    "plt.text(0, 0, pearson_corr['Ground truth']['Ground truth'], ha = \"center\", va = \"center\", color = \"w\")\n",
    "plt.text(1, 0, pearson_corr['Ground truth']['P.1203'], ha = \"center\", va = \"center\", color = \"black\")\n",
    "plt.text(0, 1, pearson_corr['P.1203']['Ground truth'], ha = \"center\", va = \"center\", color = \"black\")\n",
    "plt.text(1, 1, pearson_corr['P.1203']['P.1203'], ha = \"center\", va = \"center\", color = \"w\")\n",
    "\n",
    "plt.savefig(\"./figures/correlation_pearson_1203_1080p.pdf\")\n",
    "plt.show()\n",
    "\n"
   ]
  },
  {
   "cell_type": "markdown",
   "metadata": {},
   "source": [
    "# P1203.1 Pv coefficients updates\n"
   ]
  },
  {
   "cell_type": "code",
   "execution_count": 131,
   "metadata": {},
   "outputs": [],
   "source": [
    "# Quant(a1, a2, a3, a4) = a1 + a2*ln(a3+ln(bitrate) + ln(br*br/(codRes*fr) + a4))\n",
    "\n",
    "# MOSq(q1, q2, q3) = q1 + q2*exp(q3*Quant)\n",
    "# MOSq = max(min(MOSq, 5), 1)\n",
    "\n",
    "# Dq = max(min(100 - RfromMOS(MOSq), 100), 0)\n",
    "\n",
    "# MOSfromR:\n",
    "#     MOS = MOS_min + (MOS_max - MOS_min) * R/100 + R*(R-60)(100-R)*0.000007\n",
    "#     MOS = min(MOS_max, max(MOS, MOS_min))\n",
    "#     Calculate MOSfromR, R from 0 -> 100, step 0.25"
   ]
  },
  {
   "cell_type": "code",
   "execution_count": 132,
   "metadata": {},
   "outputs": [],
   "source": [
    "from functools import lru_cache\n",
    "from itertools import permutations\n",
    "import json\n",
    "import sys\n",
    "import pandas as pd\n",
    "import numpy as np\n",
    "import matplotlib.pyplot as plt\n",
    "\n",
    "from itu_p1203_new import P1203Standalone\n",
    "from itu_p1203_new import P1203Pv\n"
   ]
  },
  {
   "cell_type": "code",
   "execution_count": 133,
   "metadata": {},
   "outputs": [],
   "source": [
    "f = open(\"./mode0.json\")\n",
    "input_data = json.load(f)\n",
    "# input_data"
   ]
  },
  {
   "cell_type": "code",
   "execution_count": null,
   "metadata": {},
   "outputs": [],
   "source": [
    "ground_truth_qoe_df = pd.read_csv('./results/individual_opinion_score_vpcc.csv')\n",
    "ground_truth_qoe_df[['object', 'encoder', 'qual', 'dist']] = ground_truth_qoe_df.objects.str.split('_', expand=True)\n",
    "ground_truth_qoe_df['rate_scaled'] = ground_truth_qoe_df['rate']\n",
    "\n",
    "ground_truth_qoe_df"
   ]
  },
  {
   "cell_type": "code",
   "execution_count": null,
   "metadata": {},
   "outputs": [],
   "source": [
    "ground_truth_qoe_df = ground_truth_qoe_df[['object', 'qual', 'rate_scaled']]\n",
    "ground_truth_qoe_df"
   ]
  },
  {
   "cell_type": "code",
   "execution_count": 136,
   "metadata": {},
   "outputs": [],
   "source": [
    "# remove outliers using boxplot method\n",
    "vpcc_group_columns = ['object', 'qual']\n",
    "configurations = ground_truth_qoe_df.groupby(vpcc_group_columns)\n",
    "\n",
    "def boxplot_outlier_filter(frame):\n",
    "    \"\"\"\n",
    "    Outlier filter using interquantile range (filter below Q1 - 1.5 IQR and above Q3 + 1.5 IQR)\n",
    "\n",
    "    :param frame: data frame\n",
    "    :return: filtered frame\n",
    "    \"\"\"\n",
    "    q1 = frame.quantile(0.25, numeric_only=True)[\"rate_scaled\"]\n",
    "    q3 = frame.quantile(0.75, numeric_only=True)[\"rate_scaled\"]\n",
    "    \n",
    "    # interquantile range\n",
    "    iqr = q3 - q1\n",
    "    fence_low = q1 - (1.5*iqr)\n",
    "    fence_high = q3 + (1.5*iqr)\n",
    "    filtered = (frame[\"rate_scaled\"] >= fence_low) & (frame[\"rate_scaled\"] <= fence_high)\n",
    "    return frame.loc[filtered]\n",
    "\n",
    "# for each configuration, filter outliers\n",
    "df_vpcc_filtered = None\n",
    "for _, frame in configurations:\n",
    "    #print(boxplot_outlier_filter(frame))\n",
    "    df_vpcc_filtered = pd.concat([df_vpcc_filtered, boxplot_outlier_filter(frame)], axis=0)\n",
    "\n",
    "df_vpcc_filtered = df_vpcc_filtered.reset_index(drop=True)\n",
    "# groups = df_vpcc_filtered.groupby(vpcc_group_columns)\n"
   ]
  },
  {
   "cell_type": "code",
   "execution_count": null,
   "metadata": {},
   "outputs": [],
   "source": [
    "ground_truth_qoe_df = df_vpcc_filtered.loc[df_vpcc_filtered['object'].isin(['BlueSpin', 'CasualSquat'])]\n",
    "ground_truth_qoe_grouped_df = ground_truth_qoe_df.groupby(['object', 'qual']).aggregate(lambda x: tuple(x))\n",
    "ground_truth_qoe_grouped_df"
   ]
  },
  {
   "cell_type": "code",
   "execution_count": 138,
   "metadata": {},
   "outputs": [],
   "source": [
    "bitratesMbps = {\n",
    "    'BlueSpin': {'r01': 1.75, 'r02': 2.29, 'r03': 3.17, 'r04': 7.53, 'r05': 12.62},\n",
    "    'CasualSquat':  {'r01': 2.50, 'r02': 3.91, 'r03': 6.66, 'r04': 19.51, 'r05': 31.11},\n",
    "    'ReadyForWinter':  {'r01': 1.97, 'r02': 2.58, 'r03': 3.61, 'r04': 9.34, 'r05': 16.59},\n",
    "    'FlowerDance':  {'r01': 2.66, 'r02': 4.24, 'r03': 7.12, 'r04': 22.81, 'r05': 39.35},\n",
    "}\n",
    "\n",
    "resolution_map = {\n",
    "    'r01': '640x360', # worse than 480p\n",
    "    'r02': '852x480', # exactly 480p\n",
    "    'r03': '1192x672', # bit worse than 720p\n",
    "    'r04': '1533x864', # a bit better than 720p\n",
    "    'r05': '1920x1080', # exactly 1080p\n",
    "\n",
    "}"
   ]
  },
  {
   "cell_type": "code",
   "execution_count": 139,
   "metadata": {},
   "outputs": [],
   "source": [
    "def calculate_p1203(coeffs):\n",
    "\n",
    "    p1203_results = {\n",
    "        'object': [],\n",
    "        'qual': [],\n",
    "        'bitrate': [],\n",
    "        'p1203_qoe': []\n",
    "    }\n",
    "\n",
    "    for video in list(bitratesMbps.keys()):\n",
    "        bitrates = list(bitratesMbps[video].values())\n",
    "        qualities = list(bitratesMbps[video].keys())\n",
    "        \n",
    "        for bitrate, quality in zip(bitrates, qualities):\n",
    "            p1203_results['object'].append(video)\n",
    "            p1203_results['qual'].append(quality)\n",
    "            p1203_results['bitrate'].append(bitrate)\n",
    "\n",
    "            input_data['I13']['segments'][0]['bitrate'] = bitrate*1000\n",
    "            input_data['I13']['segments'][0]['resolution'] = resolution_map[quality]\n",
    "\n",
    "            #print(\"input data\")\n",
    "            #print(input_data)\n",
    "            \n",
    "            qoe_p1203 = P1203Standalone(input_data, coeffs=coeffs).calculate_complete()['O46']\n",
    "            \n",
    "            p1203_results['p1203_qoe'].append(qoe_p1203)\n",
    "\n",
    "    return p1203_results"
   ]
  },
  {
   "cell_type": "code",
   "execution_count": 140,
   "metadata": {},
   "outputs": [],
   "source": [
    "def calculate_rmse(p1203_results, mos):\n",
    "    joined_qoe = p1203_results.join(mos)\n",
    "    rmse_arr = []\n",
    "    #print(\"joined_qoe\")\n",
    "    #print(joined_qoe)\n",
    "\n",
    "    for idx in np.arange(joined_qoe.shape[0]):\n",
    "        \n",
    "        #print(\"joined_qoe.shape[0]\")\n",
    "        #print(joined_qoe.shape[0])\n",
    "        targets = joined_qoe.iloc[idx,:]['rate_scaled']\n",
    "        #print(\"targets\")\n",
    "        #print(targets)\n",
    "        #print(len(targets))\n",
    "        predictions = np.full(len(targets), joined_qoe.loc[joined_qoe.index[idx], 'p1203_qoe'])\n",
    "        #print(\"predictions\")\n",
    "        #print(predictions)\n",
    "        #print(len(predictions))\n",
    "        rmse_arr.append(np.sqrt(np.mean((predictions-targets)**2)))\n",
    "        #print(\"rmse_arr\")\n",
    "        #print(rmse_arr)\n",
    "    \n",
    "    return np.average(rmse_arr)\n"
   ]
  },
  {
   "cell_type": "code",
   "execution_count": 141,
   "metadata": {},
   "outputs": [],
   "source": [
    "from datetime import datetime\n",
    "\n",
    "_COEFFS = {\n",
    "        \"u1\": 72.61,\n",
    "        \"u2\": 0.32,\n",
    "        \"t1\": 30.98,\n",
    "        \"t2\": 1.29,\n",
    "        \"t3\": 64.65,\n",
    "        \"q1\": 4.66,\n",
    "        \"q2\": -0.07,\n",
    "        \"q3\": 4.06,\n",
    "        \"mode0\": {\n",
    "            \"a1\": 11.9983519,\n",
    "            \"a2\": -2.99991847,\n",
    "            \"a3\": 41.2475074001,\n",
    "            \"a4\": 0.13183165961,\n",
    "        },\n",
    "        \"mode1\": {\n",
    "            \"a1\": 5.00011566,\n",
    "            \"a2\": -1.19630824,\n",
    "            \"a3\": 41.3585049,\n",
    "            \"a4\": 0,\n",
    "            \"c0\": -0.91562479,\n",
    "            \"c1\": 0,\n",
    "            \"c2\": -3.28579526,\n",
    "            \"c3\": 20.4098663,\n",
    "        },\n",
    "        \"htv_1\": -0.60293,\n",
    "        \"htv_2\": 2.12382,\n",
    "        \"htv_3\": -0.36936,\n",
    "        \"htv_4\": 0.03409,\n",
    "    }\n",
    "\n",
    "def finetune_coeffs():\n",
    "    min_rmse = sys.float_info.max\n",
    "    optimized_coeffs = _COEFFS\n",
    "    optimized_p1203_qoe  =[]\n",
    "\n",
    "    # for _COEFFS['u1'] in np.arange(50,100):\n",
    "    #     for _COEFFS['u2'] in np.arange(1):\n",
    "            # for _COEFFS['t1'] in np.arange(1):\n",
    "            #     for _COEFFS['t2'] in np.arange(1):\n",
    "            #         for _COEFFS['t3'] in np.arange(1):\n",
    "                        # for _COEFFS['q1'] in np.arange(1):\n",
    "                        #     for _COEFFS['q2'] in np.arange(1):\n",
    "                        #         for _COEFFS['q3'] in np.arange(1):\n",
    "    for _COEFFS['mode0']['a1'] in np.arange(1, 15, 0.5): # 0.5 range originally\n",
    "        for _COEFFS['mode0']['a2'] in np.arange(-5, 0, 0.5): # 0.5 range originally\n",
    "            for _COEFFS['mode0']['a3'] in np.arange(0, 80, 1): # 1 range originally\n",
    "                for _COEFFS['mode0']['a4'] in np.arange(0, 5, 0.5): # 0.5 range originally\n",
    "                    # print(_COEFFS)\n",
    "\n",
    "                    qoe_p1203_dict = calculate_p1203(_COEFFS)\n",
    "                    p1203_df = pd.DataFrame.from_dict(qoe_p1203_dict)\n",
    "\n",
    "                    # Fine tune aka train with BlueSpin and CasualSquat\n",
    "                    p1203_df = p1203_df.loc[p1203_df['object'].isin(['BlueSpin', 'CasualSquat'])]\n",
    "                    grouped_p1203_qoe = p1203_df.groupby(['object', 'qual']).mean()\n",
    "                    #print(\"grouped_p1203_qoe\")\n",
    "                    #print(grouped_p1203_qoe)\n",
    "\n",
    "                    print(\"timestamp\")\n",
    "                    print(datetime.now())\n",
    "                    print(\"COEFFS: \" + str(_COEFFS['mode0']['a1']) + \" \" + str(_COEFFS['mode0']['a2']) + \" \" + str(_COEFFS['mode0']['a3']) + \" \" + str(_COEFFS['mode0']['a4']))\n",
    "\n",
    "                    rmse = calculate_rmse(grouped_p1203_qoe, ground_truth_qoe_grouped_df)\n",
    "                    print(\"Calcd RMSE: \" + str(rmse))\n",
    "                    print(\"Current min RMSE: \" + str(min_rmse))\n",
    "                    if rmse < min_rmse:   \n",
    "                        print(\"==> NEW MIN RMSE: \" + str(rmse))\n",
    "                        print(\"==> MIN RMSE _COEFFS: \" + str(_COEFFS))\n",
    "                        \n",
    "                        optimized_coeffs = _COEFFS\n",
    "                        min_rmse = rmse\n",
    "                        optimized_p1203_qoe = list(grouped_p1203_qoe['p1203_qoe'])\n",
    "\n",
    "    return optimized_coeffs, optimized_p1203_qoe, min_rmse"
   ]
  },
  {
   "cell_type": "code",
   "execution_count": null,
   "metadata": {},
   "outputs": [],
   "source": [
    "from scipy.optimize import minimize, Bounds, differential_evolution, basinhopping\n",
    "\n",
    "# objective function to minimise\n",
    "def objective_function(trial_coeffs, multiplier=1):\n",
    "    current_coeffs = _COEFFS\n",
    "    current_coeffs['mode0']['a1'] = trial_coeffs[0]\n",
    "    current_coeffs['mode0']['a2'] = trial_coeffs[1]\n",
    "    current_coeffs['mode0']['a3'] = trial_coeffs[2]\n",
    "    current_coeffs['mode0']['a4'] = trial_coeffs[3]\n",
    "\n",
    "    qoe_p1203_dict = calculate_p1203(current_coeffs)\n",
    "    p1203_df = pd.DataFrame.from_dict(qoe_p1203_dict)\n",
    "    p1203_df = p1203_df.loc[p1203_df['object'].isin(['BlueSpin', 'CasualSquat'])]\n",
    "    grouped_p1203_qoe = p1203_df.groupby(['object', 'qual']).mean()\n",
    "    print(\"COEFFS: \" + str(current_coeffs['mode0']['a1']) + \" \" + str(current_coeffs['mode0']['a2']) + \" \" + str(current_coeffs['mode0']['a3']) + \" \" + str(current_coeffs['mode0']['a4']))\n",
    "\n",
    "    rmse = calculate_rmse(grouped_p1203_qoe, ground_truth_qoe_grouped_df)\n",
    "    print(\"Calcd RMSE: \" + str(rmse))\n",
    "    #print(\"Current min RMSE: \" + str(min_rmse))\n",
    "    return rmse\n",
    "\n",
    "initial_coeffs = [12,-3,41,0]\n",
    "\n",
    "bounds = [(1,15), (-5, 5), (0, 80), (0, 5)]\n",
    "#bounds = [(0,100), (0,100), (0,100), (0,100)]\n",
    "#bounds = [(-100,100), (-100,100), (-100,100), (-100,100)]\n",
    "#bounds = Bounds(-100,100)\n",
    "\n",
    "result2 = basinhopping(objective_function, initial_coeffs, minimizer_kwargs={'bounds':bounds, 'method':'L-BFGS-B'})\n",
    "print(\"optimised coeffs basinhopping:\" + str(result2.x))\n",
    "print(\"objective funciton value:\" + str(result2.fun))\n",
    "\n"
   ]
  },
  {
   "cell_type": "code",
   "execution_count": null,
   "metadata": {},
   "outputs": [],
   "source": [
    "#result = minimize(objective_function, initial_coeffs, method='L-BFGS-B', bounds=bounds)\n",
    "result = differential_evolution(objective_function, bounds, strategy='rand2bin', disp=True, workers=-1)\n",
    "\n",
    "print(\"Optimized coefficients:\", str(result.x))\n",
    "print(\"Objective function value:\", str(result.fun))\n"
   ]
  },
  {
   "cell_type": "code",
   "execution_count": 269,
   "metadata": {},
   "outputs": [
    {
     "name": "stdout",
     "output_type": "stream",
     "text": [
      "Optimized coefficients: [ 4.33641648 -0.77928507 77.83167214  0.40100906]\n",
      "Objective function value: 0.7149426108561312\n",
      "Optimization message: Optimization terminated successfully.\n",
      "optimised coeffs basinhopping: [12.59956757 -0.67298918 40.96289484  0.        ]\n",
      "objective funciton value basinhopping: 1.1278707996569666\n"
     ]
    }
   ],
   "source": [
    "print(\"Optimized coefficients:\", result.x)\n",
    "print(\"Objective function value:\", result.fun)\n",
    "print(\"Optimization message:\", result.message)\n",
    "print(\"optimised coeffs basinhopping:\", result2.x)\n",
    "print(\"objective funciton value basinhopping:\", result2.fun)"
   ]
  },
  {
   "cell_type": "code",
   "execution_count": 270,
   "metadata": {},
   "outputs": [],
   "source": [
    "# from concurrent.futures import ThreadPoolExecutor, as_completed\n",
    "# import sys\n",
    "\n",
    "# def evaluate_coeffs(a1, a2, a3, a4):\n",
    "#     # evaluate the coeffs and return the RMSE and optimised results\n",
    "#     new_coeffs = _COEFFS\n",
    "#     new_coeffs['mode0']['a1'] = a1\n",
    "#     new_coeffs['mode0']['a2'] = a2\n",
    "#     new_coeffs['mode0']['a3'] = a3\n",
    "#     new_coeffs['mode0']['a4'] = a4\n",
    "\n",
    "#     qoe_p1203_dict = calculate_p1203(new_coeffs)\n",
    "#     p1203_df = pd.DataFrame.from_dict(qoe_p1203_dict)\n",
    "\n",
    "#     # fine-tune aka train with BlueSpin and CasualSquat\n",
    "#     p1203_df = p1203_df.loc[p1203_df['object'].isin(['BlueSpin', 'CasualSquat'])]\n",
    "#     grouped_p1203_qoe = p1203_df.groupby(['object', 'qual']).mean()\n",
    "\n",
    "#     rmse = calculate_rmse(grouped_p1203_qoe, ground_truth_qoe_grouped_df)\n",
    "\n",
    "#     return rmse, new_coeffs, list(grouped_p1203_qoe['p1203_qoe'])\n",
    "\n",
    "\n",
    "# def finetune_coeffs():\n",
    "#     min_rmse = sys.float_info.max\n",
    "#     optimized_coeffs = {}\n",
    "#     optimized_p1203_qoe = []\n",
    "    \n",
    "#     # prepare to collect futures\n",
    "#     futures =[]\n",
    "#     results = []\n",
    "\n",
    "#     # use threadpoolexecutor to evaluate coeffs concurrently\n",
    "#     with ThreadPoolExecutor() as executor:\n",
    "#         for a1 in np.arange(1, 15, 0.1): # 0.1\n",
    "#             for a2 in np.arange(-5, 0, 0.1): # 0.1\n",
    "#                 for a3 in np.arange(0, 80, 0.5): # 0.5\n",
    "#                     for a4 in np.arange(0, 5, 0.1): # 0.1\n",
    "#                         futures.append(executor.submit(evaluate_coeffs, a1, a2, a3, a4))\n",
    "    \n",
    "#         # collect reslts as they complete\n",
    "#         for future in as_completed(futures):\n",
    "#             rmse, coeffs, p1203_qoe = future.result()\n",
    "#             results.append((rmse, coeffs, p1203_qoe))\n",
    "#             print(f\"Calculated RMSE: {rmse} | COEFFS: {coeffs}\")\n",
    "\n",
    "#             if rmse < min_rmse:\n",
    "#                 print(f\"==> NEW MIN RMSE: {rmse}\")\n",
    "#                 optimized_coeffs = coeffs\n",
    "#                 min_rmse = rmse\n",
    "#                 optimized_p1203_qoe = p1203_qoe\n",
    "\n",
    "#     return optimized_coeffs, optimized_p1203_qoe, min_rmse"
   ]
  },
  {
   "cell_type": "code",
   "execution_count": 271,
   "metadata": {},
   "outputs": [],
   "source": [
    "#optimized_coeffs, p1203_qoe_list, min_rmse =  finetune_coeffs()\n",
    "#print(\"timestamp\")\n",
    "#print(datetime.now())\n",
    "#print(\"FINAL RESULT\")\n",
    "#print(optimized_coeffs, p1203_qoe_list, min_rmse)"
   ]
  },
  {
   "cell_type": "code",
   "execution_count": 272,
   "metadata": {},
   "outputs": [],
   "source": [
    "#print(min_rmse)\n",
    "#print(optimized_coeffs)\n",
    "#print(ground_truth_qoe_df.groupby(['object', 'qual']).mean()['rate_scaled'])\n"
   ]
  },
  {
   "cell_type": "code",
   "execution_count": 273,
   "metadata": {},
   "outputs": [],
   "source": [
    "#==============================================================================================================================\n",
    "#FOUND THE BEST"
   ]
  },
  {
   "cell_type": "code",
   "execution_count": 274,
   "metadata": {},
   "outputs": [],
   "source": [
    "ground_truth_qoe_list = list(ground_truth_qoe_df.groupby(['object', 'qual']).mean()['rate_scaled'])\n",
    "ground_truth_qoe_list = ground_truth_qoe_list[0:10]"
   ]
  },
  {
   "cell_type": "code",
   "execution_count": 367,
   "metadata": {},
   "outputs": [
    {
     "name": "stdout",
     "output_type": "stream",
     "text": [
      "4.336416478108516\n",
      "-0.7792850717927374\n",
      "77.83167214453456\n",
      "0.40100906096356637\n",
      "{'u1': 72.61, 'u2': 0.32, 't1': 30.98, 't2': 1.29, 't3': 64.65, 'q1': 4.66, 'q2': -0.07, 'q3': 4.06, 'mode0': {'a1': np.float64(4.336416478108516), 'a2': np.float64(-0.7792850717927374), 'a3': np.float64(77.83167214453456), 'a4': np.float64(0.40100906096356637)}, 'mode1': {'a1': 5.00011566, 'a2': -1.19630824, 'a3': 41.3585049, 'a4': 0, 'c0': -0.91562479, 'c1': 0, 'c2': -3.28579526, 'c3': 20.4098663}, 'htv_1': -0.60293, 'htv_2': 2.12382, 'htv_3': -0.36936, 'htv_4': 0.03409}\n"
     ]
    },
    {
     "data": {
      "text/html": [
       "<div>\n",
       "<style scoped>\n",
       "    .dataframe tbody tr th:only-of-type {\n",
       "        vertical-align: middle;\n",
       "    }\n",
       "\n",
       "    .dataframe tbody tr th {\n",
       "        vertical-align: top;\n",
       "    }\n",
       "\n",
       "    .dataframe thead th {\n",
       "        text-align: right;\n",
       "    }\n",
       "</style>\n",
       "<table border=\"1\" class=\"dataframe\">\n",
       "  <thead>\n",
       "    <tr style=\"text-align: right;\">\n",
       "      <th></th>\n",
       "      <th></th>\n",
       "      <th>bitrate</th>\n",
       "      <th>p1203_qoe</th>\n",
       "    </tr>\n",
       "    <tr>\n",
       "      <th>object</th>\n",
       "      <th>qual</th>\n",
       "      <th></th>\n",
       "      <th></th>\n",
       "    </tr>\n",
       "  </thead>\n",
       "  <tbody>\n",
       "    <tr>\n",
       "      <th rowspan=\"5\" valign=\"top\">BlueSpin</th>\n",
       "      <th>r01</th>\n",
       "      <td>1.75</td>\n",
       "      <td>1.928742</td>\n",
       "    </tr>\n",
       "    <tr>\n",
       "      <th>r02</th>\n",
       "      <td>2.29</td>\n",
       "      <td>2.087968</td>\n",
       "    </tr>\n",
       "    <tr>\n",
       "      <th>r03</th>\n",
       "      <td>3.17</td>\n",
       "      <td>2.575855</td>\n",
       "    </tr>\n",
       "    <tr>\n",
       "      <th>r04</th>\n",
       "      <td>7.53</td>\n",
       "      <td>3.144809</td>\n",
       "    </tr>\n",
       "    <tr>\n",
       "      <th>r05</th>\n",
       "      <td>12.62</td>\n",
       "      <td>3.520730</td>\n",
       "    </tr>\n",
       "    <tr>\n",
       "      <th rowspan=\"5\" valign=\"top\">CasualSquat</th>\n",
       "      <th>r01</th>\n",
       "      <td>2.50</td>\n",
       "      <td>1.943189</td>\n",
       "    </tr>\n",
       "    <tr>\n",
       "      <th>r02</th>\n",
       "      <td>3.91</td>\n",
       "      <td>2.148677</td>\n",
       "    </tr>\n",
       "    <tr>\n",
       "      <th>r03</th>\n",
       "      <td>6.66</td>\n",
       "      <td>2.701151</td>\n",
       "    </tr>\n",
       "    <tr>\n",
       "      <th>r04</th>\n",
       "      <td>19.51</td>\n",
       "      <td>3.372134</td>\n",
       "    </tr>\n",
       "    <tr>\n",
       "      <th>r05</th>\n",
       "      <td>31.11</td>\n",
       "      <td>3.699730</td>\n",
       "    </tr>\n",
       "  </tbody>\n",
       "</table>\n",
       "</div>"
      ],
      "text/plain": [
       "                  bitrate  p1203_qoe\n",
       "object      qual                    \n",
       "BlueSpin    r01      1.75   1.928742\n",
       "            r02      2.29   2.087968\n",
       "            r03      3.17   2.575855\n",
       "            r04      7.53   3.144809\n",
       "            r05     12.62   3.520730\n",
       "CasualSquat r01      2.50   1.943189\n",
       "            r02      3.91   2.148677\n",
       "            r03      6.66   2.701151\n",
       "            r04     19.51   3.372134\n",
       "            r05     31.11   3.699730"
      ]
     },
     "execution_count": 367,
     "metadata": {},
     "output_type": "execute_result"
    }
   ],
   "source": [
    "#coeffs = {'u1': 72.61, 'u2': 0.32, 't1': 30.98, 't2': 1.29, 't3': 64.65, 'q1': 4.4, 'q2': -1.5, 'q3': 1.5, 'mode0': {'a1': 5, 'a2': -1.0, 'a3': 130, 'a4': 4.0}, 'mode1': {'a1': 5.00011566, 'a2': -1.19630824, 'a3': 41.3585049, 'a4': 0, 'c0': -0.91562479, 'c1': 0, 'c2': -3.28579526, 'c3': 20.4098663}, 'htv_1': -0.60293, 'htv_2': 2.12382, 'htv_3': -0.36936, 'htv_4': 0.03409}\n",
    "coeffs = _COEFFS\n",
    "\n",
    "print(result.x[0])\n",
    "print(result.x[1])\n",
    "print(result.x[2])\n",
    "print(result.x[3])\n",
    "\n",
    "coeffs['mode0']['a1'] = result.x[0]\n",
    "coeffs['mode0']['a2'] = result.x[1]\n",
    "coeffs['mode0']['a3'] = result.x[2]\n",
    "coeffs['mode0']['a4'] = result.x[3]\n",
    "   \n",
    "\n",
    "#coeffs = {'u1': 72.61, 'u2': 0.32, 't1': 30.98, 't2': 1.29, 't3': 64.65, 'q1': 4.66, 'q2': -0.07, 'q3': 4.06, 'mode0': {'a1': np.float64(3.0), 'a2': np.float64(-0.5), 'a3': np.int64(65), 'a4': np.float64(0.0)}, 'mode1': {'a1': 5.00011566, 'a2': -1.19630824, 'a3': 41.3585049, 'a4': 0, 'c0': -0.91562479, 'c1': 0, 'c2': -3.28579526, 'c3': 20.4098663}, 'htv_1': -0.60293, 'htv_2': 2.12382, 'htv_3': -0.36936, 'htv_4': 0.03409}\n",
    "\n",
    "#coeffs = optimized_coeffs\n",
    "print(coeffs)\n",
    "\n",
    "qoe_p1203_dict = calculate_p1203(coeffs)\n",
    "p1203_df = pd.DataFrame.from_dict(qoe_p1203_dict)\n",
    "\n",
    "p1203_df = p1203_df.loc[p1203_df['object'].isin(['BlueSpin', 'CasualSquat'])]\n",
    "grouped_p1203_qoe = p1203_df.groupby(['object', 'qual']).mean()\n",
    "grouped_p1203_qoe"
   ]
  },
  {
   "cell_type": "code",
   "execution_count": 368,
   "metadata": {},
   "outputs": [
    {
     "data": {
      "text/plain": [
       "Text(0, 0.5, 'Fine-tuned P1203 Mode 0')"
      ]
     },
     "execution_count": 368,
     "metadata": {},
     "output_type": "execute_result"
    },
    {
     "data": {
      "image/png": "[encoded data removed]",
      "text/plain": [
       "<Figure size 640x480 with 1 Axes>"
      ]
     },
     "metadata": {},
     "output_type": "display_data"
    }
   ],
   "source": [
    "p1203_qoe_list = list(grouped_p1203_qoe['p1203_qoe'])\n",
    "plt.scatter(ground_truth_qoe_list, p1203_qoe_list)\n",
    "plt.plot([1, 5], [1, 5], color = 'red')\n",
    "plt.axis([1, 5, 1, 5])\n",
    "plt.xlabel(\"Ground Truth\")\n",
    "plt.ylabel(\"Fine-tuned P1203 Mode 0\")"
   ]
  },
  {
   "cell_type": "code",
   "execution_count": 369,
   "metadata": {},
   "outputs": [
    {
     "name": "stdout",
     "output_type": "stream",
     "text": [
      "Spearmann\n",
      "              Ground truth    P.1203\n",
      "Ground truth      1.000000  0.951515\n",
      "P.1203            0.951515  1.000000\n",
      "(2, 2)\n",
      "0.9515151515151515\n"
     ]
    },
    {
     "data": {
      "image/png": "[encoded data removed]",
      "text/plain": [
       "<Figure size 640x480 with 1 Axes>"
      ]
     },
     "metadata": {},
     "output_type": "display_data"
    },
    {
     "name": "stdout",
     "output_type": "stream",
     "text": [
      "Pearson\n",
      "              Ground truth    P.1203\n",
      "Ground truth      1.000000  0.976858\n",
      "P.1203            0.976858  1.000000\n"
     ]
    },
    {
     "data": {
      "image/png": "[encoded data removed]",
      "text/plain": [
       "<Figure size 640x480 with 1 Axes>"
      ]
     },
     "metadata": {},
     "output_type": "display_data"
    }
   ],
   "source": [
    "#import seaborn as sns\n",
    "\n",
    "df_correlation = pd.DataFrame({\n",
    "    \"Ground truth\": ground_truth_qoe_list,\n",
    "    \"P.1203\": p1203_qoe_list\n",
    "})\n",
    "\n",
    "#corr_method = 'spearman'\n",
    "#corr = df_correlation.corr(method=corr_method)\n",
    "#sns.heatmap(corr, cmap='YlGnBu', annot = True)\n",
    "#plt.savefig('./figures/correlation_heatmap_' + corr_method + '_optimized.pdf')\n",
    "#plt.show()\n",
    "\n",
    "spear_corr = df_correlation.corr(method = 'spearman') #pearson\n",
    "print(\"Spearmann\")\n",
    "print(spear_corr)\n",
    "print(spear_corr.shape)\n",
    "print(spear_corr[\"Ground truth\"][\"P.1203\"])\n",
    "\n",
    "#sns.heatmap(corr, cmap='YlGnBu', annot = True)\n",
    "plt.imshow(spear_corr, cmap='YlGnBu')\n",
    "\n",
    "plt.text(0, 0, spear_corr['Ground truth']['Ground truth'], ha = \"center\", va = \"center\", color = \"w\")\n",
    "plt.text(1, 0, spear_corr['Ground truth']['P.1203'], ha = \"center\", va = \"center\", color = \"black\")\n",
    "plt.text(0, 1, spear_corr['P.1203']['Ground truth'], ha = \"center\", va = \"center\", color = \"black\")\n",
    "plt.text(1, 1, spear_corr['P.1203']['P.1203'], ha = \"center\", va = \"center\", color = \"w\")\n",
    "\n",
    "\n",
    "plt.savefig(\"./figures/correlation_spearman_optimized.pdf\")\n",
    "plt.show()\n",
    "\n",
    "pearson_corr = df_correlation.corr(method = 'pearson') #spearman\n",
    "print(\"Pearson\")\n",
    "print(pearson_corr)\n",
    "\n",
    "#sns.heatmap(corr, cmap='YlGnBu', annot = True)\n",
    "plt.imshow(pearson_corr, cmap='YlGnBu')\n",
    "\n",
    "plt.text(0, 0, pearson_corr['Ground truth']['Ground truth'], ha = \"center\", va = \"center\", color = \"w\")\n",
    "plt.text(1, 0, pearson_corr['Ground truth']['P.1203'], ha = \"center\", va = \"center\", color = \"black\")\n",
    "plt.text(0, 1, pearson_corr['P.1203']['Ground truth'], ha = \"center\", va = \"center\", color = \"black\")\n",
    "plt.text(1, 1, pearson_corr['P.1203']['P.1203'], ha = \"center\", va = \"center\", color = \"w\")\n",
    "\n",
    "\n",
    "plt.savefig(\"./figures/correlation_pearson_optimized.pdf\")\n",
    "plt.show()\n"
   ]
  },
  {
   "cell_type": "code",
   "execution_count": 370,
   "metadata": {},
   "outputs": [],
   "source": [
    "# corr_method = 'pearson'\n",
    "# corr = df_correlation.corr(method=corr_method)\n",
    "# sns.heatmap(corr, cmap='YlGnBu', annot = True)\n",
    "# plt.savefig('./figures/correlation_heatmap_' + corr_method + '_optimized.pdf')\n",
    "# plt.show()"
   ]
  },
  {
   "cell_type": "code",
   "execution_count": 371,
   "metadata": {},
   "outputs": [],
   "source": [
    "#==============================================================================================================================\n",
    "#VALIDATING with ReadyForWinter and FlowerDance"
   ]
  },
  {
   "cell_type": "code",
   "execution_count": 372,
   "metadata": {},
   "outputs": [
    {
     "data": {
      "text/html": [
       "<div>\n",
       "<style scoped>\n",
       "    .dataframe tbody tr th:only-of-type {\n",
       "        vertical-align: middle;\n",
       "    }\n",
       "\n",
       "    .dataframe tbody tr th {\n",
       "        vertical-align: top;\n",
       "    }\n",
       "\n",
       "    .dataframe thead th {\n",
       "        text-align: right;\n",
       "    }\n",
       "</style>\n",
       "<table border=\"1\" class=\"dataframe\">\n",
       "  <thead>\n",
       "    <tr style=\"text-align: right;\">\n",
       "      <th></th>\n",
       "      <th></th>\n",
       "      <th>bitrate</th>\n",
       "      <th>p1203_qoe</th>\n",
       "    </tr>\n",
       "    <tr>\n",
       "      <th>object</th>\n",
       "      <th>qual</th>\n",
       "      <th></th>\n",
       "      <th></th>\n",
       "    </tr>\n",
       "  </thead>\n",
       "  <tbody>\n",
       "    <tr>\n",
       "      <th rowspan=\"5\" valign=\"top\">FlowerDance</th>\n",
       "      <th>r01</th>\n",
       "      <td>2.66</td>\n",
       "      <td>1.943050</td>\n",
       "    </tr>\n",
       "    <tr>\n",
       "      <th>r02</th>\n",
       "      <td>4.24</td>\n",
       "      <td>2.168957</td>\n",
       "    </tr>\n",
       "    <tr>\n",
       "      <th>r03</th>\n",
       "      <td>7.12</td>\n",
       "      <td>2.710890</td>\n",
       "    </tr>\n",
       "    <tr>\n",
       "      <th>r04</th>\n",
       "      <td>22.81</td>\n",
       "      <td>3.413164</td>\n",
       "    </tr>\n",
       "    <tr>\n",
       "      <th>r05</th>\n",
       "      <td>39.35</td>\n",
       "      <td>3.753369</td>\n",
       "    </tr>\n",
       "    <tr>\n",
       "      <th rowspan=\"5\" valign=\"top\">ReadyForWinter</th>\n",
       "      <th>r01</th>\n",
       "      <td>1.97</td>\n",
       "      <td>1.944674</td>\n",
       "    </tr>\n",
       "    <tr>\n",
       "      <th>r02</th>\n",
       "      <td>2.58</td>\n",
       "      <td>2.107125</td>\n",
       "    </tr>\n",
       "    <tr>\n",
       "      <th>r03</th>\n",
       "      <td>3.61</td>\n",
       "      <td>2.591775</td>\n",
       "    </tr>\n",
       "    <tr>\n",
       "      <th>r04</th>\n",
       "      <td>9.34</td>\n",
       "      <td>3.211608</td>\n",
       "    </tr>\n",
       "    <tr>\n",
       "      <th>r05</th>\n",
       "      <td>16.59</td>\n",
       "      <td>3.571500</td>\n",
       "    </tr>\n",
       "  </tbody>\n",
       "</table>\n",
       "</div>"
      ],
      "text/plain": [
       "                     bitrate  p1203_qoe\n",
       "object         qual                    \n",
       "FlowerDance    r01      2.66   1.943050\n",
       "               r02      4.24   2.168957\n",
       "               r03      7.12   2.710890\n",
       "               r04     22.81   3.413164\n",
       "               r05     39.35   3.753369\n",
       "ReadyForWinter r01      1.97   1.944674\n",
       "               r02      2.58   2.107125\n",
       "               r03      3.61   2.591775\n",
       "               r04      9.34   3.211608\n",
       "               r05     16.59   3.571500"
      ]
     },
     "execution_count": 372,
     "metadata": {},
     "output_type": "execute_result"
    }
   ],
   "source": [
    "#coeffs = {'u1': 72.61, 'u2': 0.32, 't1': 30.98, 't2': 1.29, 't3': 64.65, 'q1': 4.4, 'q2': -1.5, 'q3': 1.5, 'mode0': {'a1': 5, 'a2': -1.0, 'a3': 130, 'a4': 4.0}, 'mode1': {'a1': 5.00011566, 'a2': -1.19630824, 'a3': 41.3585049, 'a4': 0, 'c0': -0.91562479, 'c1': 0, 'c2': -3.28579526, 'c3': 20.4098663}, 'htv_1': -0.60293, 'htv_2': 2.12382, 'htv_3': -0.36936, 'htv_4': 0.03409}\n",
    "\n",
    "qoe_p1203_dict = calculate_p1203(coeffs)\n",
    "qoe_p1203_df = pd.DataFrame(qoe_p1203_dict)\n",
    "qoe_p1203_df = qoe_p1203_df.loc[qoe_p1203_df['object'].isin(['ReadyForWinter', 'FlowerDance'])]\n",
    "                                # & ((qoe_p1203_df['qual'].isin(['r01']) & qoe_p1203_df['end_quality'].isin(['r1'])) |\n",
    "                                #  (qoe_p1203_df['start_quality'].isin(['r3']) & qoe_p1203_df['end_quality'].isin(['r3'])) |\n",
    "                                #  (qoe_p1203_df['start_quality'].isin(['r5']) & qoe_p1203_df['end_quality'].isin(['r5']))) ]\n",
    "qoe_validation = qoe_p1203_df.groupby(['object', 'qual']).mean()\n",
    "qoe_validation"
   ]
  },
  {
   "cell_type": "code",
   "execution_count": 373,
   "metadata": {},
   "outputs": [
    {
     "data": {
      "text/html": [
       "<div>\n",
       "<style scoped>\n",
       "    .dataframe tbody tr th:only-of-type {\n",
       "        vertical-align: middle;\n",
       "    }\n",
       "\n",
       "    .dataframe tbody tr th {\n",
       "        vertical-align: top;\n",
       "    }\n",
       "\n",
       "    .dataframe thead th {\n",
       "        text-align: right;\n",
       "    }\n",
       "</style>\n",
       "<table border=\"1\" class=\"dataframe\">\n",
       "  <thead>\n",
       "    <tr style=\"text-align: right;\">\n",
       "      <th></th>\n",
       "      <th></th>\n",
       "      <th>rate_scaled</th>\n",
       "    </tr>\n",
       "    <tr>\n",
       "      <th>object</th>\n",
       "      <th>qual</th>\n",
       "      <th></th>\n",
       "    </tr>\n",
       "  </thead>\n",
       "  <tbody>\n",
       "    <tr>\n",
       "      <th rowspan=\"5\" valign=\"top\">FlowerDance</th>\n",
       "      <th>r01</th>\n",
       "      <td>(1, 3, 2, 1, 2, 1, 2, 1, 2, 2, 2, 1, 2, 2, 1, ...</td>\n",
       "    </tr>\n",
       "    <tr>\n",
       "      <th>r02</th>\n",
       "      <td>(1, 3, 2, 2, 3, 3, 2, 1, 2, 2, 3, 3, 1, 3, 2, ...</td>\n",
       "    </tr>\n",
       "    <tr>\n",
       "      <th>r03</th>\n",
       "      <td>(2, 4, 3, 2, 4, 3, 3, 3, 2, 2, 3, 3, 2, 3, 4, ...</td>\n",
       "    </tr>\n",
       "    <tr>\n",
       "      <th>r04</th>\n",
       "      <td>(3, 4, 2, 3, 4, 3, 3, 4, 3, 3, 4, 3, 3, 3, 4, ...</td>\n",
       "    </tr>\n",
       "    <tr>\n",
       "      <th>r05</th>\n",
       "      <td>(3, 5, 3, 3, 5, 4, 4, 3, 4, 4, 3, 4, 3, 4, 4, ...</td>\n",
       "    </tr>\n",
       "    <tr>\n",
       "      <th rowspan=\"5\" valign=\"top\">ReadyForWinter</th>\n",
       "      <th>r01</th>\n",
       "      <td>(1, 2, 2, 1, 2, 3, 1, 2, 1, 1, 2, 2, 1, 3, 1, ...</td>\n",
       "    </tr>\n",
       "    <tr>\n",
       "      <th>r02</th>\n",
       "      <td>(2, 2, 2, 2, 2, 2, 2, 2, 2, 2, 2, 2, 2, 2, 2, ...</td>\n",
       "    </tr>\n",
       "    <tr>\n",
       "      <th>r03</th>\n",
       "      <td>(3, 3, 1, 3, 2, 3, 2, 2, 2, 3, 3, 2, 3, 3, 4, ...</td>\n",
       "    </tr>\n",
       "    <tr>\n",
       "      <th>r04</th>\n",
       "      <td>(3, 4, 2, 3, 3, 3, 3, 4, 2, 4, 4, 4, 3, 3, 5, ...</td>\n",
       "    </tr>\n",
       "    <tr>\n",
       "      <th>r05</th>\n",
       "      <td>(3, 4, 2, 4, 5, 4, 3, 4, 3, 3, 3, 4, 3, 4, 5, ...</td>\n",
       "    </tr>\n",
       "  </tbody>\n",
       "</table>\n",
       "</div>"
      ],
      "text/plain": [
       "                                                           rate_scaled\n",
       "object         qual                                                   \n",
       "FlowerDance    r01   (1, 3, 2, 1, 2, 1, 2, 1, 2, 2, 2, 1, 2, 2, 1, ...\n",
       "               r02   (1, 3, 2, 2, 3, 3, 2, 1, 2, 2, 3, 3, 1, 3, 2, ...\n",
       "               r03   (2, 4, 3, 2, 4, 3, 3, 3, 2, 2, 3, 3, 2, 3, 4, ...\n",
       "               r04   (3, 4, 2, 3, 4, 3, 3, 4, 3, 3, 4, 3, 3, 3, 4, ...\n",
       "               r05   (3, 5, 3, 3, 5, 4, 4, 3, 4, 4, 3, 4, 3, 4, 4, ...\n",
       "ReadyForWinter r01   (1, 2, 2, 1, 2, 3, 1, 2, 1, 1, 2, 2, 1, 3, 1, ...\n",
       "               r02   (2, 2, 2, 2, 2, 2, 2, 2, 2, 2, 2, 2, 2, 2, 2, ...\n",
       "               r03   (3, 3, 1, 3, 2, 3, 2, 2, 2, 3, 3, 2, 3, 3, 4, ...\n",
       "               r04   (3, 4, 2, 3, 3, 3, 3, 4, 2, 4, 4, 4, 3, 3, 5, ...\n",
       "               r05   (3, 4, 2, 4, 5, 4, 3, 4, 3, 3, 3, 4, 3, 4, 5, ..."
      ]
     },
     "execution_count": 373,
     "metadata": {},
     "output_type": "execute_result"
    }
   ],
   "source": [
    "# Get ground truth qoe for these sequences\n",
    "ground_truth_qoe_df = df_vpcc_filtered.loc[df_vpcc_filtered['object'].isin(['ReadyForWinter', 'FlowerDance'])]\n",
    "ground_truth_qoe_grouped_df = ground_truth_qoe_df.groupby(['object', 'qual']).aggregate(lambda x: tuple(x))\n",
    "ground_truth_qoe_grouped_df"
   ]
  },
  {
   "cell_type": "code",
   "execution_count": 374,
   "metadata": {},
   "outputs": [
    {
     "data": {
      "text/plain": [
       "np.float64(0.6739769891404065)"
      ]
     },
     "execution_count": 374,
     "metadata": {},
     "output_type": "execute_result"
    }
   ],
   "source": [
    "calculate_rmse(qoe_validation, ground_truth_qoe_grouped_df)"
   ]
  },
  {
   "cell_type": "code",
   "execution_count": 375,
   "metadata": {},
   "outputs": [
    {
     "data": {
      "text/plain": [
       "[1.7317073170731707,\n",
       " 2.325,\n",
       " 2.7948717948717947,\n",
       " 3.3658536585365852,\n",
       " 3.8048780487804876,\n",
       " 1.6585365853658536,\n",
       " 2.0,\n",
       " 2.675,\n",
       " 3.3902439024390243,\n",
       " 3.725]"
      ]
     },
     "execution_count": 375,
     "metadata": {},
     "output_type": "execute_result"
    }
   ],
   "source": [
    "ground_truth_list = list(ground_truth_qoe_df.groupby(['object', 'qual']).mean()['rate_scaled'])\n",
    "qoe_validation_list = list(qoe_validation['p1203_qoe'])\n",
    "ground_truth_list"
   ]
  },
  {
   "cell_type": "code",
   "execution_count": 376,
   "metadata": {},
   "outputs": [
    {
     "data": {
      "image/png": "[encoded data removed]",
      "text/plain": [
       "<Figure size 640x480 with 1 Axes>"
      ]
     },
     "metadata": {},
     "output_type": "display_data"
    }
   ],
   "source": [
    "plt.scatter(ground_truth_list, qoe_validation_list)\n",
    "plt.plot([1, 5], [1, 5], color='red')\n",
    "plt.axis([1, 5, 1, 5])\n",
    "plt.xlabel('Ground Truth')\n",
    "plt.ylabel('Fine-tuned P1203 Mode 0 - Validation')\n",
    "plt.show()"
   ]
  },
  {
   "cell_type": "code",
   "execution_count": 377,
   "metadata": {},
   "outputs": [
    {
     "data": {
      "image/png": "[encoded data removed]",
      "text/plain": [
       "<Figure size 640x480 with 1 Axes>"
      ]
     },
     "metadata": {},
     "output_type": "display_data"
    },
    {
     "data": {
      "image/png": "[encoded data removed]",
      "text/plain": [
       "<Figure size 640x480 with 1 Axes>"
      ]
     },
     "metadata": {},
     "output_type": "display_data"
    }
   ],
   "source": [
    "corr_method = 'spearman'\n",
    "corr_df = pd.DataFrame({\n",
    "    'Fine-tuned P1203': qoe_validation_list,\n",
    "    'Ground truth': ground_truth_list\n",
    "})\n",
    "\n",
    "corr_methods = ['spearman', 'pearson']\n",
    "\n",
    "for corr_method in corr_methods:\n",
    "    corr = corr_df.corr(method=corr_method)\n",
    "    #sns.heatmap(corr, cmap='YlGnBu', annot = True)\n",
    "    plt.imshow(corr, cmap='YlGnBu')\n",
    "\n",
    "    plt.text(0, 0, corr['Ground truth']['Ground truth'], ha = \"center\", va = \"center\", color = \"w\")\n",
    "    plt.text(1, 0, corr['Ground truth']['Fine-tuned P1203'], ha = \"center\", va = \"center\", color = \"black\")\n",
    "    plt.text(0, 1, corr['Fine-tuned P1203']['Ground truth'], ha = \"center\", va = \"center\", color = \"black\")\n",
    "    plt.text(1, 1, corr['Fine-tuned P1203']['Fine-tuned P1203'], ha = \"center\", va = \"center\", color = \"w\")\n",
    "\n",
    "    plt.savefig('./figures/correlation_heatmap_' + corr_method + '_validation.pdf')\n",
    "    plt.title(corr_method)\n",
    "    plt.show()"
   ]
  },
  {
   "cell_type": "code",
   "execution_count": 378,
   "metadata": {},
   "outputs": [
    {
     "data": {
      "text/html": [
       "<div>\n",
       "<style scoped>\n",
       "    .dataframe tbody tr th:only-of-type {\n",
       "        vertical-align: middle;\n",
       "    }\n",
       "\n",
       "    .dataframe tbody tr th {\n",
       "        vertical-align: top;\n",
       "    }\n",
       "\n",
       "    .dataframe thead th {\n",
       "        text-align: right;\n",
       "    }\n",
       "</style>\n",
       "<table border=\"1\" class=\"dataframe\">\n",
       "  <thead>\n",
       "    <tr style=\"text-align: right;\">\n",
       "      <th></th>\n",
       "      <th></th>\n",
       "      <th>bitrate</th>\n",
       "      <th>p1203_qoe</th>\n",
       "    </tr>\n",
       "    <tr>\n",
       "      <th>object</th>\n",
       "      <th>qual</th>\n",
       "      <th></th>\n",
       "      <th></th>\n",
       "    </tr>\n",
       "  </thead>\n",
       "  <tbody>\n",
       "    <tr>\n",
       "      <th rowspan=\"5\" valign=\"top\">FlowerDance</th>\n",
       "      <th>r01</th>\n",
       "      <td>2.66</td>\n",
       "      <td>3.367212</td>\n",
       "    </tr>\n",
       "    <tr>\n",
       "      <th>r02</th>\n",
       "      <td>4.24</td>\n",
       "      <td>4.185910</td>\n",
       "    </tr>\n",
       "    <tr>\n",
       "      <th>r03</th>\n",
       "      <td>7.12</td>\n",
       "      <td>4.837059</td>\n",
       "    </tr>\n",
       "    <tr>\n",
       "      <th>r04</th>\n",
       "      <td>22.81</td>\n",
       "      <td>4.886327</td>\n",
       "    </tr>\n",
       "    <tr>\n",
       "      <th>r05</th>\n",
       "      <td>39.35</td>\n",
       "      <td>4.895940</td>\n",
       "    </tr>\n",
       "    <tr>\n",
       "      <th rowspan=\"5\" valign=\"top\">ReadyForWinter</th>\n",
       "      <th>r01</th>\n",
       "      <td>1.97</td>\n",
       "      <td>3.274671</td>\n",
       "    </tr>\n",
       "    <tr>\n",
       "      <th>r02</th>\n",
       "      <td>2.58</td>\n",
       "      <td>4.036941</td>\n",
       "    </tr>\n",
       "    <tr>\n",
       "      <th>r03</th>\n",
       "      <td>3.61</td>\n",
       "      <td>4.772641</td>\n",
       "    </tr>\n",
       "    <tr>\n",
       "      <th>r04</th>\n",
       "      <td>9.34</td>\n",
       "      <td>4.865316</td>\n",
       "    </tr>\n",
       "    <tr>\n",
       "      <th>r05</th>\n",
       "      <td>16.59</td>\n",
       "      <td>4.895940</td>\n",
       "    </tr>\n",
       "  </tbody>\n",
       "</table>\n",
       "</div>"
      ],
      "text/plain": [
       "                     bitrate  p1203_qoe\n",
       "object         qual                    \n",
       "FlowerDance    r01      2.66   3.367212\n",
       "               r02      4.24   4.185910\n",
       "               r03      7.12   4.837059\n",
       "               r04     22.81   4.886327\n",
       "               r05     39.35   4.895940\n",
       "ReadyForWinter r01      1.97   3.274671\n",
       "               r02      2.58   4.036941\n",
       "               r03      3.61   4.772641\n",
       "               r04      9.34   4.865316\n",
       "               r05     16.59   4.895940"
      ]
     },
     "execution_count": 378,
     "metadata": {},
     "output_type": "execute_result"
    }
   ],
   "source": [
    "# original P1203\n",
    "_COEFFS = {\n",
    "        \"u1\": 72.61,\n",
    "        \"u2\": 0.32,\n",
    "        \"t1\": 30.98,\n",
    "        \"t2\": 1.29,\n",
    "        \"t3\": 64.65,\n",
    "        \"q1\": 4.66,\n",
    "        \"q2\": -0.07,\n",
    "        \"q3\": 4.06,\n",
    "        \"mode0\": {\n",
    "            \"a1\": 11.9983519,\n",
    "            \"a2\": -2.99991847,\n",
    "            \"a3\": 41.2475074001,\n",
    "            \"a4\": 0.13183165961,\n",
    "        },\n",
    "        \"mode1\": {\n",
    "            \"a1\": 5.00011566,\n",
    "            \"a2\": -1.19630824,\n",
    "            \"a3\": 41.3585049,\n",
    "            \"a4\": 0,\n",
    "            \"c0\": -0.91562479,\n",
    "            \"c1\": 0,\n",
    "            \"c2\": -3.28579526,\n",
    "            \"c3\": 20.4098663,\n",
    "        },\n",
    "        \"htv_1\": -0.60293,\n",
    "        \"htv_2\": 2.12382,\n",
    "        \"htv_3\": -0.36936,\n",
    "        \"htv_4\": 0.03409,\n",
    "    }\n",
    "\n",
    "qoe_p1203_dict = calculate_p1203(_COEFFS)\n",
    "qoe_p1203_df = pd.DataFrame(qoe_p1203_dict)\n",
    "qoe_p1203_df = qoe_p1203_df.loc[qoe_p1203_df['object'].isin(['ReadyForWinter', 'FlowerDance'])]\n",
    "                                #  & \n",
    "                                # ((qoe_p1203_df['start_quality'].isin(['r1']) & qoe_p1203_df['end_quality'].isin(['r1'])) |\n",
    "                                #  (qoe_p1203_df['start_quality'].isin(['r3']) & qoe_p1203_df['end_quality'].isin(['r3'])) |\n",
    "                                #  (qoe_p1203_df['start_quality'].isin(['r5']) & qoe_p1203_df['end_quality'].isin(['r5']))) ]\n",
    "qoe_original_p1203 = qoe_p1203_df.groupby(['object', 'qual']).mean()\n",
    "qoe_original_p1203"
   ]
  },
  {
   "cell_type": "code",
   "execution_count": 379,
   "metadata": {},
   "outputs": [
    {
     "name": "stdout",
     "output_type": "stream",
     "text": [
      "1.7974622597737144\n"
     ]
    }
   ],
   "source": [
    "print(calculate_rmse(qoe_original_p1203, ground_truth_qoe_grouped_df))\n",
    "qoe_original_p1203_list = list(qoe_original_p1203['p1203_qoe'])"
   ]
  },
  {
   "cell_type": "code",
   "execution_count": 380,
   "metadata": {},
   "outputs": [
    {
     "data": {
      "image/png": "[encoded data removed]",
      "text/plain": [
       "<Figure size 640x480 with 1 Axes>"
      ]
     },
     "metadata": {},
     "output_type": "display_data"
    }
   ],
   "source": [
    "plt.scatter(ground_truth_list, qoe_original_p1203_list)\n",
    "plt.plot([1, 5], [1, 5], color='red')\n",
    "plt.axis([1, 5, 1, 5])\n",
    "plt.xlabel('Ground Truth')\n",
    "plt.ylabel('Original P1203 Mode 0')\n",
    "plt.show()"
   ]
  },
  {
   "cell_type": "code",
   "execution_count": 381,
   "metadata": {},
   "outputs": [
    {
     "data": {
      "image/png": "[encoded data removed]",
      "text/plain": [
       "<Figure size 640x480 with 1 Axes>"
      ]
     },
     "metadata": {},
     "output_type": "display_data"
    },
    {
     "data": {
      "image/png": "[encoded data removed]",
      "text/plain": [
       "<Figure size 640x480 with 1 Axes>"
      ]
     },
     "metadata": {},
     "output_type": "display_data"
    }
   ],
   "source": [
    "corr_all_df = pd.DataFrame({\n",
    "    \"Ground truth\": ground_truth_list,\n",
    "    # \"Fine-tuned P1203\": qoe_validation_list,\n",
    "    \"Original P1203\": qoe_original_p1203_list\n",
    "})\n",
    "\n",
    "corr_methods = ['spearman', 'pearson']\n",
    "for corr_method in corr_methods:\n",
    "    corr = corr_all_df.corr(method=corr_method)\n",
    "    #sns.heatmap(corr, cmap='YlGnBu', annot=True)\n",
    "    plt.imshow(corr, cmap='YlGnBu')\n",
    "\n",
    "    plt.text(0, 0, corr['Ground truth']['Ground truth'], ha = \"center\", va = \"center\", color = \"w\")\n",
    "    plt.text(1, 0, corr['Ground truth']['Original P1203'], ha = \"center\", va = \"center\", color = \"black\")\n",
    "    plt.text(0, 1, corr['Original P1203']['Ground truth'], ha = \"center\", va = \"center\", color = \"black\")\n",
    "    plt.text(1, 1, corr['Original P1203']['Original P1203'], ha = \"center\", va = \"center\", color = \"w\")\n",
    "    \n",
    "    plt.title(corr_method)\n",
    "    plt.show()"
   ]
  },
  {
   "cell_type": "markdown",
   "metadata": {},
   "source": [
    "# Point cloud density"
   ]
  },
  {
   "cell_type": "code",
   "execution_count": 382,
   "metadata": {},
   "outputs": [
    {
     "ename": "ModuleNotFoundError",
     "evalue": "No module named 'open3d'",
     "output_type": "error",
     "traceback": [
      "\u001b[0;31m---------------------------------------------------------------------------\u001b[0m",
      "\u001b[0;31mModuleNotFoundError\u001b[0m                       Traceback (most recent call last)",
      "\u001b[0;32m/tmp/ipykernel_1158311/3994751115.py\u001b[0m in \u001b[0;36m<module>\u001b[0;34m\u001b[0m\n\u001b[1;32m      1\u001b[0m \u001b[0;32mimport\u001b[0m \u001b[0mnumpy\u001b[0m \u001b[0;32mas\u001b[0m \u001b[0mnp\u001b[0m\u001b[0;34m\u001b[0m\u001b[0;34m\u001b[0m\u001b[0m\n\u001b[0;32m----> 2\u001b[0;31m \u001b[0;32mimport\u001b[0m \u001b[0mopen3d\u001b[0m \u001b[0;32mas\u001b[0m \u001b[0mo3d\u001b[0m\u001b[0;34m\u001b[0m\u001b[0;34m\u001b[0m\u001b[0m\n\u001b[0m",
      "\u001b[0;31mModuleNotFoundError\u001b[0m: No module named 'open3d'"
     ]
    }
   ],
   "source": [
    "import numpy as np\n",
    "import open3d as o3d"
   ]
  },
  {
   "cell_type": "code",
   "execution_count": null,
   "metadata": {},
   "outputs": [],
   "source": [
    "\"\"\"\n",
    "Provides methods for calculating point cloud densities.\n",
    "All methods can handle instances of PLYObject or list or ndarray instances of lists of vertices.\n",
    "\"\"\"\n",
    "\n",
    "import numpy as np\n",
    "import scipy.spatial\n",
    "\n",
    "def getRealDensityFromPlane(ply, planeParams):\n",
    "\t\"\"\"\n",
    "\tCalculates the point density from a given PLY plane object (or array of vertices).\n",
    "\n",
    "\tFor calculating the correct point density, the given plane object will be z-aligned.\n",
    "\tFor this process, the fitted plane parameters need to be specified. If the passed\n",
    "\tobject is a PLYObject instance and has a fitPlane method, you can set planeParams to\n",
    "\tNone. The plane fitting will then be done automatically.\n",
    "\n",
    "\t:param ply: Instance of PLYObject or list of vertices. If passed as ndarray (or list), a (N,3) array is expected.\n",
    "\t:param planeParams: Tuple of plane params fitted to the vertices. Set to None if the first parameter is a PLYObject instance and let the plane fitting run automatically.\n",
    "\n",
    "\t:returns: Point density for the given plane. The unit is depending on the unit of the passed vertices.\n",
    "\t\"\"\"\n",
    "\n",
    "\tif planeParams is None:\n",
    "\t\tfitPlaneMethod = getattr(ply, 'fitPlane', None)\n",
    "\n",
    "\t\tif callable(fitPlaneMethod):\n",
    "\t\t\tplaneParams = fitPlaneMethod()\n",
    "\t\telse:\n",
    "\t\t\traise ValueError('No plane parameters given and unable to fit plane to vertices')\n",
    "\telif len(planeParams) != 4:\n",
    "\t\traise ValueError('Invalid number of values for plane parameters')\n",
    "\n",
    "\tvertices = _getVertices(ply)\n",
    "\n",
    "\tzAxis = np.array([0.0, 0.0, 1.0])\n",
    "\tplaneNormal = np.array(planeParams[:3])\n",
    "\tplaneNormalLength = np.linalg.norm(planeNormal)\n",
    "\tunitPlaneNormal = planeNormal / planeNormalLength\n",
    "\n",
    "\tvec = planeNormal / planeNormalLength**2\n",
    "\n",
    "\t# A = unitPlaneNormal\n",
    "\t# B = zAxis\n",
    "\n",
    "\t# Shift plane to origin\n",
    "\tvertices += vec\n",
    "\n",
    "\t# Find roation aligning the plane normal vector to Z axis\n",
    "\tvecDot = unitPlaneNormal.dot(zAxis)\n",
    "\tvecCross = np.cross(zAxis, unitPlaneNormal)\n",
    "\tvecCrossNorm = np.linalg.norm(vecCross)\n",
    "\n",
    "\tG = np.array([[vecDot, -1 * vecCrossNorm, 0], [vecCrossNorm, vecDot, 0], [0, 0, 1]])\n",
    "\n",
    "\tu = unitPlaneNormal\n",
    "\tv = (zAxis - vecDot * unitPlaneNormal) / np.linalg.norm(zAxis - vecDot * unitPlaneNormal)\n",
    "\tw = vecCross\n",
    "\tFinv = np.column_stack([u, v, w])\n",
    "\n",
    "\tU = Finv.dot(G.dot(np.linalg.inv(Finv)))\n",
    "\n",
    "\t# Apply rotation to vertices to align them with axis\n",
    "\tvertices = U.dot(vertices.T).T\n",
    "\n",
    "\t# Use naiv method to get density\n",
    "\thull = scipy.spatial.ConvexHull(vertices[:, :2])\n",
    "\n",
    "\t# Note: As the hull was calculated in 2D space,\n",
    "\t# the hull 'volume' is actually the surface area.\n",
    "\treturn vertices.shape[0] / hull.volume\n",
    "\n",
    "def getNaivDensityFromPlane(ply, alignedAxis=2):\n",
    "\t\"\"\"\n",
    "\tCalculates the point density a given PLY plane object (or array of vertices) assuming the plane is nearly aligned to a given axis.\n",
    "\n",
    "\tThe vertices are simply projected on the coordinate plane they are nearly aligned to.\n",
    "\tThis should give a good estimation of the point density.\n",
    "\n",
    "\t:param ply: Instance of PLYObject or list of vertices. If passed as ndarray (or list), a (N,3) array is expected.\n",
    "\t:param alignedAxis: The axis the plane object is nearly perpendicular to. Coordinates for this axis will be set to 0.\n",
    "\n",
    "\t:returns: Point density for the given plane. The unit is depending on the unit of the passed vertices.\n",
    "\t\"\"\"\n",
    "\n",
    "\tidx = np.array([0, 1, 2])\n",
    "\tidx = idx[idx != alignedAxis]\n",
    "\tv = _getVertices(ply)\n",
    "\tv = v[:, idx]\n",
    "\n",
    "\thull = scipy.spatial.ConvexHull(v)\n",
    "\n",
    "\t# Note: As the hull was calculated in 2D space,\n",
    "\t# the hull 'volume' is actually the surface area.\n",
    "\treturn v.shape[0] / hull.volume\n",
    "\n",
    "def getRealDensityFromObject(ply):\n",
    "\t\"\"\"\n",
    "\tCalculates the point density a given PLY object (or array of vertices).\n",
    "\n",
    "\t:param ply: Instance of PLYObject or list of vertices. If passed as ndarray (or list), a (N,d) array is expected. N is the number of points, d is the dimensionality.\n",
    "\n",
    "\t:returns: Point density for the given object. The unit is depending on the unit of the passed vertices.\n",
    "\t\"\"\"\n",
    "\tvertices = _getVertices(ply)\n",
    "\thull = scipy.spatial.ConvexHull(vertices)\n",
    "\n",
    "\t# Note: As the hull was calculated in 2D space,\n",
    "\t# the hull 'volume' is actually the surface area.\n",
    "\treturn vertices.shape[0] / hull.volume\n",
    "\n",
    "def _getVertices(ply):\n",
    "\tgetVerticesMethod = getattr(ply, 'getVertices', None)\n",
    "\n",
    "\tif callable(getVerticesMethod):\n",
    "\t\tvertices = getVerticesMethod().T\n",
    "\telif isinstance(ply, np.ndarray):\n",
    "\t\tvertices = ply\n",
    "\telse:\n",
    "\t\tvertices = np.array(ply)\n",
    "\n",
    "\t# print(\"==> {}\".format(vertices))\n",
    "\n",
    "\tif len(vertices.shape) != 2 or vertices.shape[1] != 3:\n",
    "\t\traise ValueError('Invalid number of dimensions (transpose necesary?)')\n",
    "\n",
    "\treturn vertices"
   ]
  },
  {
   "cell_type": "code",
   "execution_count": null,
   "metadata": {},
   "outputs": [],
   "source": [
    "ply_file_root = '/Users/minhkstn/Downloads/BlueSpin_r0'\n",
    "for i in np.arange(1,6):\n",
    "    ply_file = ply_file_root + str(i) + '_0000.ply'\n",
    "    pcd = o3d.io.read_point_cloud(ply_file)\n",
    "    density = getRealDensityFromObject(pcd.points)\n",
    "\n",
    "    print(\"quality {}: {}\".format(i, density))"
   ]
  },
  {
   "cell_type": "code",
   "execution_count": null,
   "metadata": {},
   "outputs": [],
   "source": [
    "from plyfile import PlyData, PlyElement\n",
    "ply_file = '/Users/minhkstn/Downloads/binary_BlueSpin_dec_0000.ply'\n",
    "# f_out = open(\"/Users/minhkstn/Downloads/BlueSpin_dec_0000.ply\", 'w+')\n",
    "\n",
    "# f_in = open(ply_file, 'r')\n",
    "\n",
    "# data = PlyData.read(f_in)\n",
    "# data.text = True\n",
    "# data.write(f_out)\n",
    "# f_in.close()\n",
    "# f_out.close()"
   ]
  },
  {
   "cell_type": "code",
   "execution_count": null,
   "metadata": {},
   "outputs": [],
   "source": [
    "data = PlyData.read(ply_file)\n",
    "data.text = True\n",
    "data.comments = data.comments + ['original path: somefile.ply']\n",
    "data.write('newfile.ply')"
   ]
  },
  {
   "cell_type": "code",
   "execution_count": null,
   "metadata": {},
   "outputs": [],
   "source": [
    "pcd = o3d.io.read_point_cloud('newfile.ply')\n",
    "getRealDensityFromObject(pcd.points)"
   ]
  },
  {
   "cell_type": "code",
   "execution_count": null,
   "metadata": {},
   "outputs": [],
   "source": [
    "print(np.asarray(pcd.points))"
   ]
  },
  {
   "cell_type": "code",
   "execution_count": null,
   "metadata": {},
   "outputs": [],
   "source": [
    "# AllPoints = np.asarray(pcd.points)\n",
    "# R = 100; \n",
    "# density = []\n",
    "# for i in range(len(AllPoints)):\n",
    "#     distances = []\n",
    "#     centroid = AllPoints[i]\n",
    "#     distances.append(np.linalg.norm(centroid - AllPoints, axis=1))\n",
    "#     # print(distances[-1])\n",
    "#     density.append(sum(i < R for i in distances[-1]) - 1)\n",
    "# density"
   ]
  },
  {
   "cell_type": "code",
   "execution_count": null,
   "metadata": {},
   "outputs": [],
   "source": [
    "import os\n",
    "rootpath = '/home/shared2/spirit/subjective_test/raw_data/UVG-VPC/vpcc'\n",
    "videos = ['BlueSpin', 'FlowerDance', 'HelloGoodbye', 'ReadyForWinter']\n",
    "rates = ['r01-dec', 'r02-dec', 'r03-dec', 'r04-dec', 'r05-dec']\n",
    "mypaths = [os.path.join(rootpath, video, rate) for video in videos for rate in rates]\n",
    "mypaths"
   ]
  },
  {
   "cell_type": "code",
   "execution_count": null,
   "metadata": {},
   "outputs": [],
   "source": [
    "rootpath = '/home/shared2/spirit/subjective_test/raw_data/UVG-VPC/vpcc'\n",
    "videos = ['BlueSpin', 'FlowerDance', 'HelloGoodbye', 'ReadyForWinter']\n",
    "rates = ['r01-dec/', 'r02-dec/', 'r03-dec/', 'r04-dec/', 'r05-dec/']\n",
    "# mypaths = [os.path.join(rootpath, video, rate) for video in videos for rate in rates]\n",
    "\n",
    "for video in videos:\n",
    "    firstpath = os.path.join(rootpath, video) \n",
    "    mypaths = [os.path.join(firstpath, rate) for rate in rates]\n",
    "    for mypath in mypaths:\n",
    "\n",
    "        folderToMake = \"-binary\"\n",
    "        pathToMake = os.path.join(firstpath, mypath.split('/')[-2] + folderToMake)\n",
    "        print(pathToMake)"
   ]
  },
  {
   "cell_type": "code",
   "execution_count": null,
   "metadata": {},
   "outputs": [],
   "source": []
  }
 ],
 "metadata": {
  "kernelspec": {
   "display_name": "Python 3",
   "language": "python",
   "name": "python3"
  },
  "language_info": {
   "codemirror_mode": {
    "name": "ipython",
    "version": 3
   },
   "file_extension": ".py",
   "mimetype": "text/x-python",
   "name": "python",
   "nbconvert_exporter": "python",
   "pygments_lexer": "ipython3",
   "version": "3.10.12"
  },
  "orig_nbformat": 4
 },
 "nbformat": 4,
 "nbformat_minor": 2
}
