{
 "cells": [
  {
   "cell_type": "markdown",
   "id": "27ddfdf0",
   "metadata": {},
   "source": [
    "# Train the ML models on the new Draco dataset"
   ]
  },
  {
   "cell_type": "code",
   "execution_count": 14,
   "id": "c72f98c9",
   "metadata": {},
   "outputs": [],
   "source": [
    "draco_csv_filepath = \"draco-qoe-dataset/ratings.csv\"\n",
    "results_folder = \"./results_shivi\""
   ]
  },
  {
   "cell_type": "code",
   "execution_count": 15,
   "id": "d8f8515b",
   "metadata": {},
   "outputs": [],
   "source": [
    "quantization_level_to_draco_QP = {\n",
    "    0: 8,\n",
    "    1: 9,\n",
    "    2: 10,\n",
    "    3: 11,\n",
    "    4: 16\n",
    "}\n",
    "\n",
    "# these distances are in \"units\" and idk what that is exactly\n",
    "draco_distance_map = {\n",
    "    'near' : 2.5,\n",
    "    'medium' : 4.5,\n",
    "    'far' : 8.5\n",
    "}"
   ]
  },
  {
   "cell_type": "code",
   "execution_count": 16,
   "id": "82e87b6c",
   "metadata": {},
   "outputs": [],
   "source": [
    "# Remove outliers using the boxplot method\n",
    "def boxplot_outlier_filter_draco(frame):\n",
    "    \"\"\"\n",
    "    Outlier filter using interquantile range (filter below Q1 - 1.5 IQR and above Q3 + 1.5 IQR)\n",
    "\n",
    "    :param frame: data frame\n",
    "    :return: filtered frame\n",
    "    \"\"\"\n",
    "    q1 = frame.quantile(0.25, numeric_only=True)['qoe']\n",
    "    q3 = frame.quantile(0.75, numeric_only=True)['qoe']\n",
    "\n",
    "    # interquantile range\n",
    "    iqr = q3 - q1\n",
    "    fence_low = q1 - (1.5 * iqr)\n",
    "    fence_high = q3 + (1.5 * iqr)\n",
    "\n",
    "    # filter the frame\n",
    "    filtered = (frame['qoe'] >= fence_low) & (frame['qoe'] <= fence_high)\n",
    "    return frame.loc[filtered]"
   ]
  },
  {
   "cell_type": "code",
   "execution_count": 17,
   "id": "c6170429",
   "metadata": {},
   "outputs": [],
   "source": [
    "import pandas as pd\n",
    "import numpy as np"
   ]
  },
  {
   "cell_type": "code",
   "execution_count": 18,
   "id": "a3c15fd7",
   "metadata": {},
   "outputs": [
    {
     "data": {
      "application/vnd.microsoft.datawrangler.viewer.v0+json": {
       "columns": [
        {
         "name": "index",
         "rawType": "int64",
         "type": "integer"
        },
        {
         "name": "participant",
         "rawType": "int64",
         "type": "integer"
        },
        {
         "name": "object",
         "rawType": "object",
         "type": "string"
        },
        {
         "name": "distance",
         "rawType": "object",
         "type": "string"
        },
        {
         "name": "frame_rate",
         "rawType": "int64",
         "type": "integer"
        },
        {
         "name": "encode_method",
         "rawType": "object",
         "type": "string"
        },
        {
         "name": "quantization_level_index",
         "rawType": "int64",
         "type": "integer"
        },
        {
         "name": "qoe",
         "rawType": "int64",
         "type": "integer"
        },
        {
         "name": "duration",
         "rawType": "int64",
         "type": "integer"
        },
        {
         "name": "size",
         "rawType": "int64",
         "type": "integer"
        },
        {
         "name": "order",
         "rawType": "int64",
         "type": "integer"
        }
       ],
       "ref": "a12c636a-25b8-45a6-bc05-72523b2fe512",
       "rows": [
        [
         "0",
         "0",
         "dancer",
         "far",
         "10",
         "V-PCC",
         "0",
         "3",
         "4451",
         "493",
         "22"
        ],
        [
         "1",
         "0",
         "dancer",
         "far",
         "10",
         "V-PCC",
         "1",
         "2",
         "4467",
         "493",
         "48"
        ],
        [
         "2",
         "0",
         "dancer",
         "far",
         "10",
         "V-PCC",
         "2",
         "2",
         "6004",
         "493",
         "52"
        ],
        [
         "3",
         "0",
         "dancer",
         "far",
         "10",
         "V-PCC",
         "3",
         "3",
         "4118",
         "493",
         "37"
        ],
        [
         "4",
         "0",
         "dancer",
         "far",
         "10",
         "V-PCC",
         "4",
         "4",
         "4370",
         "493",
         "11"
        ],
        [
         "5",
         "0",
         "dancer",
         "far",
         "15",
         "V-PCC",
         "0",
         "3",
         "4443",
         "493",
         "4"
        ],
        [
         "6",
         "0",
         "dancer",
         "far",
         "15",
         "V-PCC",
         "1",
         "4",
         "3921",
         "493",
         "38"
        ],
        [
         "7",
         "0",
         "dancer",
         "far",
         "15",
         "V-PCC",
         "2",
         "3",
         "4469",
         "493",
         "27"
        ],
        [
         "8",
         "0",
         "dancer",
         "far",
         "15",
         "V-PCC",
         "3",
         "4",
         "4045",
         "493",
         "33"
        ],
        [
         "9",
         "0",
         "dancer",
         "far",
         "15",
         "V-PCC",
         "4",
         "4",
         "4375",
         "493",
         "43"
        ],
        [
         "10",
         "0",
         "dancer",
         "far",
         "30",
         "Draco",
         "0",
         "4",
         "4534",
         "493",
         "26"
        ],
        [
         "11",
         "0",
         "dancer",
         "far",
         "30",
         "Draco",
         "1",
         "3",
         "5034",
         "493",
         "49"
        ],
        [
         "12",
         "0",
         "dancer",
         "far",
         "30",
         "Draco",
         "2",
         "5",
         "4474",
         "493",
         "40"
        ],
        [
         "13",
         "0",
         "dancer",
         "far",
         "30",
         "Draco",
         "3",
         "4",
         "4268",
         "493",
         "47"
        ],
        [
         "14",
         "0",
         "dancer",
         "far",
         "30",
         "Draco",
         "4",
         "3",
         "4215",
         "493",
         "57"
        ],
        [
         "15",
         "0",
         "dancer",
         "far",
         "30",
         "V-PCC",
         "0",
         "4",
         "4383",
         "493",
         "28"
        ],
        [
         "16",
         "0",
         "dancer",
         "far",
         "30",
         "V-PCC",
         "1",
         "4",
         "4591",
         "493",
         "36"
        ],
        [
         "17",
         "0",
         "dancer",
         "far",
         "30",
         "V-PCC",
         "2",
         "4",
         "4848",
         "493",
         "45"
        ],
        [
         "18",
         "0",
         "dancer",
         "far",
         "30",
         "V-PCC",
         "3",
         "5",
         "4088",
         "493",
         "44"
        ],
        [
         "19",
         "0",
         "dancer",
         "far",
         "30",
         "V-PCC",
         "4",
         "4",
         "6128",
         "493",
         "14"
        ],
        [
         "20",
         "0",
         "dancer",
         "medium",
         "10",
         "V-PCC",
         "0",
         "2",
         "4356",
         "493",
         "19"
        ],
        [
         "21",
         "0",
         "dancer",
         "medium",
         "10",
         "V-PCC",
         "1",
         "3",
         "4308",
         "493",
         "54"
        ],
        [
         "22",
         "0",
         "dancer",
         "medium",
         "10",
         "V-PCC",
         "2",
         "3",
         "5007",
         "493",
         "39"
        ],
        [
         "23",
         "0",
         "dancer",
         "medium",
         "10",
         "V-PCC",
         "3",
         "2",
         "5203",
         "493",
         "13"
        ],
        [
         "24",
         "0",
         "dancer",
         "medium",
         "10",
         "V-PCC",
         "4",
         "3",
         "5329",
         "493",
         "10"
        ],
        [
         "25",
         "0",
         "dancer",
         "medium",
         "15",
         "V-PCC",
         "0",
         "2",
         "4456",
         "493",
         "51"
        ],
        [
         "26",
         "0",
         "dancer",
         "medium",
         "15",
         "V-PCC",
         "1",
         "4",
         "4492",
         "493",
         "55"
        ],
        [
         "27",
         "0",
         "dancer",
         "medium",
         "15",
         "V-PCC",
         "2",
         "4",
         "4893",
         "493",
         "21"
        ],
        [
         "28",
         "0",
         "dancer",
         "medium",
         "15",
         "V-PCC",
         "3",
         "4",
         "4807",
         "493",
         "29"
        ],
        [
         "29",
         "0",
         "dancer",
         "medium",
         "15",
         "V-PCC",
         "4",
         "5",
         "4115",
         "493",
         "30"
        ],
        [
         "30",
         "0",
         "dancer",
         "medium",
         "30",
         "Draco",
         "0",
         "5",
         "4193",
         "493",
         "32"
        ],
        [
         "31",
         "0",
         "dancer",
         "medium",
         "30",
         "Draco",
         "1",
         "4",
         "5670",
         "493",
         "46"
        ],
        [
         "32",
         "0",
         "dancer",
         "medium",
         "30",
         "Draco",
         "2",
         "4",
         "6539",
         "493",
         "3"
        ],
        [
         "33",
         "0",
         "dancer",
         "medium",
         "30",
         "Draco",
         "3",
         "5",
         "4347",
         "493",
         "42"
        ],
        [
         "34",
         "0",
         "dancer",
         "medium",
         "30",
         "Draco",
         "4",
         "4",
         "4483",
         "493",
         "1"
        ],
        [
         "35",
         "0",
         "dancer",
         "medium",
         "30",
         "V-PCC",
         "0",
         "3",
         "5263",
         "493",
         "12"
        ],
        [
         "36",
         "0",
         "dancer",
         "medium",
         "30",
         "V-PCC",
         "1",
         "4",
         "3953",
         "493",
         "58"
        ],
        [
         "37",
         "0",
         "dancer",
         "medium",
         "30",
         "V-PCC",
         "2",
         "4",
         "4486",
         "493",
         "35"
        ],
        [
         "38",
         "0",
         "dancer",
         "medium",
         "30",
         "V-PCC",
         "3",
         "4",
         "5271",
         "493",
         "9"
        ],
        [
         "39",
         "0",
         "dancer",
         "medium",
         "30",
         "V-PCC",
         "4",
         "5",
         "5967",
         "493",
         "17"
        ],
        [
         "40",
         "0",
         "dancer",
         "near",
         "10",
         "V-PCC",
         "0",
         "1",
         "4947",
         "493",
         "59"
        ],
        [
         "41",
         "0",
         "dancer",
         "near",
         "10",
         "V-PCC",
         "1",
         "2",
         "5744",
         "493",
         "2"
        ],
        [
         "42",
         "0",
         "dancer",
         "near",
         "10",
         "V-PCC",
         "2",
         "4",
         "5674",
         "493",
         "31"
        ],
        [
         "43",
         "0",
         "dancer",
         "near",
         "10",
         "V-PCC",
         "3",
         "3",
         "3941",
         "493",
         "50"
        ],
        [
         "44",
         "0",
         "dancer",
         "near",
         "10",
         "V-PCC",
         "4",
         "3",
         "4667",
         "493",
         "25"
        ],
        [
         "45",
         "0",
         "dancer",
         "near",
         "15",
         "V-PCC",
         "0",
         "1",
         "5276",
         "493",
         "0"
        ],
        [
         "46",
         "0",
         "dancer",
         "near",
         "15",
         "V-PCC",
         "1",
         "4",
         "4721",
         "493",
         "15"
        ],
        [
         "47",
         "0",
         "dancer",
         "near",
         "15",
         "V-PCC",
         "2",
         "4",
         "4202",
         "493",
         "56"
        ],
        [
         "48",
         "0",
         "dancer",
         "near",
         "15",
         "V-PCC",
         "3",
         "4",
         "4631",
         "493",
         "23"
        ],
        [
         "49",
         "0",
         "dancer",
         "near",
         "15",
         "V-PCC",
         "4",
         "3",
         "4825",
         "493",
         "6"
        ]
       ],
       "shape": {
        "columns": 10,
        "rows": 12240
       }
      },
      "text/html": [
       "<div>\n",
       "<style scoped>\n",
       "    .dataframe tbody tr th:only-of-type {\n",
       "        vertical-align: middle;\n",
       "    }\n",
       "\n",
       "    .dataframe tbody tr th {\n",
       "        vertical-align: top;\n",
       "    }\n",
       "\n",
       "    .dataframe thead th {\n",
       "        text-align: right;\n",
       "    }\n",
       "</style>\n",
       "<table border=\"1\" class=\"dataframe\">\n",
       "  <thead>\n",
       "    <tr style=\"text-align: right;\">\n",
       "      <th></th>\n",
       "      <th>participant</th>\n",
       "      <th>object</th>\n",
       "      <th>distance</th>\n",
       "      <th>frame_rate</th>\n",
       "      <th>encode_method</th>\n",
       "      <th>quantization_level_index</th>\n",
       "      <th>qoe</th>\n",
       "      <th>duration</th>\n",
       "      <th>size</th>\n",
       "      <th>order</th>\n",
       "    </tr>\n",
       "  </thead>\n",
       "  <tbody>\n",
       "    <tr>\n",
       "      <th>0</th>\n",
       "      <td>0</td>\n",
       "      <td>dancer</td>\n",
       "      <td>far</td>\n",
       "      <td>10</td>\n",
       "      <td>V-PCC</td>\n",
       "      <td>0</td>\n",
       "      <td>3</td>\n",
       "      <td>4451</td>\n",
       "      <td>493</td>\n",
       "      <td>22</td>\n",
       "    </tr>\n",
       "    <tr>\n",
       "      <th>1</th>\n",
       "      <td>0</td>\n",
       "      <td>dancer</td>\n",
       "      <td>far</td>\n",
       "      <td>10</td>\n",
       "      <td>V-PCC</td>\n",
       "      <td>1</td>\n",
       "      <td>2</td>\n",
       "      <td>4467</td>\n",
       "      <td>493</td>\n",
       "      <td>48</td>\n",
       "    </tr>\n",
       "    <tr>\n",
       "      <th>2</th>\n",
       "      <td>0</td>\n",
       "      <td>dancer</td>\n",
       "      <td>far</td>\n",
       "      <td>10</td>\n",
       "      <td>V-PCC</td>\n",
       "      <td>2</td>\n",
       "      <td>2</td>\n",
       "      <td>6004</td>\n",
       "      <td>493</td>\n",
       "      <td>52</td>\n",
       "    </tr>\n",
       "    <tr>\n",
       "      <th>3</th>\n",
       "      <td>0</td>\n",
       "      <td>dancer</td>\n",
       "      <td>far</td>\n",
       "      <td>10</td>\n",
       "      <td>V-PCC</td>\n",
       "      <td>3</td>\n",
       "      <td>3</td>\n",
       "      <td>4118</td>\n",
       "      <td>493</td>\n",
       "      <td>37</td>\n",
       "    </tr>\n",
       "    <tr>\n",
       "      <th>4</th>\n",
       "      <td>0</td>\n",
       "      <td>dancer</td>\n",
       "      <td>far</td>\n",
       "      <td>10</td>\n",
       "      <td>V-PCC</td>\n",
       "      <td>4</td>\n",
       "      <td>4</td>\n",
       "      <td>4370</td>\n",
       "      <td>493</td>\n",
       "      <td>11</td>\n",
       "    </tr>\n",
       "    <tr>\n",
       "      <th>...</th>\n",
       "      <td>...</td>\n",
       "      <td>...</td>\n",
       "      <td>...</td>\n",
       "      <td>...</td>\n",
       "      <td>...</td>\n",
       "      <td>...</td>\n",
       "      <td>...</td>\n",
       "      <td>...</td>\n",
       "      <td>...</td>\n",
       "      <td>...</td>\n",
       "    </tr>\n",
       "    <tr>\n",
       "      <th>12235</th>\n",
       "      <td>101</td>\n",
       "      <td>thaidancer</td>\n",
       "      <td>near</td>\n",
       "      <td>30</td>\n",
       "      <td>V-PCC</td>\n",
       "      <td>0</td>\n",
       "      <td>1</td>\n",
       "      <td>3939</td>\n",
       "      <td>491</td>\n",
       "      <td>54</td>\n",
       "    </tr>\n",
       "    <tr>\n",
       "      <th>12236</th>\n",
       "      <td>101</td>\n",
       "      <td>thaidancer</td>\n",
       "      <td>near</td>\n",
       "      <td>30</td>\n",
       "      <td>V-PCC</td>\n",
       "      <td>1</td>\n",
       "      <td>3</td>\n",
       "      <td>4594</td>\n",
       "      <td>491</td>\n",
       "      <td>27</td>\n",
       "    </tr>\n",
       "    <tr>\n",
       "      <th>12237</th>\n",
       "      <td>101</td>\n",
       "      <td>thaidancer</td>\n",
       "      <td>near</td>\n",
       "      <td>30</td>\n",
       "      <td>V-PCC</td>\n",
       "      <td>2</td>\n",
       "      <td>1</td>\n",
       "      <td>8777</td>\n",
       "      <td>491</td>\n",
       "      <td>12</td>\n",
       "    </tr>\n",
       "    <tr>\n",
       "      <th>12238</th>\n",
       "      <td>101</td>\n",
       "      <td>thaidancer</td>\n",
       "      <td>near</td>\n",
       "      <td>30</td>\n",
       "      <td>V-PCC</td>\n",
       "      <td>3</td>\n",
       "      <td>3</td>\n",
       "      <td>3961</td>\n",
       "      <td>491</td>\n",
       "      <td>19</td>\n",
       "    </tr>\n",
       "    <tr>\n",
       "      <th>12239</th>\n",
       "      <td>101</td>\n",
       "      <td>thaidancer</td>\n",
       "      <td>near</td>\n",
       "      <td>30</td>\n",
       "      <td>V-PCC</td>\n",
       "      <td>4</td>\n",
       "      <td>5</td>\n",
       "      <td>5894</td>\n",
       "      <td>491</td>\n",
       "      <td>1</td>\n",
       "    </tr>\n",
       "  </tbody>\n",
       "</table>\n",
       "<p>12240 rows × 10 columns</p>\n",
       "</div>"
      ],
      "text/plain": [
       "       participant      object distance  frame_rate encode_method  \\\n",
       "0                0      dancer      far          10         V-PCC   \n",
       "1                0      dancer      far          10         V-PCC   \n",
       "2                0      dancer      far          10         V-PCC   \n",
       "3                0      dancer      far          10         V-PCC   \n",
       "4                0      dancer      far          10         V-PCC   \n",
       "...            ...         ...      ...         ...           ...   \n",
       "12235          101  thaidancer     near          30         V-PCC   \n",
       "12236          101  thaidancer     near          30         V-PCC   \n",
       "12237          101  thaidancer     near          30         V-PCC   \n",
       "12238          101  thaidancer     near          30         V-PCC   \n",
       "12239          101  thaidancer     near          30         V-PCC   \n",
       "\n",
       "       quantization_level_index  qoe  duration  size  order  \n",
       "0                             0    3      4451   493     22  \n",
       "1                             1    2      4467   493     48  \n",
       "2                             2    2      6004   493     52  \n",
       "3                             3    3      4118   493     37  \n",
       "4                             4    4      4370   493     11  \n",
       "...                         ...  ...       ...   ...    ...  \n",
       "12235                         0    1      3939   491     54  \n",
       "12236                         1    3      4594   491     27  \n",
       "12237                         2    1      8777   491     12  \n",
       "12238                         3    3      3961   491     19  \n",
       "12239                         4    5      5894   491      1  \n",
       "\n",
       "[12240 rows x 10 columns]"
      ]
     },
     "execution_count": 18,
     "metadata": {},
     "output_type": "execute_result"
    }
   ],
   "source": [
    "draco_df = pd.read_csv(draco_csv_filepath)\n",
    "draco_df"
   ]
  },
  {
   "cell_type": "code",
   "execution_count": 19,
   "id": "0b96d041",
   "metadata": {},
   "outputs": [
    {
     "data": {
      "application/vnd.microsoft.datawrangler.viewer.v0+json": {
       "columns": [
        {
         "name": "index",
         "rawType": "int64",
         "type": "integer"
        },
        {
         "name": "participant",
         "rawType": "int64",
         "type": "integer"
        },
        {
         "name": "object",
         "rawType": "object",
         "type": "string"
        },
        {
         "name": "distance",
         "rawType": "object",
         "type": "string"
        },
        {
         "name": "frame_rate",
         "rawType": "int64",
         "type": "integer"
        },
        {
         "name": "encode_method",
         "rawType": "object",
         "type": "string"
        },
        {
         "name": "quantization_level_index",
         "rawType": "int64",
         "type": "integer"
        },
        {
         "name": "qoe",
         "rawType": "int64",
         "type": "integer"
        },
        {
         "name": "duration",
         "rawType": "int64",
         "type": "integer"
        },
        {
         "name": "size",
         "rawType": "int64",
         "type": "integer"
        },
        {
         "name": "order",
         "rawType": "int64",
         "type": "integer"
        }
       ],
       "ref": "20227245-2c22-4010-9216-e7332d1af264",
       "rows": [
        [
         "10",
         "0",
         "dancer",
         "far",
         "30",
         "Draco",
         "0",
         "4",
         "4534",
         "493",
         "26"
        ],
        [
         "11",
         "0",
         "dancer",
         "far",
         "30",
         "Draco",
         "1",
         "3",
         "5034",
         "493",
         "49"
        ],
        [
         "12",
         "0",
         "dancer",
         "far",
         "30",
         "Draco",
         "2",
         "5",
         "4474",
         "493",
         "40"
        ],
        [
         "13",
         "0",
         "dancer",
         "far",
         "30",
         "Draco",
         "3",
         "4",
         "4268",
         "493",
         "47"
        ],
        [
         "14",
         "0",
         "dancer",
         "far",
         "30",
         "Draco",
         "4",
         "3",
         "4215",
         "493",
         "57"
        ],
        [
         "30",
         "0",
         "dancer",
         "medium",
         "30",
         "Draco",
         "0",
         "5",
         "4193",
         "493",
         "32"
        ],
        [
         "31",
         "0",
         "dancer",
         "medium",
         "30",
         "Draco",
         "1",
         "4",
         "5670",
         "493",
         "46"
        ],
        [
         "32",
         "0",
         "dancer",
         "medium",
         "30",
         "Draco",
         "2",
         "4",
         "6539",
         "493",
         "3"
        ],
        [
         "33",
         "0",
         "dancer",
         "medium",
         "30",
         "Draco",
         "3",
         "5",
         "4347",
         "493",
         "42"
        ],
        [
         "34",
         "0",
         "dancer",
         "medium",
         "30",
         "Draco",
         "4",
         "4",
         "4483",
         "493",
         "1"
        ],
        [
         "50",
         "0",
         "dancer",
         "near",
         "30",
         "Draco",
         "0",
         "2",
         "4397",
         "493",
         "34"
        ],
        [
         "51",
         "0",
         "dancer",
         "near",
         "30",
         "Draco",
         "1",
         "5",
         "4928",
         "493",
         "16"
        ],
        [
         "52",
         "0",
         "dancer",
         "near",
         "30",
         "Draco",
         "2",
         "5",
         "5352",
         "493",
         "41"
        ],
        [
         "53",
         "0",
         "dancer",
         "near",
         "30",
         "Draco",
         "3",
         "5",
         "4596",
         "493",
         "53"
        ],
        [
         "54",
         "0",
         "dancer",
         "near",
         "30",
         "Draco",
         "4",
         "5",
         "4560",
         "493",
         "18"
        ],
        [
         "70",
         "0",
         "thaidancer",
         "far",
         "30",
         "Draco",
         "0",
         "4",
         "3920",
         "493",
         "93"
        ],
        [
         "71",
         "0",
         "thaidancer",
         "far",
         "30",
         "Draco",
         "1",
         "4",
         "5509",
         "493",
         "105"
        ],
        [
         "72",
         "0",
         "thaidancer",
         "far",
         "30",
         "Draco",
         "2",
         "4",
         "4292",
         "493",
         "90"
        ],
        [
         "73",
         "0",
         "thaidancer",
         "far",
         "30",
         "Draco",
         "3",
         "4",
         "5818",
         "493",
         "102"
        ],
        [
         "74",
         "0",
         "thaidancer",
         "far",
         "30",
         "Draco",
         "4",
         "4",
         "4186",
         "493",
         "107"
        ],
        [
         "90",
         "0",
         "thaidancer",
         "medium",
         "30",
         "Draco",
         "0",
         "4",
         "4064",
         "493",
         "115"
        ],
        [
         "91",
         "0",
         "thaidancer",
         "medium",
         "30",
         "Draco",
         "1",
         "5",
         "4256",
         "493",
         "84"
        ],
        [
         "92",
         "0",
         "thaidancer",
         "medium",
         "30",
         "Draco",
         "2",
         "4",
         "5023",
         "493",
         "61"
        ],
        [
         "93",
         "0",
         "thaidancer",
         "medium",
         "30",
         "Draco",
         "3",
         "4",
         "4203",
         "493",
         "76"
        ],
        [
         "94",
         "0",
         "thaidancer",
         "medium",
         "30",
         "Draco",
         "4",
         "4",
         "4361",
         "493",
         "85"
        ],
        [
         "110",
         "0",
         "thaidancer",
         "near",
         "30",
         "Draco",
         "0",
         "2",
         "4349",
         "493",
         "73"
        ],
        [
         "111",
         "0",
         "thaidancer",
         "near",
         "30",
         "Draco",
         "1",
         "4",
         "6208",
         "493",
         "110"
        ],
        [
         "112",
         "0",
         "thaidancer",
         "near",
         "30",
         "Draco",
         "2",
         "5",
         "4808",
         "493",
         "94"
        ],
        [
         "113",
         "0",
         "thaidancer",
         "near",
         "30",
         "Draco",
         "3",
         "5",
         "3932",
         "493",
         "109"
        ],
        [
         "114",
         "0",
         "thaidancer",
         "near",
         "30",
         "Draco",
         "4",
         "5",
         "5872",
         "493",
         "72"
        ],
        [
         "130",
         "1",
         "dancer",
         "far",
         "30",
         "Draco",
         "0",
         "4",
         "4087",
         "805",
         "113"
        ],
        [
         "131",
         "1",
         "dancer",
         "far",
         "30",
         "Draco",
         "1",
         "4",
         "4002",
         "805",
         "93"
        ],
        [
         "132",
         "1",
         "dancer",
         "far",
         "30",
         "Draco",
         "2",
         "4",
         "4044",
         "805",
         "95"
        ],
        [
         "133",
         "1",
         "dancer",
         "far",
         "30",
         "Draco",
         "3",
         "5",
         "3945",
         "805",
         "114"
        ],
        [
         "134",
         "1",
         "dancer",
         "far",
         "30",
         "Draco",
         "4",
         "5",
         "4346",
         "805",
         "77"
        ],
        [
         "150",
         "1",
         "dancer",
         "medium",
         "30",
         "Draco",
         "0",
         "3",
         "4761",
         "805",
         "81"
        ],
        [
         "151",
         "1",
         "dancer",
         "medium",
         "30",
         "Draco",
         "1",
         "5",
         "6828",
         "805",
         "73"
        ],
        [
         "152",
         "1",
         "dancer",
         "medium",
         "30",
         "Draco",
         "2",
         "5",
         "5420",
         "805",
         "92"
        ],
        [
         "153",
         "1",
         "dancer",
         "medium",
         "30",
         "Draco",
         "3",
         "5",
         "5525",
         "805",
         "99"
        ],
        [
         "154",
         "1",
         "dancer",
         "medium",
         "30",
         "Draco",
         "4",
         "5",
         "6062",
         "805",
         "100"
        ],
        [
         "170",
         "1",
         "dancer",
         "near",
         "30",
         "Draco",
         "0",
         "2",
         "6347",
         "805",
         "80"
        ],
        [
         "171",
         "1",
         "dancer",
         "near",
         "30",
         "Draco",
         "1",
         "4",
         "5353",
         "805",
         "115"
        ],
        [
         "172",
         "1",
         "dancer",
         "near",
         "30",
         "Draco",
         "2",
         "5",
         "3975",
         "805",
         "106"
        ],
        [
         "173",
         "1",
         "dancer",
         "near",
         "30",
         "Draco",
         "3",
         "5",
         "3943",
         "805",
         "86"
        ],
        [
         "174",
         "1",
         "dancer",
         "near",
         "30",
         "Draco",
         "4",
         "5",
         "5405",
         "805",
         "87"
        ],
        [
         "190",
         "1",
         "thaidancer",
         "far",
         "30",
         "Draco",
         "0",
         "5",
         "4760",
         "805",
         "19"
        ],
        [
         "191",
         "1",
         "thaidancer",
         "far",
         "30",
         "Draco",
         "1",
         "4",
         "5170",
         "805",
         "35"
        ],
        [
         "192",
         "1",
         "thaidancer",
         "far",
         "30",
         "Draco",
         "2",
         "5",
         "4716",
         "805",
         "27"
        ],
        [
         "193",
         "1",
         "thaidancer",
         "far",
         "30",
         "Draco",
         "3",
         "5",
         "5392",
         "805",
         "5"
        ],
        [
         "194",
         "1",
         "thaidancer",
         "far",
         "30",
         "Draco",
         "4",
         "5",
         "4872",
         "805",
         "51"
        ]
       ],
       "shape": {
        "columns": 10,
        "rows": 3060
       }
      },
      "text/html": [
       "<div>\n",
       "<style scoped>\n",
       "    .dataframe tbody tr th:only-of-type {\n",
       "        vertical-align: middle;\n",
       "    }\n",
       "\n",
       "    .dataframe tbody tr th {\n",
       "        vertical-align: top;\n",
       "    }\n",
       "\n",
       "    .dataframe thead th {\n",
       "        text-align: right;\n",
       "    }\n",
       "</style>\n",
       "<table border=\"1\" class=\"dataframe\">\n",
       "  <thead>\n",
       "    <tr style=\"text-align: right;\">\n",
       "      <th></th>\n",
       "      <th>participant</th>\n",
       "      <th>object</th>\n",
       "      <th>distance</th>\n",
       "      <th>frame_rate</th>\n",
       "      <th>encode_method</th>\n",
       "      <th>quantization_level_index</th>\n",
       "      <th>qoe</th>\n",
       "      <th>duration</th>\n",
       "      <th>size</th>\n",
       "      <th>order</th>\n",
       "    </tr>\n",
       "  </thead>\n",
       "  <tbody>\n",
       "    <tr>\n",
       "      <th>10</th>\n",
       "      <td>0</td>\n",
       "      <td>dancer</td>\n",
       "      <td>far</td>\n",
       "      <td>30</td>\n",
       "      <td>Draco</td>\n",
       "      <td>0</td>\n",
       "      <td>4</td>\n",
       "      <td>4534</td>\n",
       "      <td>493</td>\n",
       "      <td>26</td>\n",
       "    </tr>\n",
       "    <tr>\n",
       "      <th>11</th>\n",
       "      <td>0</td>\n",
       "      <td>dancer</td>\n",
       "      <td>far</td>\n",
       "      <td>30</td>\n",
       "      <td>Draco</td>\n",
       "      <td>1</td>\n",
       "      <td>3</td>\n",
       "      <td>5034</td>\n",
       "      <td>493</td>\n",
       "      <td>49</td>\n",
       "    </tr>\n",
       "    <tr>\n",
       "      <th>12</th>\n",
       "      <td>0</td>\n",
       "      <td>dancer</td>\n",
       "      <td>far</td>\n",
       "      <td>30</td>\n",
       "      <td>Draco</td>\n",
       "      <td>2</td>\n",
       "      <td>5</td>\n",
       "      <td>4474</td>\n",
       "      <td>493</td>\n",
       "      <td>40</td>\n",
       "    </tr>\n",
       "    <tr>\n",
       "      <th>13</th>\n",
       "      <td>0</td>\n",
       "      <td>dancer</td>\n",
       "      <td>far</td>\n",
       "      <td>30</td>\n",
       "      <td>Draco</td>\n",
       "      <td>3</td>\n",
       "      <td>4</td>\n",
       "      <td>4268</td>\n",
       "      <td>493</td>\n",
       "      <td>47</td>\n",
       "    </tr>\n",
       "    <tr>\n",
       "      <th>14</th>\n",
       "      <td>0</td>\n",
       "      <td>dancer</td>\n",
       "      <td>far</td>\n",
       "      <td>30</td>\n",
       "      <td>Draco</td>\n",
       "      <td>4</td>\n",
       "      <td>3</td>\n",
       "      <td>4215</td>\n",
       "      <td>493</td>\n",
       "      <td>57</td>\n",
       "    </tr>\n",
       "    <tr>\n",
       "      <th>...</th>\n",
       "      <td>...</td>\n",
       "      <td>...</td>\n",
       "      <td>...</td>\n",
       "      <td>...</td>\n",
       "      <td>...</td>\n",
       "      <td>...</td>\n",
       "      <td>...</td>\n",
       "      <td>...</td>\n",
       "      <td>...</td>\n",
       "      <td>...</td>\n",
       "    </tr>\n",
       "    <tr>\n",
       "      <th>12230</th>\n",
       "      <td>101</td>\n",
       "      <td>thaidancer</td>\n",
       "      <td>near</td>\n",
       "      <td>30</td>\n",
       "      <td>Draco</td>\n",
       "      <td>0</td>\n",
       "      <td>2</td>\n",
       "      <td>4235</td>\n",
       "      <td>491</td>\n",
       "      <td>52</td>\n",
       "    </tr>\n",
       "    <tr>\n",
       "      <th>12231</th>\n",
       "      <td>101</td>\n",
       "      <td>thaidancer</td>\n",
       "      <td>near</td>\n",
       "      <td>30</td>\n",
       "      <td>Draco</td>\n",
       "      <td>1</td>\n",
       "      <td>3</td>\n",
       "      <td>5593</td>\n",
       "      <td>491</td>\n",
       "      <td>22</td>\n",
       "    </tr>\n",
       "    <tr>\n",
       "      <th>12232</th>\n",
       "      <td>101</td>\n",
       "      <td>thaidancer</td>\n",
       "      <td>near</td>\n",
       "      <td>30</td>\n",
       "      <td>Draco</td>\n",
       "      <td>2</td>\n",
       "      <td>3</td>\n",
       "      <td>3855</td>\n",
       "      <td>491</td>\n",
       "      <td>31</td>\n",
       "    </tr>\n",
       "    <tr>\n",
       "      <th>12233</th>\n",
       "      <td>101</td>\n",
       "      <td>thaidancer</td>\n",
       "      <td>near</td>\n",
       "      <td>30</td>\n",
       "      <td>Draco</td>\n",
       "      <td>3</td>\n",
       "      <td>3</td>\n",
       "      <td>11033</td>\n",
       "      <td>491</td>\n",
       "      <td>23</td>\n",
       "    </tr>\n",
       "    <tr>\n",
       "      <th>12234</th>\n",
       "      <td>101</td>\n",
       "      <td>thaidancer</td>\n",
       "      <td>near</td>\n",
       "      <td>30</td>\n",
       "      <td>Draco</td>\n",
       "      <td>4</td>\n",
       "      <td>5</td>\n",
       "      <td>6953</td>\n",
       "      <td>491</td>\n",
       "      <td>0</td>\n",
       "    </tr>\n",
       "  </tbody>\n",
       "</table>\n",
       "<p>3060 rows × 10 columns</p>\n",
       "</div>"
      ],
      "text/plain": [
       "       participant      object distance  frame_rate encode_method  \\\n",
       "10               0      dancer      far          30         Draco   \n",
       "11               0      dancer      far          30         Draco   \n",
       "12               0      dancer      far          30         Draco   \n",
       "13               0      dancer      far          30         Draco   \n",
       "14               0      dancer      far          30         Draco   \n",
       "...            ...         ...      ...         ...           ...   \n",
       "12230          101  thaidancer     near          30         Draco   \n",
       "12231          101  thaidancer     near          30         Draco   \n",
       "12232          101  thaidancer     near          30         Draco   \n",
       "12233          101  thaidancer     near          30         Draco   \n",
       "12234          101  thaidancer     near          30         Draco   \n",
       "\n",
       "       quantization_level_index  qoe  duration  size  order  \n",
       "10                            0    4      4534   493     26  \n",
       "11                            1    3      5034   493     49  \n",
       "12                            2    5      4474   493     40  \n",
       "13                            3    4      4268   493     47  \n",
       "14                            4    3      4215   493     57  \n",
       "...                         ...  ...       ...   ...    ...  \n",
       "12230                         0    2      4235   491     52  \n",
       "12231                         1    3      5593   491     22  \n",
       "12232                         2    3      3855   491     31  \n",
       "12233                         3    3     11033   491     23  \n",
       "12234                         4    5      6953   491      0  \n",
       "\n",
       "[3060 rows x 10 columns]"
      ]
     },
     "execution_count": 19,
     "metadata": {},
     "output_type": "execute_result"
    }
   ],
   "source": [
    "draco_df = draco_df[draco_df['encode_method']=='Draco']\n",
    "draco_df"
   ]
  },
  {
   "cell_type": "code",
   "execution_count": 20,
   "id": "5f2e6e6a",
   "metadata": {},
   "outputs": [
    {
     "name": "stderr",
     "output_type": "stream",
     "text": [
      "/tmp/ipykernel_274329/731536879.py:1: SettingWithCopyWarning: \n",
      "A value is trying to be set on a copy of a slice from a DataFrame.\n",
      "Try using .loc[row_indexer,col_indexer] = value instead\n",
      "\n",
      "See the caveats in the documentation: https://pandas.pydata.org/pandas-docs/stable/user_guide/indexing.html#returning-a-view-versus-a-copy\n",
      "  draco_df['distance'] = draco_df['distance'].apply(lambda dist : draco_distance_map[dist])\n"
     ]
    },
    {
     "data": {
      "application/vnd.microsoft.datawrangler.viewer.v0+json": {
       "columns": [
        {
         "name": "index",
         "rawType": "int64",
         "type": "integer"
        },
        {
         "name": "participant",
         "rawType": "int64",
         "type": "integer"
        },
        {
         "name": "object",
         "rawType": "object",
         "type": "string"
        },
        {
         "name": "distance",
         "rawType": "float64",
         "type": "float"
        },
        {
         "name": "frame_rate",
         "rawType": "int64",
         "type": "integer"
        },
        {
         "name": "encode_method",
         "rawType": "object",
         "type": "string"
        },
        {
         "name": "quantization_level_index",
         "rawType": "int64",
         "type": "integer"
        },
        {
         "name": "qoe",
         "rawType": "int64",
         "type": "integer"
        },
        {
         "name": "duration",
         "rawType": "int64",
         "type": "integer"
        },
        {
         "name": "size",
         "rawType": "int64",
         "type": "integer"
        },
        {
         "name": "order",
         "rawType": "int64",
         "type": "integer"
        }
       ],
       "ref": "390570e6-cb1a-4cc9-9b57-82880ff72065",
       "rows": [
        [
         "10",
         "0",
         "dancer",
         "8.5",
         "30",
         "Draco",
         "0",
         "4",
         "4534",
         "493",
         "26"
        ],
        [
         "11",
         "0",
         "dancer",
         "8.5",
         "30",
         "Draco",
         "1",
         "3",
         "5034",
         "493",
         "49"
        ],
        [
         "12",
         "0",
         "dancer",
         "8.5",
         "30",
         "Draco",
         "2",
         "5",
         "4474",
         "493",
         "40"
        ],
        [
         "13",
         "0",
         "dancer",
         "8.5",
         "30",
         "Draco",
         "3",
         "4",
         "4268",
         "493",
         "47"
        ],
        [
         "14",
         "0",
         "dancer",
         "8.5",
         "30",
         "Draco",
         "4",
         "3",
         "4215",
         "493",
         "57"
        ],
        [
         "30",
         "0",
         "dancer",
         "4.5",
         "30",
         "Draco",
         "0",
         "5",
         "4193",
         "493",
         "32"
        ],
        [
         "31",
         "0",
         "dancer",
         "4.5",
         "30",
         "Draco",
         "1",
         "4",
         "5670",
         "493",
         "46"
        ],
        [
         "32",
         "0",
         "dancer",
         "4.5",
         "30",
         "Draco",
         "2",
         "4",
         "6539",
         "493",
         "3"
        ],
        [
         "33",
         "0",
         "dancer",
         "4.5",
         "30",
         "Draco",
         "3",
         "5",
         "4347",
         "493",
         "42"
        ],
        [
         "34",
         "0",
         "dancer",
         "4.5",
         "30",
         "Draco",
         "4",
         "4",
         "4483",
         "493",
         "1"
        ],
        [
         "50",
         "0",
         "dancer",
         "2.5",
         "30",
         "Draco",
         "0",
         "2",
         "4397",
         "493",
         "34"
        ],
        [
         "51",
         "0",
         "dancer",
         "2.5",
         "30",
         "Draco",
         "1",
         "5",
         "4928",
         "493",
         "16"
        ],
        [
         "52",
         "0",
         "dancer",
         "2.5",
         "30",
         "Draco",
         "2",
         "5",
         "5352",
         "493",
         "41"
        ],
        [
         "53",
         "0",
         "dancer",
         "2.5",
         "30",
         "Draco",
         "3",
         "5",
         "4596",
         "493",
         "53"
        ],
        [
         "54",
         "0",
         "dancer",
         "2.5",
         "30",
         "Draco",
         "4",
         "5",
         "4560",
         "493",
         "18"
        ],
        [
         "70",
         "0",
         "thaidancer",
         "8.5",
         "30",
         "Draco",
         "0",
         "4",
         "3920",
         "493",
         "93"
        ],
        [
         "71",
         "0",
         "thaidancer",
         "8.5",
         "30",
         "Draco",
         "1",
         "4",
         "5509",
         "493",
         "105"
        ],
        [
         "72",
         "0",
         "thaidancer",
         "8.5",
         "30",
         "Draco",
         "2",
         "4",
         "4292",
         "493",
         "90"
        ],
        [
         "73",
         "0",
         "thaidancer",
         "8.5",
         "30",
         "Draco",
         "3",
         "4",
         "5818",
         "493",
         "102"
        ],
        [
         "74",
         "0",
         "thaidancer",
         "8.5",
         "30",
         "Draco",
         "4",
         "4",
         "4186",
         "493",
         "107"
        ],
        [
         "90",
         "0",
         "thaidancer",
         "4.5",
         "30",
         "Draco",
         "0",
         "4",
         "4064",
         "493",
         "115"
        ],
        [
         "91",
         "0",
         "thaidancer",
         "4.5",
         "30",
         "Draco",
         "1",
         "5",
         "4256",
         "493",
         "84"
        ],
        [
         "92",
         "0",
         "thaidancer",
         "4.5",
         "30",
         "Draco",
         "2",
         "4",
         "5023",
         "493",
         "61"
        ],
        [
         "93",
         "0",
         "thaidancer",
         "4.5",
         "30",
         "Draco",
         "3",
         "4",
         "4203",
         "493",
         "76"
        ],
        [
         "94",
         "0",
         "thaidancer",
         "4.5",
         "30",
         "Draco",
         "4",
         "4",
         "4361",
         "493",
         "85"
        ],
        [
         "110",
         "0",
         "thaidancer",
         "2.5",
         "30",
         "Draco",
         "0",
         "2",
         "4349",
         "493",
         "73"
        ],
        [
         "111",
         "0",
         "thaidancer",
         "2.5",
         "30",
         "Draco",
         "1",
         "4",
         "6208",
         "493",
         "110"
        ],
        [
         "112",
         "0",
         "thaidancer",
         "2.5",
         "30",
         "Draco",
         "2",
         "5",
         "4808",
         "493",
         "94"
        ],
        [
         "113",
         "0",
         "thaidancer",
         "2.5",
         "30",
         "Draco",
         "3",
         "5",
         "3932",
         "493",
         "109"
        ],
        [
         "114",
         "0",
         "thaidancer",
         "2.5",
         "30",
         "Draco",
         "4",
         "5",
         "5872",
         "493",
         "72"
        ],
        [
         "130",
         "1",
         "dancer",
         "8.5",
         "30",
         "Draco",
         "0",
         "4",
         "4087",
         "805",
         "113"
        ],
        [
         "131",
         "1",
         "dancer",
         "8.5",
         "30",
         "Draco",
         "1",
         "4",
         "4002",
         "805",
         "93"
        ],
        [
         "132",
         "1",
         "dancer",
         "8.5",
         "30",
         "Draco",
         "2",
         "4",
         "4044",
         "805",
         "95"
        ],
        [
         "133",
         "1",
         "dancer",
         "8.5",
         "30",
         "Draco",
         "3",
         "5",
         "3945",
         "805",
         "114"
        ],
        [
         "134",
         "1",
         "dancer",
         "8.5",
         "30",
         "Draco",
         "4",
         "5",
         "4346",
         "805",
         "77"
        ],
        [
         "150",
         "1",
         "dancer",
         "4.5",
         "30",
         "Draco",
         "0",
         "3",
         "4761",
         "805",
         "81"
        ],
        [
         "151",
         "1",
         "dancer",
         "4.5",
         "30",
         "Draco",
         "1",
         "5",
         "6828",
         "805",
         "73"
        ],
        [
         "152",
         "1",
         "dancer",
         "4.5",
         "30",
         "Draco",
         "2",
         "5",
         "5420",
         "805",
         "92"
        ],
        [
         "153",
         "1",
         "dancer",
         "4.5",
         "30",
         "Draco",
         "3",
         "5",
         "5525",
         "805",
         "99"
        ],
        [
         "154",
         "1",
         "dancer",
         "4.5",
         "30",
         "Draco",
         "4",
         "5",
         "6062",
         "805",
         "100"
        ],
        [
         "170",
         "1",
         "dancer",
         "2.5",
         "30",
         "Draco",
         "0",
         "2",
         "6347",
         "805",
         "80"
        ],
        [
         "171",
         "1",
         "dancer",
         "2.5",
         "30",
         "Draco",
         "1",
         "4",
         "5353",
         "805",
         "115"
        ],
        [
         "172",
         "1",
         "dancer",
         "2.5",
         "30",
         "Draco",
         "2",
         "5",
         "3975",
         "805",
         "106"
        ],
        [
         "173",
         "1",
         "dancer",
         "2.5",
         "30",
         "Draco",
         "3",
         "5",
         "3943",
         "805",
         "86"
        ],
        [
         "174",
         "1",
         "dancer",
         "2.5",
         "30",
         "Draco",
         "4",
         "5",
         "5405",
         "805",
         "87"
        ],
        [
         "190",
         "1",
         "thaidancer",
         "8.5",
         "30",
         "Draco",
         "0",
         "5",
         "4760",
         "805",
         "19"
        ],
        [
         "191",
         "1",
         "thaidancer",
         "8.5",
         "30",
         "Draco",
         "1",
         "4",
         "5170",
         "805",
         "35"
        ],
        [
         "192",
         "1",
         "thaidancer",
         "8.5",
         "30",
         "Draco",
         "2",
         "5",
         "4716",
         "805",
         "27"
        ],
        [
         "193",
         "1",
         "thaidancer",
         "8.5",
         "30",
         "Draco",
         "3",
         "5",
         "5392",
         "805",
         "5"
        ],
        [
         "194",
         "1",
         "thaidancer",
         "8.5",
         "30",
         "Draco",
         "4",
         "5",
         "4872",
         "805",
         "51"
        ]
       ],
       "shape": {
        "columns": 10,
        "rows": 3060
       }
      },
      "text/html": [
       "<div>\n",
       "<style scoped>\n",
       "    .dataframe tbody tr th:only-of-type {\n",
       "        vertical-align: middle;\n",
       "    }\n",
       "\n",
       "    .dataframe tbody tr th {\n",
       "        vertical-align: top;\n",
       "    }\n",
       "\n",
       "    .dataframe thead th {\n",
       "        text-align: right;\n",
       "    }\n",
       "</style>\n",
       "<table border=\"1\" class=\"dataframe\">\n",
       "  <thead>\n",
       "    <tr style=\"text-align: right;\">\n",
       "      <th></th>\n",
       "      <th>participant</th>\n",
       "      <th>object</th>\n",
       "      <th>distance</th>\n",
       "      <th>frame_rate</th>\n",
       "      <th>encode_method</th>\n",
       "      <th>quantization_level_index</th>\n",
       "      <th>qoe</th>\n",
       "      <th>duration</th>\n",
       "      <th>size</th>\n",
       "      <th>order</th>\n",
       "    </tr>\n",
       "  </thead>\n",
       "  <tbody>\n",
       "    <tr>\n",
       "      <th>10</th>\n",
       "      <td>0</td>\n",
       "      <td>dancer</td>\n",
       "      <td>8.5</td>\n",
       "      <td>30</td>\n",
       "      <td>Draco</td>\n",
       "      <td>0</td>\n",
       "      <td>4</td>\n",
       "      <td>4534</td>\n",
       "      <td>493</td>\n",
       "      <td>26</td>\n",
       "    </tr>\n",
       "    <tr>\n",
       "      <th>11</th>\n",
       "      <td>0</td>\n",
       "      <td>dancer</td>\n",
       "      <td>8.5</td>\n",
       "      <td>30</td>\n",
       "      <td>Draco</td>\n",
       "      <td>1</td>\n",
       "      <td>3</td>\n",
       "      <td>5034</td>\n",
       "      <td>493</td>\n",
       "      <td>49</td>\n",
       "    </tr>\n",
       "    <tr>\n",
       "      <th>12</th>\n",
       "      <td>0</td>\n",
       "      <td>dancer</td>\n",
       "      <td>8.5</td>\n",
       "      <td>30</td>\n",
       "      <td>Draco</td>\n",
       "      <td>2</td>\n",
       "      <td>5</td>\n",
       "      <td>4474</td>\n",
       "      <td>493</td>\n",
       "      <td>40</td>\n",
       "    </tr>\n",
       "    <tr>\n",
       "      <th>13</th>\n",
       "      <td>0</td>\n",
       "      <td>dancer</td>\n",
       "      <td>8.5</td>\n",
       "      <td>30</td>\n",
       "      <td>Draco</td>\n",
       "      <td>3</td>\n",
       "      <td>4</td>\n",
       "      <td>4268</td>\n",
       "      <td>493</td>\n",
       "      <td>47</td>\n",
       "    </tr>\n",
       "    <tr>\n",
       "      <th>14</th>\n",
       "      <td>0</td>\n",
       "      <td>dancer</td>\n",
       "      <td>8.5</td>\n",
       "      <td>30</td>\n",
       "      <td>Draco</td>\n",
       "      <td>4</td>\n",
       "      <td>3</td>\n",
       "      <td>4215</td>\n",
       "      <td>493</td>\n",
       "      <td>57</td>\n",
       "    </tr>\n",
       "    <tr>\n",
       "      <th>...</th>\n",
       "      <td>...</td>\n",
       "      <td>...</td>\n",
       "      <td>...</td>\n",
       "      <td>...</td>\n",
       "      <td>...</td>\n",
       "      <td>...</td>\n",
       "      <td>...</td>\n",
       "      <td>...</td>\n",
       "      <td>...</td>\n",
       "      <td>...</td>\n",
       "    </tr>\n",
       "    <tr>\n",
       "      <th>12230</th>\n",
       "      <td>101</td>\n",
       "      <td>thaidancer</td>\n",
       "      <td>2.5</td>\n",
       "      <td>30</td>\n",
       "      <td>Draco</td>\n",
       "      <td>0</td>\n",
       "      <td>2</td>\n",
       "      <td>4235</td>\n",
       "      <td>491</td>\n",
       "      <td>52</td>\n",
       "    </tr>\n",
       "    <tr>\n",
       "      <th>12231</th>\n",
       "      <td>101</td>\n",
       "      <td>thaidancer</td>\n",
       "      <td>2.5</td>\n",
       "      <td>30</td>\n",
       "      <td>Draco</td>\n",
       "      <td>1</td>\n",
       "      <td>3</td>\n",
       "      <td>5593</td>\n",
       "      <td>491</td>\n",
       "      <td>22</td>\n",
       "    </tr>\n",
       "    <tr>\n",
       "      <th>12232</th>\n",
       "      <td>101</td>\n",
       "      <td>thaidancer</td>\n",
       "      <td>2.5</td>\n",
       "      <td>30</td>\n",
       "      <td>Draco</td>\n",
       "      <td>2</td>\n",
       "      <td>3</td>\n",
       "      <td>3855</td>\n",
       "      <td>491</td>\n",
       "      <td>31</td>\n",
       "    </tr>\n",
       "    <tr>\n",
       "      <th>12233</th>\n",
       "      <td>101</td>\n",
       "      <td>thaidancer</td>\n",
       "      <td>2.5</td>\n",
       "      <td>30</td>\n",
       "      <td>Draco</td>\n",
       "      <td>3</td>\n",
       "      <td>3</td>\n",
       "      <td>11033</td>\n",
       "      <td>491</td>\n",
       "      <td>23</td>\n",
       "    </tr>\n",
       "    <tr>\n",
       "      <th>12234</th>\n",
       "      <td>101</td>\n",
       "      <td>thaidancer</td>\n",
       "      <td>2.5</td>\n",
       "      <td>30</td>\n",
       "      <td>Draco</td>\n",
       "      <td>4</td>\n",
       "      <td>5</td>\n",
       "      <td>6953</td>\n",
       "      <td>491</td>\n",
       "      <td>0</td>\n",
       "    </tr>\n",
       "  </tbody>\n",
       "</table>\n",
       "<p>3060 rows × 10 columns</p>\n",
       "</div>"
      ],
      "text/plain": [
       "       participant      object  distance  frame_rate encode_method  \\\n",
       "10               0      dancer       8.5          30         Draco   \n",
       "11               0      dancer       8.5          30         Draco   \n",
       "12               0      dancer       8.5          30         Draco   \n",
       "13               0      dancer       8.5          30         Draco   \n",
       "14               0      dancer       8.5          30         Draco   \n",
       "...            ...         ...       ...         ...           ...   \n",
       "12230          101  thaidancer       2.5          30         Draco   \n",
       "12231          101  thaidancer       2.5          30         Draco   \n",
       "12232          101  thaidancer       2.5          30         Draco   \n",
       "12233          101  thaidancer       2.5          30         Draco   \n",
       "12234          101  thaidancer       2.5          30         Draco   \n",
       "\n",
       "       quantization_level_index  qoe  duration  size  order  \n",
       "10                            0    4      4534   493     26  \n",
       "11                            1    3      5034   493     49  \n",
       "12                            2    5      4474   493     40  \n",
       "13                            3    4      4268   493     47  \n",
       "14                            4    3      4215   493     57  \n",
       "...                         ...  ...       ...   ...    ...  \n",
       "12230                         0    2      4235   491     52  \n",
       "12231                         1    3      5593   491     22  \n",
       "12232                         2    3      3855   491     31  \n",
       "12233                         3    3     11033   491     23  \n",
       "12234                         4    5      6953   491      0  \n",
       "\n",
       "[3060 rows x 10 columns]"
      ]
     },
     "execution_count": 20,
     "metadata": {},
     "output_type": "execute_result"
    }
   ],
   "source": [
    "draco_df['distance'] = draco_df['distance'].apply(lambda dist : draco_distance_map[dist])\n",
    "draco_df"
   ]
  },
  {
   "cell_type": "code",
   "execution_count": 21,
   "id": "a36f4b6d",
   "metadata": {},
   "outputs": [
    {
     "name": "stderr",
     "output_type": "stream",
     "text": [
      "/tmp/ipykernel_274329/1638996888.py:2: SettingWithCopyWarning: \n",
      "A value is trying to be set on a copy of a slice from a DataFrame.\n",
      "Try using .loc[row_indexer,col_indexer] = value instead\n",
      "\n",
      "See the caveats in the documentation: https://pandas.pydata.org/pandas-docs/stable/user_guide/indexing.html#returning-a-view-versus-a-copy\n",
      "  draco_df['quantization_parameter'] = draco_df['quantization_level_index'].apply(lambda qp : quantization_level_to_draco_QP[qp])\n"
     ]
    }
   ],
   "source": [
    "# process the quantization level index into draco quantization_parameter\n",
    "draco_df['quantization_parameter'] = draco_df['quantization_level_index'].apply(lambda qp : quantization_level_to_draco_QP[qp])"
   ]
  },
  {
   "cell_type": "markdown",
   "id": "dbeb0777",
   "metadata": {},
   "source": [
    "remove duration and size as well since duration is too varied and size doesnt matter here since we're not viewing on 2d screens\n",
    "\n",
    "remove the distance as well\n"
   ]
  },
  {
   "cell_type": "code",
   "execution_count": 22,
   "id": "515fdeb6",
   "metadata": {},
   "outputs": [
    {
     "data": {
      "application/vnd.microsoft.datawrangler.viewer.v0+json": {
       "columns": [
        {
         "name": "index",
         "rawType": "int64",
         "type": "integer"
        },
        {
         "name": "object",
         "rawType": "object",
         "type": "string"
        },
        {
         "name": "frame_rate",
         "rawType": "int64",
         "type": "integer"
        },
        {
         "name": "quantization_parameter",
         "rawType": "int64",
         "type": "integer"
        },
        {
         "name": "qoe",
         "rawType": "int64",
         "type": "integer"
        }
       ],
       "ref": "8c2167fa-629a-488f-a3d6-563a09ec7144",
       "rows": [
        [
         "10",
         "dancer",
         "30",
         "8",
         "4"
        ],
        [
         "11",
         "dancer",
         "30",
         "9",
         "3"
        ],
        [
         "12",
         "dancer",
         "30",
         "10",
         "5"
        ],
        [
         "13",
         "dancer",
         "30",
         "11",
         "4"
        ],
        [
         "14",
         "dancer",
         "30",
         "16",
         "3"
        ],
        [
         "30",
         "dancer",
         "30",
         "8",
         "5"
        ],
        [
         "31",
         "dancer",
         "30",
         "9",
         "4"
        ],
        [
         "32",
         "dancer",
         "30",
         "10",
         "4"
        ],
        [
         "33",
         "dancer",
         "30",
         "11",
         "5"
        ],
        [
         "34",
         "dancer",
         "30",
         "16",
         "4"
        ],
        [
         "50",
         "dancer",
         "30",
         "8",
         "2"
        ],
        [
         "51",
         "dancer",
         "30",
         "9",
         "5"
        ],
        [
         "52",
         "dancer",
         "30",
         "10",
         "5"
        ],
        [
         "53",
         "dancer",
         "30",
         "11",
         "5"
        ],
        [
         "54",
         "dancer",
         "30",
         "16",
         "5"
        ],
        [
         "70",
         "thaidancer",
         "30",
         "8",
         "4"
        ],
        [
         "71",
         "thaidancer",
         "30",
         "9",
         "4"
        ],
        [
         "72",
         "thaidancer",
         "30",
         "10",
         "4"
        ],
        [
         "73",
         "thaidancer",
         "30",
         "11",
         "4"
        ],
        [
         "74",
         "thaidancer",
         "30",
         "16",
         "4"
        ],
        [
         "90",
         "thaidancer",
         "30",
         "8",
         "4"
        ],
        [
         "91",
         "thaidancer",
         "30",
         "9",
         "5"
        ],
        [
         "92",
         "thaidancer",
         "30",
         "10",
         "4"
        ],
        [
         "93",
         "thaidancer",
         "30",
         "11",
         "4"
        ],
        [
         "94",
         "thaidancer",
         "30",
         "16",
         "4"
        ],
        [
         "110",
         "thaidancer",
         "30",
         "8",
         "2"
        ],
        [
         "111",
         "thaidancer",
         "30",
         "9",
         "4"
        ],
        [
         "112",
         "thaidancer",
         "30",
         "10",
         "5"
        ],
        [
         "113",
         "thaidancer",
         "30",
         "11",
         "5"
        ],
        [
         "114",
         "thaidancer",
         "30",
         "16",
         "5"
        ],
        [
         "130",
         "dancer",
         "30",
         "8",
         "4"
        ],
        [
         "131",
         "dancer",
         "30",
         "9",
         "4"
        ],
        [
         "132",
         "dancer",
         "30",
         "10",
         "4"
        ],
        [
         "133",
         "dancer",
         "30",
         "11",
         "5"
        ],
        [
         "134",
         "dancer",
         "30",
         "16",
         "5"
        ],
        [
         "150",
         "dancer",
         "30",
         "8",
         "3"
        ],
        [
         "151",
         "dancer",
         "30",
         "9",
         "5"
        ],
        [
         "152",
         "dancer",
         "30",
         "10",
         "5"
        ],
        [
         "153",
         "dancer",
         "30",
         "11",
         "5"
        ],
        [
         "154",
         "dancer",
         "30",
         "16",
         "5"
        ],
        [
         "170",
         "dancer",
         "30",
         "8",
         "2"
        ],
        [
         "171",
         "dancer",
         "30",
         "9",
         "4"
        ],
        [
         "172",
         "dancer",
         "30",
         "10",
         "5"
        ],
        [
         "173",
         "dancer",
         "30",
         "11",
         "5"
        ],
        [
         "174",
         "dancer",
         "30",
         "16",
         "5"
        ],
        [
         "190",
         "thaidancer",
         "30",
         "8",
         "5"
        ],
        [
         "191",
         "thaidancer",
         "30",
         "9",
         "4"
        ],
        [
         "192",
         "thaidancer",
         "30",
         "10",
         "5"
        ],
        [
         "193",
         "thaidancer",
         "30",
         "11",
         "5"
        ],
        [
         "194",
         "thaidancer",
         "30",
         "16",
         "5"
        ]
       ],
       "shape": {
        "columns": 4,
        "rows": 3060
       }
      },
      "text/html": [
       "<div>\n",
       "<style scoped>\n",
       "    .dataframe tbody tr th:only-of-type {\n",
       "        vertical-align: middle;\n",
       "    }\n",
       "\n",
       "    .dataframe tbody tr th {\n",
       "        vertical-align: top;\n",
       "    }\n",
       "\n",
       "    .dataframe thead th {\n",
       "        text-align: right;\n",
       "    }\n",
       "</style>\n",
       "<table border=\"1\" class=\"dataframe\">\n",
       "  <thead>\n",
       "    <tr style=\"text-align: right;\">\n",
       "      <th></th>\n",
       "      <th>object</th>\n",
       "      <th>frame_rate</th>\n",
       "      <th>quantization_parameter</th>\n",
       "      <th>qoe</th>\n",
       "    </tr>\n",
       "  </thead>\n",
       "  <tbody>\n",
       "    <tr>\n",
       "      <th>10</th>\n",
       "      <td>dancer</td>\n",
       "      <td>30</td>\n",
       "      <td>8</td>\n",
       "      <td>4</td>\n",
       "    </tr>\n",
       "    <tr>\n",
       "      <th>11</th>\n",
       "      <td>dancer</td>\n",
       "      <td>30</td>\n",
       "      <td>9</td>\n",
       "      <td>3</td>\n",
       "    </tr>\n",
       "    <tr>\n",
       "      <th>12</th>\n",
       "      <td>dancer</td>\n",
       "      <td>30</td>\n",
       "      <td>10</td>\n",
       "      <td>5</td>\n",
       "    </tr>\n",
       "    <tr>\n",
       "      <th>13</th>\n",
       "      <td>dancer</td>\n",
       "      <td>30</td>\n",
       "      <td>11</td>\n",
       "      <td>4</td>\n",
       "    </tr>\n",
       "    <tr>\n",
       "      <th>14</th>\n",
       "      <td>dancer</td>\n",
       "      <td>30</td>\n",
       "      <td>16</td>\n",
       "      <td>3</td>\n",
       "    </tr>\n",
       "    <tr>\n",
       "      <th>...</th>\n",
       "      <td>...</td>\n",
       "      <td>...</td>\n",
       "      <td>...</td>\n",
       "      <td>...</td>\n",
       "    </tr>\n",
       "    <tr>\n",
       "      <th>12230</th>\n",
       "      <td>thaidancer</td>\n",
       "      <td>30</td>\n",
       "      <td>8</td>\n",
       "      <td>2</td>\n",
       "    </tr>\n",
       "    <tr>\n",
       "      <th>12231</th>\n",
       "      <td>thaidancer</td>\n",
       "      <td>30</td>\n",
       "      <td>9</td>\n",
       "      <td>3</td>\n",
       "    </tr>\n",
       "    <tr>\n",
       "      <th>12232</th>\n",
       "      <td>thaidancer</td>\n",
       "      <td>30</td>\n",
       "      <td>10</td>\n",
       "      <td>3</td>\n",
       "    </tr>\n",
       "    <tr>\n",
       "      <th>12233</th>\n",
       "      <td>thaidancer</td>\n",
       "      <td>30</td>\n",
       "      <td>11</td>\n",
       "      <td>3</td>\n",
       "    </tr>\n",
       "    <tr>\n",
       "      <th>12234</th>\n",
       "      <td>thaidancer</td>\n",
       "      <td>30</td>\n",
       "      <td>16</td>\n",
       "      <td>5</td>\n",
       "    </tr>\n",
       "  </tbody>\n",
       "</table>\n",
       "<p>3060 rows × 4 columns</p>\n",
       "</div>"
      ],
      "text/plain": [
       "           object  frame_rate  quantization_parameter  qoe\n",
       "10         dancer          30                       8    4\n",
       "11         dancer          30                       9    3\n",
       "12         dancer          30                      10    5\n",
       "13         dancer          30                      11    4\n",
       "14         dancer          30                      16    3\n",
       "...           ...         ...                     ...  ...\n",
       "12230  thaidancer          30                       8    2\n",
       "12231  thaidancer          30                       9    3\n",
       "12232  thaidancer          30                      10    3\n",
       "12233  thaidancer          30                      11    3\n",
       "12234  thaidancer          30                      16    5\n",
       "\n",
       "[3060 rows x 4 columns]"
      ]
     },
     "execution_count": 22,
     "metadata": {},
     "output_type": "execute_result"
    }
   ],
   "source": [
    "#draco_df = draco_df[['object','frame_rate', 'distance', 'quantization_parameter', 'qoe']]\n",
    "\n",
    "draco_df = draco_df[['object','frame_rate', 'quantization_parameter', 'qoe']]\n",
    "draco_df"
   ]
  },
  {
   "cell_type": "code",
   "execution_count": 23,
   "id": "677b5ed9",
   "metadata": {},
   "outputs": [],
   "source": [
    "# Not doing this anymore. Just filtering based on QoE value directly; see below\n",
    "draco_df = draco_df[['frame_rate', 'quantization_parameter', 'qoe']]\n",
    "# groupby column names\n",
    "groupby_columns_draco = ['frame_rate', 'quantization_parameter'] # MAKE SURE GROUPBY COLUMNS DOESNT HAVE QOE!!!!\n",
    "\n",
    "configurations_draco = draco_df.groupby(groupby_columns_draco, as_index=False)\n",
    "configurations_draco\n",
    "\n",
    "filtered_draco_df = None\n",
    "\n",
    "#for each configuration, filter outliers\n",
    "for _, frame in configurations_draco:\n",
    "    filtered_draco_df = pd.concat([filtered_draco_df, boxplot_outlier_filter_draco(frame)], axis=0)\n",
    "\n",
    "#reset the index of the filtered dataframe\n",
    "filtered_draco_df = filtered_draco_df.reset_index(drop=True)"
   ]
  },
  {
   "cell_type": "code",
   "execution_count": 24,
   "id": "6142ac62",
   "metadata": {},
   "outputs": [],
   "source": [
    "# filtered_draco_df = None\n",
    "\n",
    "# Q1 = draco_df['qoe'].quantile(0.25)\n",
    "# Q3 = draco_df['qoe'].quantile(0.75)\n",
    "# IQR = Q3 - Q1\n",
    "\n",
    "# lower_bound = Q1 - 1.5 * IQR\n",
    "# upper_bound = Q3 + 1.5 * IQR\n",
    "\n",
    "# filtered_draco_df = draco_df[(draco_df['qoe'] >= lower_bound) & (draco_df['qoe']<= upper_bound)]\n"
   ]
  },
  {
   "cell_type": "code",
   "execution_count": 25,
   "id": "bcd35a20",
   "metadata": {},
   "outputs": [
    {
     "data": {
      "application/vnd.microsoft.datawrangler.viewer.v0+json": {
       "columns": [
        {
         "name": "index",
         "rawType": "int64",
         "type": "integer"
        },
        {
         "name": "frame_rate",
         "rawType": "int64",
         "type": "integer"
        },
        {
         "name": "quantization_parameter",
         "rawType": "int64",
         "type": "integer"
        },
        {
         "name": "rate",
         "rawType": "int64",
         "type": "integer"
        }
       ],
       "ref": "c664e855-a46e-4460-ae10-214c17a42996",
       "rows": [
        [
         "0",
         "30",
         "8",
         "4"
        ],
        [
         "1",
         "30",
         "8",
         "5"
        ],
        [
         "2",
         "30",
         "8",
         "2"
        ],
        [
         "3",
         "30",
         "8",
         "4"
        ],
        [
         "4",
         "30",
         "8",
         "4"
        ],
        [
         "5",
         "30",
         "8",
         "2"
        ],
        [
         "6",
         "30",
         "8",
         "4"
        ],
        [
         "7",
         "30",
         "8",
         "3"
        ],
        [
         "8",
         "30",
         "8",
         "2"
        ],
        [
         "9",
         "30",
         "8",
         "5"
        ],
        [
         "10",
         "30",
         "8",
         "2"
        ],
        [
         "11",
         "30",
         "8",
         "2"
        ],
        [
         "12",
         "30",
         "8",
         "4"
        ],
        [
         "13",
         "30",
         "8",
         "1"
        ],
        [
         "14",
         "30",
         "8",
         "1"
        ],
        [
         "15",
         "30",
         "8",
         "4"
        ],
        [
         "16",
         "30",
         "8",
         "3"
        ],
        [
         "17",
         "30",
         "8",
         "1"
        ],
        [
         "18",
         "30",
         "8",
         "5"
        ],
        [
         "19",
         "30",
         "8",
         "4"
        ],
        [
         "20",
         "30",
         "8",
         "3"
        ],
        [
         "21",
         "30",
         "8",
         "4"
        ],
        [
         "22",
         "30",
         "8",
         "3"
        ],
        [
         "23",
         "30",
         "8",
         "1"
        ],
        [
         "24",
         "30",
         "8",
         "2"
        ],
        [
         "25",
         "30",
         "8",
         "1"
        ],
        [
         "26",
         "30",
         "8",
         "2"
        ],
        [
         "27",
         "30",
         "8",
         "4"
        ],
        [
         "28",
         "30",
         "8",
         "2"
        ],
        [
         "29",
         "30",
         "8",
         "1"
        ],
        [
         "30",
         "30",
         "8",
         "2"
        ],
        [
         "31",
         "30",
         "8",
         "2"
        ],
        [
         "32",
         "30",
         "8",
         "2"
        ],
        [
         "33",
         "30",
         "8",
         "3"
        ],
        [
         "34",
         "30",
         "8",
         "2"
        ],
        [
         "35",
         "30",
         "8",
         "1"
        ],
        [
         "36",
         "30",
         "8",
         "3"
        ],
        [
         "37",
         "30",
         "8",
         "3"
        ],
        [
         "38",
         "30",
         "8",
         "3"
        ],
        [
         "39",
         "30",
         "8",
         "2"
        ],
        [
         "40",
         "30",
         "8",
         "2"
        ],
        [
         "41",
         "30",
         "8",
         "1"
        ],
        [
         "42",
         "30",
         "8",
         "2"
        ],
        [
         "43",
         "30",
         "8",
         "2"
        ],
        [
         "44",
         "30",
         "8",
         "1"
        ],
        [
         "45",
         "30",
         "8",
         "2"
        ],
        [
         "46",
         "30",
         "8",
         "2"
        ],
        [
         "47",
         "30",
         "8",
         "1"
        ],
        [
         "48",
         "30",
         "8",
         "2"
        ],
        [
         "49",
         "30",
         "8",
         "1"
        ]
       ],
       "shape": {
        "columns": 3,
        "rows": 3038
       }
      },
      "text/html": [
       "<div>\n",
       "<style scoped>\n",
       "    .dataframe tbody tr th:only-of-type {\n",
       "        vertical-align: middle;\n",
       "    }\n",
       "\n",
       "    .dataframe tbody tr th {\n",
       "        vertical-align: top;\n",
       "    }\n",
       "\n",
       "    .dataframe thead th {\n",
       "        text-align: right;\n",
       "    }\n",
       "</style>\n",
       "<table border=\"1\" class=\"dataframe\">\n",
       "  <thead>\n",
       "    <tr style=\"text-align: right;\">\n",
       "      <th></th>\n",
       "      <th>frame_rate</th>\n",
       "      <th>quantization_parameter</th>\n",
       "      <th>rate</th>\n",
       "    </tr>\n",
       "  </thead>\n",
       "  <tbody>\n",
       "    <tr>\n",
       "      <th>0</th>\n",
       "      <td>30</td>\n",
       "      <td>8</td>\n",
       "      <td>4</td>\n",
       "    </tr>\n",
       "    <tr>\n",
       "      <th>1</th>\n",
       "      <td>30</td>\n",
       "      <td>8</td>\n",
       "      <td>5</td>\n",
       "    </tr>\n",
       "    <tr>\n",
       "      <th>2</th>\n",
       "      <td>30</td>\n",
       "      <td>8</td>\n",
       "      <td>2</td>\n",
       "    </tr>\n",
       "    <tr>\n",
       "      <th>3</th>\n",
       "      <td>30</td>\n",
       "      <td>8</td>\n",
       "      <td>4</td>\n",
       "    </tr>\n",
       "    <tr>\n",
       "      <th>4</th>\n",
       "      <td>30</td>\n",
       "      <td>8</td>\n",
       "      <td>4</td>\n",
       "    </tr>\n",
       "    <tr>\n",
       "      <th>...</th>\n",
       "      <td>...</td>\n",
       "      <td>...</td>\n",
       "      <td>...</td>\n",
       "    </tr>\n",
       "    <tr>\n",
       "      <th>3033</th>\n",
       "      <td>30</td>\n",
       "      <td>16</td>\n",
       "      <td>4</td>\n",
       "    </tr>\n",
       "    <tr>\n",
       "      <th>3034</th>\n",
       "      <td>30</td>\n",
       "      <td>16</td>\n",
       "      <td>4</td>\n",
       "    </tr>\n",
       "    <tr>\n",
       "      <th>3035</th>\n",
       "      <td>30</td>\n",
       "      <td>16</td>\n",
       "      <td>2</td>\n",
       "    </tr>\n",
       "    <tr>\n",
       "      <th>3036</th>\n",
       "      <td>30</td>\n",
       "      <td>16</td>\n",
       "      <td>2</td>\n",
       "    </tr>\n",
       "    <tr>\n",
       "      <th>3037</th>\n",
       "      <td>30</td>\n",
       "      <td>16</td>\n",
       "      <td>5</td>\n",
       "    </tr>\n",
       "  </tbody>\n",
       "</table>\n",
       "<p>3038 rows × 3 columns</p>\n",
       "</div>"
      ],
      "text/plain": [
       "      frame_rate  quantization_parameter  rate\n",
       "0             30                       8     4\n",
       "1             30                       8     5\n",
       "2             30                       8     2\n",
       "3             30                       8     4\n",
       "4             30                       8     4\n",
       "...          ...                     ...   ...\n",
       "3033          30                      16     4\n",
       "3034          30                      16     4\n",
       "3035          30                      16     2\n",
       "3036          30                      16     2\n",
       "3037          30                      16     5\n",
       "\n",
       "[3038 rows x 3 columns]"
      ]
     },
     "execution_count": 25,
     "metadata": {},
     "output_type": "execute_result"
    }
   ],
   "source": [
    "# remove the object bc it doesnt matter\n",
    "\n",
    "filtered_draco_df['rate'] = filtered_draco_df['qoe']\n",
    "filtered_draco_df = filtered_draco_df[['frame_rate', 'quantization_parameter', 'rate']]\n",
    "filtered_draco_df"
   ]
  },
  {
   "cell_type": "code",
   "execution_count": 26,
   "id": "7f57407e",
   "metadata": {},
   "outputs": [
    {
     "data": {
      "text/plain": [
       "<pandas.core.groupby.generic.DataFrameGroupBy object at 0x7f1ecda21510>"
      ]
     },
     "execution_count": 26,
     "metadata": {},
     "output_type": "execute_result"
    }
   ],
   "source": [
    "groups_draco = filtered_draco_df.groupby(groupby_columns_draco)\n",
    "groups_draco"
   ]
  },
  {
   "cell_type": "code",
   "execution_count": 27,
   "id": "1307ce05",
   "metadata": {},
   "outputs": [],
   "source": [
    "from sklearn import preprocessing\n",
    "from sklearn.calibration import LabelEncoder\n",
    "\n",
    "# fn to separate cols into training and testing data\n",
    "def get_train_test_fold(groups, test_group_name):\n",
    "    \"\"\"\n",
    "    Get train/test folds for leave-one-out cross-validation. \n",
    "\n",
    "    :param test_group_name: the group name of the test fold\n",
    "    :param normalize: normalize the data with StandardScaler\n",
    "    :return: tuple with data frames (train features, train labels, test features, test labels)\n",
    "    \"\"\"\n",
    "    training_group_keys = list(groups.groups.keys())\n",
    "    training_group_keys.remove(test_group_name)\n",
    "    training_groups = pd.concat(list(map(groups.get_group, training_group_keys)))\n",
    "   \n",
    "    y_train = training_groups['rate']\n",
    "    # The features must not contain the last column\n",
    "    x_train = training_groups.drop('rate', axis=1)\n",
    "\n",
    "    # single test sample from test group\n",
    "    y_test = groups.get_group(test_group_name)['rate'].mean()\n",
    "    x_test = groups.get_group(test_group_name).head(1).iloc[:,:-1]\n",
    "\n",
    "    return x_train, y_train, x_test, y_test"
   ]
  },
  {
   "cell_type": "code",
   "execution_count": 28,
   "id": "c010d9b5",
   "metadata": {},
   "outputs": [
    {
     "name": "stdout",
     "output_type": "stream",
     "text": [
      "Processing DRACO\n",
      "Groups\n",
      "['frame_rate', 'quantization_parameter']\n",
      "{(30, 8): [0, 1, 2, 3, 4, 5, 6, 7, 8, 9, 10, 11, 12, 13, 14, 15, 16, 17, 18, 19, 20, 21, 22, 23, 24, 25, 26, 27, 28, 29, 30, 31, 32, 33, 34, 35, 36, 37, 38, 39, 40, 41, 42, 43, 44, 45, 46, 47, 48, 49, 50, 51, 52, 53, 54, 55, 56, 57, 58, 59, 60, 61, 62, 63, 64, 65, 66, 67, 68, 69, 70, 71, 72, 73, 74, 75, 76, 77, 78, 79, 80, 81, 82, 83, 84, 85, 86, 87, 88, 89, 90, 91, 92, 93, 94, 95, 96, 97, 98, 99, ...], (30, 9): [612, 613, 614, 615, 616, 617, 618, 619, 620, 621, 622, 623, 624, 625, 626, 627, 628, 629, 630, 631, 632, 633, 634, 635, 636, 637, 638, 639, 640, 641, 642, 643, 644, 645, 646, 647, 648, 649, 650, 651, 652, 653, 654, 655, 656, 657, 658, 659, 660, 661, 662, 663, 664, 665, 666, 667, 668, 669, 670, 671, 672, 673, 674, 675, 676, 677, 678, 679, 680, 681, 682, 683, 684, 685, 686, 687, 688, 689, 690, 691, 692, 693, 694, 695, 696, 697, 698, 699, 700, 701, 702, 703, 704, 705, 706, 707, 708, 709, 710, 711, ...], (30, 10): [1211, 1212, 1213, 1214, 1215, 1216, 1217, 1218, 1219, 1220, 1221, 1222, 1223, 1224, 1225, 1226, 1227, 1228, 1229, 1230, 1231, 1232, 1233, 1234, 1235, 1236, 1237, 1238, 1239, 1240, 1241, 1242, 1243, 1244, 1245, 1246, 1247, 1248, 1249, 1250, 1251, 1252, 1253, 1254, 1255, 1256, 1257, 1258, 1259, 1260, 1261, 1262, 1263, 1264, 1265, 1266, 1267, 1268, 1269, 1270, 1271, 1272, 1273, 1274, 1275, 1276, 1277, 1278, 1279, 1280, 1281, 1282, 1283, 1284, 1285, 1286, 1287, 1288, 1289, 1290, 1291, 1292, 1293, 1294, 1295, 1296, 1297, 1298, 1299, 1300, 1301, 1302, 1303, 1304, 1305, 1306, 1307, 1308, 1309, 1310, ...], (30, 11): [1814, 1815, 1816, 1817, 1818, 1819, 1820, 1821, 1822, 1823, 1824, 1825, 1826, 1827, 1828, 1829, 1830, 1831, 1832, 1833, 1834, 1835, 1836, 1837, 1838, 1839, 1840, 1841, 1842, 1843, 1844, 1845, 1846, 1847, 1848, 1849, 1850, 1851, 1852, 1853, 1854, 1855, 1856, 1857, 1858, 1859, 1860, 1861, 1862, 1863, 1864, 1865, 1866, 1867, 1868, 1869, 1870, 1871, 1872, 1873, 1874, 1875, 1876, 1877, 1878, 1879, 1880, 1881, 1882, 1883, 1884, 1885, 1886, 1887, 1888, 1889, 1890, 1891, 1892, 1893, 1894, 1895, 1896, 1897, 1898, 1899, 1900, 1901, 1902, 1903, 1904, 1905, 1906, 1907, 1908, 1909, 1910, 1911, 1912, 1913, ...], (30, 16): [2426, 2427, 2428, 2429, 2430, 2431, 2432, 2433, 2434, 2435, 2436, 2437, 2438, 2439, 2440, 2441, 2442, 2443, 2444, 2445, 2446, 2447, 2448, 2449, 2450, 2451, 2452, 2453, 2454, 2455, 2456, 2457, 2458, 2459, 2460, 2461, 2462, 2463, 2464, 2465, 2466, 2467, 2468, 2469, 2470, 2471, 2472, 2473, 2474, 2475, 2476, 2477, 2478, 2479, 2480, 2481, 2482, 2483, 2484, 2485, 2486, 2487, 2488, 2489, 2490, 2491, 2492, 2493, 2494, 2495, 2496, 2497, 2498, 2499, 2500, 2501, 2502, 2503, 2504, 2505, 2506, 2507, 2508, 2509, 2510, 2511, 2512, 2513, 2514, 2515, 2516, 2517, 2518, 2519, 2520, 2521, 2522, 2523, 2524, 2525, ...]}\n"
     ]
    },
    {
     "name": "stderr",
     "output_type": "stream",
     "text": [
      "/tmp/ipykernel_274329/154646299.py:27: FutureWarning: DataFrameGroupBy.grouper is deprecated and will be removed in a future version of pandas.\n",
      "  print(group.grouper.names)\n"
     ]
    },
    {
     "name": "stdout",
     "output_type": "stream",
     "text": [
      "Groups\n",
      "['frame_rate', 'quantization_parameter']\n",
      "{(30, 8): [0, 1, 2, 3, 4, 5, 6, 7, 8, 9, 10, 11, 12, 13, 14, 15, 16, 17, 18, 19, 20, 21, 22, 23, 24, 25, 26, 27, 28, 29, 30, 31, 32, 33, 34, 35, 36, 37, 38, 39, 40, 41, 42, 43, 44, 45, 46, 47, 48, 49, 50, 51, 52, 53, 54, 55, 56, 57, 58, 59, 60, 61, 62, 63, 64, 65, 66, 67, 68, 69, 70, 71, 72, 73, 74, 75, 76, 77, 78, 79, 80, 81, 82, 83, 84, 85, 86, 87, 88, 89, 90, 91, 92, 93, 94, 95, 96, 97, 98, 99, ...], (30, 9): [612, 613, 614, 615, 616, 617, 618, 619, 620, 621, 622, 623, 624, 625, 626, 627, 628, 629, 630, 631, 632, 633, 634, 635, 636, 637, 638, 639, 640, 641, 642, 643, 644, 645, 646, 647, 648, 649, 650, 651, 652, 653, 654, 655, 656, 657, 658, 659, 660, 661, 662, 663, 664, 665, 666, 667, 668, 669, 670, 671, 672, 673, 674, 675, 676, 677, 678, 679, 680, 681, 682, 683, 684, 685, 686, 687, 688, 689, 690, 691, 692, 693, 694, 695, 696, 697, 698, 699, 700, 701, 702, 703, 704, 705, 706, 707, 708, 709, 710, 711, ...], (30, 10): [1211, 1212, 1213, 1214, 1215, 1216, 1217, 1218, 1219, 1220, 1221, 1222, 1223, 1224, 1225, 1226, 1227, 1228, 1229, 1230, 1231, 1232, 1233, 1234, 1235, 1236, 1237, 1238, 1239, 1240, 1241, 1242, 1243, 1244, 1245, 1246, 1247, 1248, 1249, 1250, 1251, 1252, 1253, 1254, 1255, 1256, 1257, 1258, 1259, 1260, 1261, 1262, 1263, 1264, 1265, 1266, 1267, 1268, 1269, 1270, 1271, 1272, 1273, 1274, 1275, 1276, 1277, 1278, 1279, 1280, 1281, 1282, 1283, 1284, 1285, 1286, 1287, 1288, 1289, 1290, 1291, 1292, 1293, 1294, 1295, 1296, 1297, 1298, 1299, 1300, 1301, 1302, 1303, 1304, 1305, 1306, 1307, 1308, 1309, 1310, ...], (30, 11): [1814, 1815, 1816, 1817, 1818, 1819, 1820, 1821, 1822, 1823, 1824, 1825, 1826, 1827, 1828, 1829, 1830, 1831, 1832, 1833, 1834, 1835, 1836, 1837, 1838, 1839, 1840, 1841, 1842, 1843, 1844, 1845, 1846, 1847, 1848, 1849, 1850, 1851, 1852, 1853, 1854, 1855, 1856, 1857, 1858, 1859, 1860, 1861, 1862, 1863, 1864, 1865, 1866, 1867, 1868, 1869, 1870, 1871, 1872, 1873, 1874, 1875, 1876, 1877, 1878, 1879, 1880, 1881, 1882, 1883, 1884, 1885, 1886, 1887, 1888, 1889, 1890, 1891, 1892, 1893, 1894, 1895, 1896, 1897, 1898, 1899, 1900, 1901, 1902, 1903, 1904, 1905, 1906, 1907, 1908, 1909, 1910, 1911, 1912, 1913, ...], (30, 16): [2426, 2427, 2428, 2429, 2430, 2431, 2432, 2433, 2434, 2435, 2436, 2437, 2438, 2439, 2440, 2441, 2442, 2443, 2444, 2445, 2446, 2447, 2448, 2449, 2450, 2451, 2452, 2453, 2454, 2455, 2456, 2457, 2458, 2459, 2460, 2461, 2462, 2463, 2464, 2465, 2466, 2467, 2468, 2469, 2470, 2471, 2472, 2473, 2474, 2475, 2476, 2477, 2478, 2479, 2480, 2481, 2482, 2483, 2484, 2485, 2486, 2487, 2488, 2489, 2490, 2491, 2492, 2493, 2494, 2495, 2496, 2497, 2498, 2499, 2500, 2501, 2502, 2503, 2504, 2505, 2506, 2507, 2508, 2509, 2510, 2511, 2512, 2513, 2514, 2515, 2516, 2517, 2518, 2519, 2520, 2521, 2522, 2523, 2524, 2525, ...]}\n"
     ]
    },
    {
     "name": "stderr",
     "output_type": "stream",
     "text": [
      "/tmp/ipykernel_274329/154646299.py:27: FutureWarning: DataFrameGroupBy.grouper is deprecated and will be removed in a future version of pandas.\n",
      "  print(group.grouper.names)\n"
     ]
    },
    {
     "name": "stdout",
     "output_type": "stream",
     "text": [
      "Groups\n",
      "['frame_rate', 'quantization_parameter']\n",
      "{(30, 8): [0, 1, 2, 3, 4, 5, 6, 7, 8, 9, 10, 11, 12, 13, 14, 15, 16, 17, 18, 19, 20, 21, 22, 23, 24, 25, 26, 27, 28, 29, 30, 31, 32, 33, 34, 35, 36, 37, 38, 39, 40, 41, 42, 43, 44, 45, 46, 47, 48, 49, 50, 51, 52, 53, 54, 55, 56, 57, 58, 59, 60, 61, 62, 63, 64, 65, 66, 67, 68, 69, 70, 71, 72, 73, 74, 75, 76, 77, 78, 79, 80, 81, 82, 83, 84, 85, 86, 87, 88, 89, 90, 91, 92, 93, 94, 95, 96, 97, 98, 99, ...], (30, 9): [612, 613, 614, 615, 616, 617, 618, 619, 620, 621, 622, 623, 624, 625, 626, 627, 628, 629, 630, 631, 632, 633, 634, 635, 636, 637, 638, 639, 640, 641, 642, 643, 644, 645, 646, 647, 648, 649, 650, 651, 652, 653, 654, 655, 656, 657, 658, 659, 660, 661, 662, 663, 664, 665, 666, 667, 668, 669, 670, 671, 672, 673, 674, 675, 676, 677, 678, 679, 680, 681, 682, 683, 684, 685, 686, 687, 688, 689, 690, 691, 692, 693, 694, 695, 696, 697, 698, 699, 700, 701, 702, 703, 704, 705, 706, 707, 708, 709, 710, 711, ...], (30, 10): [1211, 1212, 1213, 1214, 1215, 1216, 1217, 1218, 1219, 1220, 1221, 1222, 1223, 1224, 1225, 1226, 1227, 1228, 1229, 1230, 1231, 1232, 1233, 1234, 1235, 1236, 1237, 1238, 1239, 1240, 1241, 1242, 1243, 1244, 1245, 1246, 1247, 1248, 1249, 1250, 1251, 1252, 1253, 1254, 1255, 1256, 1257, 1258, 1259, 1260, 1261, 1262, 1263, 1264, 1265, 1266, 1267, 1268, 1269, 1270, 1271, 1272, 1273, 1274, 1275, 1276, 1277, 1278, 1279, 1280, 1281, 1282, 1283, 1284, 1285, 1286, 1287, 1288, 1289, 1290, 1291, 1292, 1293, 1294, 1295, 1296, 1297, 1298, 1299, 1300, 1301, 1302, 1303, 1304, 1305, 1306, 1307, 1308, 1309, 1310, ...], (30, 11): [1814, 1815, 1816, 1817, 1818, 1819, 1820, 1821, 1822, 1823, 1824, 1825, 1826, 1827, 1828, 1829, 1830, 1831, 1832, 1833, 1834, 1835, 1836, 1837, 1838, 1839, 1840, 1841, 1842, 1843, 1844, 1845, 1846, 1847, 1848, 1849, 1850, 1851, 1852, 1853, 1854, 1855, 1856, 1857, 1858, 1859, 1860, 1861, 1862, 1863, 1864, 1865, 1866, 1867, 1868, 1869, 1870, 1871, 1872, 1873, 1874, 1875, 1876, 1877, 1878, 1879, 1880, 1881, 1882, 1883, 1884, 1885, 1886, 1887, 1888, 1889, 1890, 1891, 1892, 1893, 1894, 1895, 1896, 1897, 1898, 1899, 1900, 1901, 1902, 1903, 1904, 1905, 1906, 1907, 1908, 1909, 1910, 1911, 1912, 1913, ...], (30, 16): [2426, 2427, 2428, 2429, 2430, 2431, 2432, 2433, 2434, 2435, 2436, 2437, 2438, 2439, 2440, 2441, 2442, 2443, 2444, 2445, 2446, 2447, 2448, 2449, 2450, 2451, 2452, 2453, 2454, 2455, 2456, 2457, 2458, 2459, 2460, 2461, 2462, 2463, 2464, 2465, 2466, 2467, 2468, 2469, 2470, 2471, 2472, 2473, 2474, 2475, 2476, 2477, 2478, 2479, 2480, 2481, 2482, 2483, 2484, 2485, 2486, 2487, 2488, 2489, 2490, 2491, 2492, 2493, 2494, 2495, 2496, 2497, 2498, 2499, 2500, 2501, 2502, 2503, 2504, 2505, 2506, 2507, 2508, 2509, 2510, 2511, 2512, 2513, 2514, 2515, 2516, 2517, 2518, 2519, 2520, 2521, 2522, 2523, 2524, 2525, ...]}\n"
     ]
    },
    {
     "name": "stderr",
     "output_type": "stream",
     "text": [
      "/tmp/ipykernel_274329/154646299.py:27: FutureWarning: DataFrameGroupBy.grouper is deprecated and will be removed in a future version of pandas.\n",
      "  print(group.grouper.names)\n"
     ]
    },
    {
     "name": "stdout",
     "output_type": "stream",
     "text": [
      "Groups\n",
      "['frame_rate', 'quantization_parameter']\n",
      "{(30, 8): [0, 1, 2, 3, 4, 5, 6, 7, 8, 9, 10, 11, 12, 13, 14, 15, 16, 17, 18, 19, 20, 21, 22, 23, 24, 25, 26, 27, 28, 29, 30, 31, 32, 33, 34, 35, 36, 37, 38, 39, 40, 41, 42, 43, 44, 45, 46, 47, 48, 49, 50, 51, 52, 53, 54, 55, 56, 57, 58, 59, 60, 61, 62, 63, 64, 65, 66, 67, 68, 69, 70, 71, 72, 73, 74, 75, 76, 77, 78, 79, 80, 81, 82, 83, 84, 85, 86, 87, 88, 89, 90, 91, 92, 93, 94, 95, 96, 97, 98, 99, ...], (30, 9): [612, 613, 614, 615, 616, 617, 618, 619, 620, 621, 622, 623, 624, 625, 626, 627, 628, 629, 630, 631, 632, 633, 634, 635, 636, 637, 638, 639, 640, 641, 642, 643, 644, 645, 646, 647, 648, 649, 650, 651, 652, 653, 654, 655, 656, 657, 658, 659, 660, 661, 662, 663, 664, 665, 666, 667, 668, 669, 670, 671, 672, 673, 674, 675, 676, 677, 678, 679, 680, 681, 682, 683, 684, 685, 686, 687, 688, 689, 690, 691, 692, 693, 694, 695, 696, 697, 698, 699, 700, 701, 702, 703, 704, 705, 706, 707, 708, 709, 710, 711, ...], (30, 10): [1211, 1212, 1213, 1214, 1215, 1216, 1217, 1218, 1219, 1220, 1221, 1222, 1223, 1224, 1225, 1226, 1227, 1228, 1229, 1230, 1231, 1232, 1233, 1234, 1235, 1236, 1237, 1238, 1239, 1240, 1241, 1242, 1243, 1244, 1245, 1246, 1247, 1248, 1249, 1250, 1251, 1252, 1253, 1254, 1255, 1256, 1257, 1258, 1259, 1260, 1261, 1262, 1263, 1264, 1265, 1266, 1267, 1268, 1269, 1270, 1271, 1272, 1273, 1274, 1275, 1276, 1277, 1278, 1279, 1280, 1281, 1282, 1283, 1284, 1285, 1286, 1287, 1288, 1289, 1290, 1291, 1292, 1293, 1294, 1295, 1296, 1297, 1298, 1299, 1300, 1301, 1302, 1303, 1304, 1305, 1306, 1307, 1308, 1309, 1310, ...], (30, 11): [1814, 1815, 1816, 1817, 1818, 1819, 1820, 1821, 1822, 1823, 1824, 1825, 1826, 1827, 1828, 1829, 1830, 1831, 1832, 1833, 1834, 1835, 1836, 1837, 1838, 1839, 1840, 1841, 1842, 1843, 1844, 1845, 1846, 1847, 1848, 1849, 1850, 1851, 1852, 1853, 1854, 1855, 1856, 1857, 1858, 1859, 1860, 1861, 1862, 1863, 1864, 1865, 1866, 1867, 1868, 1869, 1870, 1871, 1872, 1873, 1874, 1875, 1876, 1877, 1878, 1879, 1880, 1881, 1882, 1883, 1884, 1885, 1886, 1887, 1888, 1889, 1890, 1891, 1892, 1893, 1894, 1895, 1896, 1897, 1898, 1899, 1900, 1901, 1902, 1903, 1904, 1905, 1906, 1907, 1908, 1909, 1910, 1911, 1912, 1913, ...], (30, 16): [2426, 2427, 2428, 2429, 2430, 2431, 2432, 2433, 2434, 2435, 2436, 2437, 2438, 2439, 2440, 2441, 2442, 2443, 2444, 2445, 2446, 2447, 2448, 2449, 2450, 2451, 2452, 2453, 2454, 2455, 2456, 2457, 2458, 2459, 2460, 2461, 2462, 2463, 2464, 2465, 2466, 2467, 2468, 2469, 2470, 2471, 2472, 2473, 2474, 2475, 2476, 2477, 2478, 2479, 2480, 2481, 2482, 2483, 2484, 2485, 2486, 2487, 2488, 2489, 2490, 2491, 2492, 2493, 2494, 2495, 2496, 2497, 2498, 2499, 2500, 2501, 2502, 2503, 2504, 2505, 2506, 2507, 2508, 2509, 2510, 2511, 2512, 2513, 2514, 2515, 2516, 2517, 2518, 2519, 2520, 2521, 2522, 2523, 2524, 2525, ...]}\n"
     ]
    },
    {
     "name": "stderr",
     "output_type": "stream",
     "text": [
      "/tmp/ipykernel_274329/154646299.py:27: FutureWarning: DataFrameGroupBy.grouper is deprecated and will be removed in a future version of pandas.\n",
      "  print(group.grouper.names)\n"
     ]
    },
    {
     "name": "stdout",
     "output_type": "stream",
     "text": [
      "Groups\n",
      "['frame_rate', 'quantization_parameter']\n",
      "{(30, 8): [0, 1, 2, 3, 4, 5, 6, 7, 8, 9, 10, 11, 12, 13, 14, 15, 16, 17, 18, 19, 20, 21, 22, 23, 24, 25, 26, 27, 28, 29, 30, 31, 32, 33, 34, 35, 36, 37, 38, 39, 40, 41, 42, 43, 44, 45, 46, 47, 48, 49, 50, 51, 52, 53, 54, 55, 56, 57, 58, 59, 60, 61, 62, 63, 64, 65, 66, 67, 68, 69, 70, 71, 72, 73, 74, 75, 76, 77, 78, 79, 80, 81, 82, 83, 84, 85, 86, 87, 88, 89, 90, 91, 92, 93, 94, 95, 96, 97, 98, 99, ...], (30, 9): [612, 613, 614, 615, 616, 617, 618, 619, 620, 621, 622, 623, 624, 625, 626, 627, 628, 629, 630, 631, 632, 633, 634, 635, 636, 637, 638, 639, 640, 641, 642, 643, 644, 645, 646, 647, 648, 649, 650, 651, 652, 653, 654, 655, 656, 657, 658, 659, 660, 661, 662, 663, 664, 665, 666, 667, 668, 669, 670, 671, 672, 673, 674, 675, 676, 677, 678, 679, 680, 681, 682, 683, 684, 685, 686, 687, 688, 689, 690, 691, 692, 693, 694, 695, 696, 697, 698, 699, 700, 701, 702, 703, 704, 705, 706, 707, 708, 709, 710, 711, ...], (30, 10): [1211, 1212, 1213, 1214, 1215, 1216, 1217, 1218, 1219, 1220, 1221, 1222, 1223, 1224, 1225, 1226, 1227, 1228, 1229, 1230, 1231, 1232, 1233, 1234, 1235, 1236, 1237, 1238, 1239, 1240, 1241, 1242, 1243, 1244, 1245, 1246, 1247, 1248, 1249, 1250, 1251, 1252, 1253, 1254, 1255, 1256, 1257, 1258, 1259, 1260, 1261, 1262, 1263, 1264, 1265, 1266, 1267, 1268, 1269, 1270, 1271, 1272, 1273, 1274, 1275, 1276, 1277, 1278, 1279, 1280, 1281, 1282, 1283, 1284, 1285, 1286, 1287, 1288, 1289, 1290, 1291, 1292, 1293, 1294, 1295, 1296, 1297, 1298, 1299, 1300, 1301, 1302, 1303, 1304, 1305, 1306, 1307, 1308, 1309, 1310, ...], (30, 11): [1814, 1815, 1816, 1817, 1818, 1819, 1820, 1821, 1822, 1823, 1824, 1825, 1826, 1827, 1828, 1829, 1830, 1831, 1832, 1833, 1834, 1835, 1836, 1837, 1838, 1839, 1840, 1841, 1842, 1843, 1844, 1845, 1846, 1847, 1848, 1849, 1850, 1851, 1852, 1853, 1854, 1855, 1856, 1857, 1858, 1859, 1860, 1861, 1862, 1863, 1864, 1865, 1866, 1867, 1868, 1869, 1870, 1871, 1872, 1873, 1874, 1875, 1876, 1877, 1878, 1879, 1880, 1881, 1882, 1883, 1884, 1885, 1886, 1887, 1888, 1889, 1890, 1891, 1892, 1893, 1894, 1895, 1896, 1897, 1898, 1899, 1900, 1901, 1902, 1903, 1904, 1905, 1906, 1907, 1908, 1909, 1910, 1911, 1912, 1913, ...], (30, 16): [2426, 2427, 2428, 2429, 2430, 2431, 2432, 2433, 2434, 2435, 2436, 2437, 2438, 2439, 2440, 2441, 2442, 2443, 2444, 2445, 2446, 2447, 2448, 2449, 2450, 2451, 2452, 2453, 2454, 2455, 2456, 2457, 2458, 2459, 2460, 2461, 2462, 2463, 2464, 2465, 2466, 2467, 2468, 2469, 2470, 2471, 2472, 2473, 2474, 2475, 2476, 2477, 2478, 2479, 2480, 2481, 2482, 2483, 2484, 2485, 2486, 2487, 2488, 2489, 2490, 2491, 2492, 2493, 2494, 2495, 2496, 2497, 2498, 2499, 2500, 2501, 2502, 2503, 2504, 2505, 2506, 2507, 2508, 2509, 2510, 2511, 2512, 2513, 2514, 2515, 2516, 2517, 2518, 2519, 2520, 2521, 2522, 2523, 2524, 2525, ...]}\n"
     ]
    },
    {
     "name": "stderr",
     "output_type": "stream",
     "text": [
      "/tmp/ipykernel_274329/154646299.py:27: FutureWarning: DataFrameGroupBy.grouper is deprecated and will be removed in a future version of pandas.\n",
      "  print(group.grouper.names)\n"
     ]
    },
    {
     "name": "stdout",
     "output_type": "stream",
     "text": [
      "          prob_1    prob_2    prob_3    prob_4    prob_5 test_configuration  \\\n",
      "0   0.000000e+00  0.192993  0.360521  0.344284  0.102202            (30, 8)   \n",
      "1   1.033030e-03  0.148629  0.314253  0.367904  0.168180            (30, 8)   \n",
      "2   1.848274e-03  0.164092  0.323815  0.352473  0.157771            (30, 8)   \n",
      "3   0.000000e+00  0.195326  0.358932  0.343907  0.101836            (30, 8)   \n",
      "4   1.988206e-03  0.177655  0.341676  0.327308  0.151372            (30, 8)   \n",
      "5   3.060843e-01  0.329094  0.193143  0.132996  0.038683            (30, 9)   \n",
      "6   1.089060e-01  0.208578  0.223801  0.287389  0.171325            (30, 9)   \n",
      "7   2.210706e-01  0.264920  0.199447  0.199648  0.114915            (30, 9)   \n",
      "8   3.071895e-01  0.328431  0.192810  0.133987  0.037582            (30, 9)   \n",
      "9   7.838679e-02  0.218044  0.276367  0.292180  0.135023            (30, 9)   \n",
      "10  0.000000e+00  0.195345  0.358835  0.346917  0.098902           (30, 10)   \n",
      "11  2.723433e-02  0.211826  0.277113  0.315809  0.168018           (30, 10)   \n",
      "12  3.408933e-02  0.185513  0.315810  0.327356  0.137232           (30, 10)   \n",
      "13  0.000000e+00  0.195326  0.358932  0.343907  0.101836           (30, 10)   \n",
      "14  4.756460e-03  0.092540  0.276429  0.372158  0.254117           (30, 10)   \n",
      "15  0.000000e+00  0.086119  0.239996  0.423141  0.250744           (30, 11)   \n",
      "16  2.588317e-03  0.173920  0.270532  0.358524  0.194435           (30, 11)   \n",
      "17  3.343063e-02  0.119872  0.237704  0.384752  0.224242           (30, 11)   \n",
      "18  0.000000e+00  0.087894  0.240464  0.419569  0.252073           (30, 11)   \n",
      "19  2.599585e-03  0.075987  0.250296  0.419828  0.251289           (30, 11)   \n",
      "20  6.137619e-03  0.091464  0.220950  0.368153  0.313297           (30, 16)   \n",
      "21  2.187693e-11  0.001771  0.113035  0.411653  0.473541           (30, 16)   \n",
      "22  3.699211e-02  0.122817  0.227804  0.349808  0.262579           (30, 16)   \n",
      "23  6.535948e-03  0.091503  0.218954  0.369281  0.313725           (30, 16)   \n",
      "24  5.399428e-10  0.000504  0.013781  0.380212  0.605503           (30, 16)   \n",
      "\n",
      "                         model  true_mos  predicted_mos       mse  \n",
      "0       RandomForestClassifier  3.266340       3.355695  0.007984  \n",
      "1           LogisticRegression  3.266340       3.553569  0.082501  \n",
      "2   GradientBoostingClassifier  3.266340       3.500226  0.054703  \n",
      "3       DecisionTreeClassifier  3.266340       3.352254  0.007381  \n",
      "4                MLPClassifier  3.266340       3.448422  0.033154  \n",
      "5       RandomForestClassifier  4.352254       2.269099  4.339534  \n",
      "6           LogisticRegression  4.352254       3.203649  1.319293  \n",
      "7   GradientBoostingClassifier  4.352254       2.722416  2.656373  \n",
      "8       DecisionTreeClassifier  4.352254       2.266340  4.351037  \n",
      "9                MLPClassifier  4.352254       3.187408  1.356866  \n",
      "10      RandomForestClassifier  4.835821       3.349377  2.209515  \n",
      "11          LogisticRegression  4.835821       3.385549  2.103287  \n",
      "12  GradientBoostingClassifier  4.835821       3.348128  2.213230  \n",
      "13      DecisionTreeClassifier  4.835821       3.352254  2.200971  \n",
      "14               MLPClassifier  4.835821       3.778340  1.118266  \n",
      "15      RandomForestClassifier  4.892157       3.838509  1.110174  \n",
      "16          LogisticRegression  4.892157       3.568298  1.752602  \n",
      "17  GradientBoostingClassifier  4.892157       3.646503  1.551654  \n",
      "18      DecisionTreeClassifier  4.892157       3.835821  1.115846  \n",
      "19               MLPClassifier  4.892157       3.841220  1.104467  \n",
      "20      RandomForestClassifier  4.952614       3.891007  1.127010  \n",
      "21          LogisticRegression  4.952614       4.356964  0.354799  \n",
      "22  GradientBoostingClassifier  4.952614       3.678164  1.624223  \n",
      "23      DecisionTreeClassifier  4.952614       3.892157  1.124570  \n",
      "24               MLPClassifier  4.952614       4.590714  0.130972  \n"
     ]
    }
   ],
   "source": [
    "from sklearn.calibration import LabelEncoder\n",
    "from sklearn.ensemble import GradientBoostingClassifier\n",
    "from sklearn.ensemble import RandomForestClassifier\n",
    "from sklearn.linear_model import LogisticRegression\n",
    "from sklearn.tree import DecisionTreeClassifier\n",
    "from sklearn.neural_network import MLPClassifier\n",
    "from sklearn.metrics import mean_squared_error\n",
    "\n",
    "seed = 12563\n",
    "\n",
    "classifier_models = [\n",
    "    RandomForestClassifier(n_estimators=100, random_state=seed),\n",
    "    LogisticRegression(C=1, penalty='l2', solver='liblinear', random_state=seed),\n",
    "    GradientBoostingClassifier(learning_rate=0.01, max_depth=5, n_estimators=100, random_state=seed),\n",
    "    DecisionTreeClassifier(random_state=seed),\n",
    "    MLPClassifier(activation='relu', alpha=0.01, hidden_layer_sizes=[10, 20], max_iter=200, solver='adam', random_state=seed),\n",
    "]\n",
    "\n",
    "CODECS = [\"DRACO\"]\n",
    "GROUPS = [groups_draco]\n",
    "report = None\n",
    "\n",
    "for (codec, group) in zip(CODECS,GROUPS):\n",
    "    print(f\"Processing {codec}\")\n",
    "    for group_name in group.groups.keys():\n",
    "        print('Groups')\n",
    "        print(group.grouper.names)\n",
    "        print(group.groups)\n",
    "        x_train, y_train, x_test, y_test = get_train_test_fold(group, group_name)\n",
    "\n",
    "        for model in classifier_models:\n",
    "            #print(f\"Processing {codec} with model {model.__class__.__name__}\") \n",
    "            # Print unique values in y_train to see what classes exist\n",
    "            #print(\"Unique classes in training data:\", np.unique(y_train))\n",
    "\n",
    "            model.fit(x_train, y_train)\n",
    "\n",
    "            # result of our model is the prediction of class probabilities per voting category\n",
    "            class_prob_prediction = model.predict_proba(x_test)\n",
    "            \n",
    "            # Create results with probabilities for each class\n",
    "            results = pd.DataFrame(class_prob_prediction, \n",
    "                                 columns=['prob_1','prob_2','prob_3','prob_4','prob_5'])\n",
    "            results['test_configuration'] = str(group_name)\n",
    "            results['model'] = model.__class__.__name__\n",
    "\n",
    "            # Convert back from encoded to original classes for true_mos\n",
    "            results['true_mos'] = y_test + 1  # Add 1 since LabelEncoder uses 0-4\n",
    "\n",
    "            # Calculate predicted MOS from probabilities\n",
    "            results['predicted_mos'] = results.apply(\n",
    "                lambda row: np.sum([(i+1) * p for i, p in enumerate(row[:5])]),\n",
    "                axis=1\n",
    "            )\n",
    "            results['mse'] = mean_squared_error(results['true_mos'], results['predicted_mos'])\n",
    "\n",
    "            report = pd.concat([report, results], axis=0, ignore_index=True)\n",
    "    print(report)\n"
   ]
  },
  {
   "cell_type": "markdown",
   "id": "6d1e2283",
   "metadata": {},
   "source": [
    "## Regression Models"
   ]
  },
  {
   "cell_type": "code",
   "execution_count": 29,
   "id": "03e27a9e",
   "metadata": {},
   "outputs": [],
   "source": [
    "from sklearn.neighbors import KNeighborsRegressor\n",
    "from sklearn.linear_model import (Ridge, Lasso,LinearRegression)\n",
    "from sklearn.ensemble import (GradientBoostingRegressor, RandomForestRegressor)\n",
    "from sklearn.preprocessing import PolynomialFeatures\n",
    "from sklearn.tree import DecisionTreeRegressor\n",
    "from sklearn.neural_network import  MLPRegressor\n",
    "from sklearn.pipeline import make_pipeline\n",
    "from sklearn import preprocessing\n",
    "from sklearn.ensemble import ExtraTreesRegressor\n",
    "\n",
    "from sklearn.metrics import mean_squared_error"
   ]
  },
  {
   "cell_type": "code",
   "execution_count": 30,
   "id": "549cab64",
   "metadata": {},
   "outputs": [
    {
     "name": "stdout",
     "output_type": "stream",
     "text": [
      "Processing DRACO\n",
      "          prob_1    prob_2    prob_3    prob_4    prob_5 test_configuration  \\\n",
      "0   0.000000e+00  0.192993  0.360521  0.344284  0.102202            (30, 8)   \n",
      "1   1.033030e-03  0.148629  0.314253  0.367904  0.168180            (30, 8)   \n",
      "2   1.848274e-03  0.164092  0.323815  0.352473  0.157771            (30, 8)   \n",
      "3   0.000000e+00  0.195326  0.358932  0.343907  0.101836            (30, 8)   \n",
      "4   1.988206e-03  0.177655  0.341676  0.327308  0.151372            (30, 8)   \n",
      "5   3.060843e-01  0.329094  0.193143  0.132996  0.038683            (30, 9)   \n",
      "6   1.089060e-01  0.208578  0.223801  0.287389  0.171325            (30, 9)   \n",
      "7   2.210706e-01  0.264920  0.199447  0.199648  0.114915            (30, 9)   \n",
      "8   3.071895e-01  0.328431  0.192810  0.133987  0.037582            (30, 9)   \n",
      "9   7.838679e-02  0.218044  0.276367  0.292180  0.135023            (30, 9)   \n",
      "10  0.000000e+00  0.195345  0.358835  0.346917  0.098902           (30, 10)   \n",
      "11  2.723433e-02  0.211826  0.277113  0.315809  0.168018           (30, 10)   \n",
      "12  3.408933e-02  0.185513  0.315810  0.327356  0.137232           (30, 10)   \n",
      "13  0.000000e+00  0.195326  0.358932  0.343907  0.101836           (30, 10)   \n",
      "14  4.756460e-03  0.092540  0.276429  0.372158  0.254117           (30, 10)   \n",
      "15  0.000000e+00  0.086119  0.239996  0.423141  0.250744           (30, 11)   \n",
      "16  2.588317e-03  0.173920  0.270532  0.358524  0.194435           (30, 11)   \n",
      "17  3.343063e-02  0.119872  0.237704  0.384752  0.224242           (30, 11)   \n",
      "18  0.000000e+00  0.087894  0.240464  0.419569  0.252073           (30, 11)   \n",
      "19  2.599585e-03  0.075987  0.250296  0.419828  0.251289           (30, 11)   \n",
      "20  6.137619e-03  0.091464  0.220950  0.368153  0.313297           (30, 16)   \n",
      "21  2.187693e-11  0.001771  0.113035  0.411653  0.473541           (30, 16)   \n",
      "22  3.699211e-02  0.122817  0.227804  0.349808  0.262579           (30, 16)   \n",
      "23  6.535948e-03  0.091503  0.218954  0.369281  0.313725           (30, 16)   \n",
      "24  5.399428e-10  0.000504  0.013781  0.380212  0.605503           (30, 16)   \n",
      "25           NaN       NaN       NaN       NaN       NaN            (30, 8)   \n",
      "26           NaN       NaN       NaN       NaN       NaN            (30, 8)   \n",
      "27           NaN       NaN       NaN       NaN       NaN            (30, 8)   \n",
      "28           NaN       NaN       NaN       NaN       NaN            (30, 8)   \n",
      "29           NaN       NaN       NaN       NaN       NaN            (30, 8)   \n",
      "30           NaN       NaN       NaN       NaN       NaN            (30, 9)   \n",
      "31           NaN       NaN       NaN       NaN       NaN            (30, 9)   \n",
      "32           NaN       NaN       NaN       NaN       NaN            (30, 9)   \n",
      "33           NaN       NaN       NaN       NaN       NaN            (30, 9)   \n",
      "34           NaN       NaN       NaN       NaN       NaN            (30, 9)   \n",
      "35           NaN       NaN       NaN       NaN       NaN           (30, 10)   \n",
      "36           NaN       NaN       NaN       NaN       NaN           (30, 10)   \n",
      "37           NaN       NaN       NaN       NaN       NaN           (30, 10)   \n",
      "38           NaN       NaN       NaN       NaN       NaN           (30, 10)   \n",
      "39           NaN       NaN       NaN       NaN       NaN           (30, 10)   \n",
      "40           NaN       NaN       NaN       NaN       NaN           (30, 11)   \n",
      "41           NaN       NaN       NaN       NaN       NaN           (30, 11)   \n",
      "42           NaN       NaN       NaN       NaN       NaN           (30, 11)   \n",
      "43           NaN       NaN       NaN       NaN       NaN           (30, 11)   \n",
      "44           NaN       NaN       NaN       NaN       NaN           (30, 11)   \n",
      "45           NaN       NaN       NaN       NaN       NaN           (30, 16)   \n",
      "46           NaN       NaN       NaN       NaN       NaN           (30, 16)   \n",
      "47           NaN       NaN       NaN       NaN       NaN           (30, 16)   \n",
      "48           NaN       NaN       NaN       NaN       NaN           (30, 16)   \n",
      "49           NaN       NaN       NaN       NaN       NaN           (30, 16)   \n",
      "\n",
      "                         model  true_mos  predicted_mos        mse  \n",
      "0       RandomForestClassifier  3.266340       3.355695   0.007984  \n",
      "1           LogisticRegression  3.266340       3.553569   0.082501  \n",
      "2   GradientBoostingClassifier  3.266340       3.500226   0.054703  \n",
      "3       DecisionTreeClassifier  3.266340       3.352254   0.007381  \n",
      "4                MLPClassifier  3.266340       3.448422   0.033154  \n",
      "5       RandomForestClassifier  4.352254       2.269099   4.339534  \n",
      "6           LogisticRegression  4.352254       3.203649   1.319293  \n",
      "7   GradientBoostingClassifier  4.352254       2.722416   2.656373  \n",
      "8       DecisionTreeClassifier  4.352254       2.266340   4.351037  \n",
      "9                MLPClassifier  4.352254       3.187408   1.356866  \n",
      "10      RandomForestClassifier  4.835821       3.349377   2.209515  \n",
      "11          LogisticRegression  4.835821       3.385549   2.103287  \n",
      "12  GradientBoostingClassifier  4.835821       3.348128   2.213230  \n",
      "13      DecisionTreeClassifier  4.835821       3.352254   2.200971  \n",
      "14               MLPClassifier  4.835821       3.778340   1.118266  \n",
      "15      RandomForestClassifier  4.892157       3.838509   1.110174  \n",
      "16          LogisticRegression  4.892157       3.568298   1.752602  \n",
      "17  GradientBoostingClassifier  4.892157       3.646503   1.551654  \n",
      "18      DecisionTreeClassifier  4.892157       3.835821   1.115846  \n",
      "19               MLPClassifier  4.892157       3.841220   1.104467  \n",
      "20      RandomForestClassifier  4.952614       3.891007   1.127010  \n",
      "21          LogisticRegression  4.952614       4.356964   0.354799  \n",
      "22  GradientBoostingClassifier  4.952614       3.678164   1.624223  \n",
      "23      DecisionTreeClassifier  4.952614       3.892157   1.124570  \n",
      "24               MLPClassifier  4.952614       4.590714   0.130972  \n",
      "25       RandomForestRegressor  2.266340       3.351382   1.177316  \n",
      "26   GradientBoostingRegressor  2.266340       3.352268   1.179240  \n",
      "27         ExtraTreesRegressor  2.266340       3.352254   1.179209  \n",
      "28            LinearRegression  2.266340       3.554286   1.658806  \n",
      "29                    Pipeline  2.266340       3.049423   0.613220  \n",
      "30       RandomForestRegressor  3.352254       2.266414   1.179049  \n",
      "31   GradientBoostingRegressor  3.352254       2.266383   1.179116  \n",
      "32         ExtraTreesRegressor  3.352254       3.058928   0.086040  \n",
      "33            LinearRegression  3.352254       3.118758   0.054520  \n",
      "34                    Pipeline  3.352254       3.052113   0.090084  \n",
      "35       RandomForestRegressor  3.835821       3.354589   0.231584  \n",
      "36   GradientBoostingRegressor  3.835821       3.352254   0.233837  \n",
      "37         ExtraTreesRegressor  3.835821       3.619506   0.046792  \n",
      "38            LinearRegression  3.835821       3.199070   0.405451  \n",
      "39                    Pipeline  3.835821       3.593390   0.058773  \n",
      "40       RandomForestRegressor  3.892157       3.837054   0.003036  \n",
      "41   GradientBoostingRegressor  3.892157       3.835804   0.003176  \n",
      "42         ExtraTreesRegressor  3.892157       3.855676   0.001331  \n",
      "43            LinearRegression  3.892157       3.385509   0.256692  \n",
      "44                    Pipeline  3.892157       4.316185   0.179799  \n",
      "45       RandomForestRegressor  3.952614       3.893831   0.003455  \n",
      "46   GradientBoostingRegressor  3.952614       3.892137   0.003657  \n",
      "47         ExtraTreesRegressor  3.952614       3.892157   0.003655  \n",
      "48            LinearRegression  3.952614       6.820647   8.225613  \n",
      "49                    Pipeline  3.952614      -1.904499  34.305774  \n"
     ]
    }
   ],
   "source": [
    "seed = 123\n",
    "# report = None\n",
    "\n",
    "# regressor_models = [\n",
    "#     KNeighborsRegressor(leaf_size=10, n_neighbors=10),\n",
    "#     RandomForestRegressor(random_state=seed),\n",
    "#     Ridge(random_state=seed),\n",
    "#     Lasso(random_state=seed),\n",
    "#     GradientBoostingRegressor(random_state=seed),\n",
    "#     DecisionTreeRegressor(random_state=seed),\n",
    "#     MLPRegressor(random_state=seed),\n",
    "#     LinearRegression(),\n",
    "#     make_pipeline(PolynomialFeatures(2), preprocessing.StandardScaler(), LinearRegression())\n",
    "# ]\n",
    "\n",
    "# Updated regressor models\n",
    "regressor_models = [\n",
    "    RandomForestRegressor(\n",
    "        n_estimators=200, \n",
    "        max_depth=10,\n",
    "        min_samples_split=5,\n",
    "        min_samples_leaf=2,\n",
    "        random_state=seed\n",
    "    ),\n",
    "    GradientBoostingRegressor(\n",
    "        n_estimators=200,\n",
    "        learning_rate=0.05,\n",
    "        max_depth=4,\n",
    "        min_samples_split=5,\n",
    "        min_samples_leaf=2,\n",
    "        random_state=seed\n",
    "    ),\n",
    "    ExtraTreesRegressor(\n",
    "        n_estimators=200,\n",
    "        max_depth=10,\n",
    "        min_samples_split=5,\n",
    "        min_samples_leaf=2,\n",
    "        random_state=seed\n",
    "    ),\n",
    "    LinearRegression(),\n",
    "    make_pipeline(\n",
    "        PolynomialFeatures(degree=2),\n",
    "        preprocessing.RobustScaler(),\n",
    "        Ridge(alpha=0.1)\n",
    "    )\n",
    "]\n",
    "\n",
    "for (codec, group) in zip(CODECS,GROUPS):\n",
    "    print(f\"Processing {codec}\")\n",
    "    for group_name in group.groups.keys():\n",
    "        x_train, y_train, x_test, y_test = get_train_test_fold(group, group_name)\n",
    "\n",
    "        for model in regressor_models:\n",
    "            # Fit model\n",
    "            model.fit(x_train, y_train)\n",
    "\n",
    "            # Get predictions\n",
    "            y_pred = model.predict(x_test)\n",
    "            \n",
    "            # Create results DataFrame\n",
    "            results = pd.DataFrame({\n",
    "                'true_mos': y_test,\n",
    "                'predicted_mos': y_pred,\n",
    "                'test_configuration': str(group_name),\n",
    "                'model': model.__class__.__name__,\n",
    "            })\n",
    "\n",
    "            #results = pd.DataFrame(mos_prediction, columns =['predicted_mos'])\n",
    "            #results['test_configuration'] = str(group_name)\n",
    "            #results['model'] = model.__class__.__name__\n",
    "            #results['true_mos'] = y_test\n",
    "            #results['predicted_mos'] =float(mos_prediction[0]) \n",
    "            #results['mse'] = mean_squared_error(results['true_mos'], results['predicted_mos'])\n",
    "\n",
    "             # Calculate MSE per group\n",
    "            results['mse'] = mean_squared_error(results['true_mos'], results['predicted_mos'])\n",
    "\n",
    "            report = pd.concat([report, results], axis=0, ignore_index=True)\n",
    "\n",
    "    print(report)"
   ]
  },
  {
   "cell_type": "markdown",
   "id": "d8571c79",
   "metadata": {},
   "source": [
    "## Aggregate Results"
   ]
  },
  {
   "cell_type": "code",
   "execution_count": 31,
   "id": "95c28e12",
   "metadata": {},
   "outputs": [
    {
     "data": {
      "application/vnd.microsoft.datawrangler.viewer.v0+json": {
       "columns": [
        {
         "name": "index",
         "rawType": "int64",
         "type": "integer"
        },
        {
         "name": "model",
         "rawType": "object",
         "type": "string"
        },
        {
         "name": "r2_score",
         "rawType": "float64",
         "type": "float"
        },
        {
         "name": "mse",
         "rawType": "float64",
         "type": "float"
        },
        {
         "name": "rmse",
         "rawType": "float64",
         "type": "float"
        },
        {
         "name": "mae",
         "rawType": "float64",
         "type": "float"
        }
       ],
       "ref": "a4615855-2a06-4334-b5e3-39de8c3e56a9",
       "rows": [
        [
         "0",
         "ExtraTreesRegressor",
         "0.343816934580103",
         "0.263405459428097",
         "0.5132304155329231",
         "0.3384987097231814"
        ],
        [
         "1",
         "RandomForestRegressor",
         "-0.2926292885132942",
         "0.5188881419747992",
         "0.7203389077196921",
         "0.5531999818330943"
        ],
        [
         "2",
         "GradientBoostingRegressor",
         "-0.2949138354160519",
         "0.5198052063707248",
         "0.7209751773609996",
         "0.5544392103998239"
        ],
        [
         "3",
         "MLPClassifier",
         "-0.8652379999514705",
         "0.748745126492355",
         "0.8653005989206034",
         "0.7634492106965176"
        ],
        [
         "4",
         "LogisticRegression",
         "-1.7963098723172597",
         "1.1224966407045545",
         "1.0594794196701296",
         "0.9611229943570153"
        ],
        [
         "5",
         "GradientBoostingClassifier",
         "-3.0357573450896176",
         "1.6200365014653335",
         "1.2728065451848265",
         "1.1743043202250665"
        ],
        [
         "6",
         "RandomForestClassifier",
         "-3.381546754594094",
         "1.7588435251083658",
         "1.3262139816441258",
         "1.1548417665151007"
        ],
        [
         "7",
         "DecisionTreeClassifier",
         "-3.3843306622317524",
         "1.759961043235466",
         "1.3266352336778433",
         "1.1544376793566622"
        ],
        [
         "8",
         "LinearRegression",
         "-4.28178214342585",
         "2.120216636797739",
         "1.4560963693374622",
         "1.1065747713247769"
        ],
        [
         "9",
         "Pipeline",
         "-16.561451810303534",
         "7.049530117570638",
         "2.6550951240154537",
         "1.5213591469925116"
        ]
       ],
       "shape": {
        "columns": 5,
        "rows": 10
       }
      },
      "text/html": [
       "<div>\n",
       "<style scoped>\n",
       "    .dataframe tbody tr th:only-of-type {\n",
       "        vertical-align: middle;\n",
       "    }\n",
       "\n",
       "    .dataframe tbody tr th {\n",
       "        vertical-align: top;\n",
       "    }\n",
       "\n",
       "    .dataframe thead th {\n",
       "        text-align: right;\n",
       "    }\n",
       "</style>\n",
       "<table border=\"1\" class=\"dataframe\">\n",
       "  <thead>\n",
       "    <tr style=\"text-align: right;\">\n",
       "      <th></th>\n",
       "      <th>model</th>\n",
       "      <th>r2_score</th>\n",
       "      <th>mse</th>\n",
       "      <th>rmse</th>\n",
       "      <th>mae</th>\n",
       "    </tr>\n",
       "  </thead>\n",
       "  <tbody>\n",
       "    <tr>\n",
       "      <th>0</th>\n",
       "      <td>ExtraTreesRegressor</td>\n",
       "      <td>0.343817</td>\n",
       "      <td>0.263405</td>\n",
       "      <td>0.513230</td>\n",
       "      <td>0.338499</td>\n",
       "    </tr>\n",
       "    <tr>\n",
       "      <th>1</th>\n",
       "      <td>RandomForestRegressor</td>\n",
       "      <td>-0.292629</td>\n",
       "      <td>0.518888</td>\n",
       "      <td>0.720339</td>\n",
       "      <td>0.553200</td>\n",
       "    </tr>\n",
       "    <tr>\n",
       "      <th>2</th>\n",
       "      <td>GradientBoostingRegressor</td>\n",
       "      <td>-0.294914</td>\n",
       "      <td>0.519805</td>\n",
       "      <td>0.720975</td>\n",
       "      <td>0.554439</td>\n",
       "    </tr>\n",
       "    <tr>\n",
       "      <th>3</th>\n",
       "      <td>MLPClassifier</td>\n",
       "      <td>-0.865238</td>\n",
       "      <td>0.748745</td>\n",
       "      <td>0.865301</td>\n",
       "      <td>0.763449</td>\n",
       "    </tr>\n",
       "    <tr>\n",
       "      <th>4</th>\n",
       "      <td>LogisticRegression</td>\n",
       "      <td>-1.796310</td>\n",
       "      <td>1.122497</td>\n",
       "      <td>1.059479</td>\n",
       "      <td>0.961123</td>\n",
       "    </tr>\n",
       "    <tr>\n",
       "      <th>5</th>\n",
       "      <td>GradientBoostingClassifier</td>\n",
       "      <td>-3.035757</td>\n",
       "      <td>1.620037</td>\n",
       "      <td>1.272807</td>\n",
       "      <td>1.174304</td>\n",
       "    </tr>\n",
       "    <tr>\n",
       "      <th>6</th>\n",
       "      <td>RandomForestClassifier</td>\n",
       "      <td>-3.381547</td>\n",
       "      <td>1.758844</td>\n",
       "      <td>1.326214</td>\n",
       "      <td>1.154842</td>\n",
       "    </tr>\n",
       "    <tr>\n",
       "      <th>7</th>\n",
       "      <td>DecisionTreeClassifier</td>\n",
       "      <td>-3.384331</td>\n",
       "      <td>1.759961</td>\n",
       "      <td>1.326635</td>\n",
       "      <td>1.154438</td>\n",
       "    </tr>\n",
       "    <tr>\n",
       "      <th>8</th>\n",
       "      <td>LinearRegression</td>\n",
       "      <td>-4.281782</td>\n",
       "      <td>2.120217</td>\n",
       "      <td>1.456096</td>\n",
       "      <td>1.106575</td>\n",
       "    </tr>\n",
       "    <tr>\n",
       "      <th>9</th>\n",
       "      <td>Pipeline</td>\n",
       "      <td>-16.561452</td>\n",
       "      <td>7.049530</td>\n",
       "      <td>2.655095</td>\n",
       "      <td>1.521359</td>\n",
       "    </tr>\n",
       "  </tbody>\n",
       "</table>\n",
       "</div>"
      ],
      "text/plain": [
       "                        model   r2_score       mse      rmse       mae\n",
       "0         ExtraTreesRegressor   0.343817  0.263405  0.513230  0.338499\n",
       "1       RandomForestRegressor  -0.292629  0.518888  0.720339  0.553200\n",
       "2   GradientBoostingRegressor  -0.294914  0.519805  0.720975  0.554439\n",
       "3               MLPClassifier  -0.865238  0.748745  0.865301  0.763449\n",
       "4          LogisticRegression  -1.796310  1.122497  1.059479  0.961123\n",
       "5  GradientBoostingClassifier  -3.035757  1.620037  1.272807  1.174304\n",
       "6      RandomForestClassifier  -3.381547  1.758844  1.326214  1.154842\n",
       "7      DecisionTreeClassifier  -3.384331  1.759961  1.326635  1.154438\n",
       "8            LinearRegression  -4.281782  2.120217  1.456096  1.106575\n",
       "9                    Pipeline -16.561452  7.049530  2.655095  1.521359"
      ]
     },
     "execution_count": 31,
     "metadata": {},
     "output_type": "execute_result"
    }
   ],
   "source": [
    "from sklearn.metrics import mean_absolute_error\n",
    "from sklearn.metrics import r2_score as R2\n",
    "import math\n",
    "\n",
    "model_performance = None\n",
    "\n",
    "for model, group_content in report.groupby('model'):\n",
    "    single_model_performance = pd.DataFrame(\n",
    "        data=\n",
    "        [[\n",
    "            model,\n",
    "            R2(group_content['true_mos'], group_content['predicted_mos']),\n",
    "            mean_squared_error(group_content['true_mos'], group_content['predicted_mos']),\n",
    "            math.sqrt(mean_squared_error(group_content['true_mos'], group_content['predicted_mos'])),\n",
    "            mean_absolute_error(group_content['true_mos'], group_content['predicted_mos'])\n",
    "        ]],\n",
    "        columns=\n",
    "        [\n",
    "            \"model\",\n",
    "            \"r2_score\",\n",
    "            \"mse\",\n",
    "            \"rmse\",\n",
    "            \"mae\"\n",
    "        ]\n",
    "    )\n",
    "    model_performance = pd.concat([model_performance, single_model_performance], axis=0, ignore_index=True)\n",
    "\n",
    "model_performance = model_performance.sort_values([\"r2_score\", \"mse\", \"mae\"], ascending=False).reset_index(drop=True)\n",
    "model_performance"
   ]
  },
  {
   "cell_type": "code",
   "execution_count": 32,
   "id": "caf8df20",
   "metadata": {},
   "outputs": [],
   "source": [
    "from datetime import datetime\n",
    "now = datetime.now()\n",
    "\n",
    "report.to_csv('results_shivi' + '/model_scores/draco/' + 'performance_per_model_SHIVI_DRACO_' + now.strftime(\"%Y%m%d_%H%M%S\") + '.csv', index=False)\n",
    "model_performance.to_csv('results_shivi' + '/' + 'models_scores_SHIVI_DRACO_' + now.strftime(\"%Y%m%d_%H%M%S\") + '.csv', index=False)"
   ]
  },
  {
   "cell_type": "code",
   "execution_count": 33,
   "id": "58346a8a",
   "metadata": {},
   "outputs": [
    {
     "name": "stderr",
     "output_type": "stream",
     "text": [
      "/home/shivi/.local/lib/python3.10/site-packages/matplotlib/projections/__init__.py:63: UserWarning: Unable to import Axes3D. This may be due to multiple versions of Matplotlib being installed (e.g. as a system package and as a pip package). As a result, the 3D projection is not available.\n",
      "  warnings.warn(\"Unable to import Axes3D. This may be due to multiple versions of \"\n"
     ]
    },
    {
     "name": "stdout",
     "output_type": "stream",
     "text": [
      "DecisionTreeClassifier\n"
     ]
    },
    {
     "data": {
      "image/png": "[encoded data removed]",
      "text/plain": [
       "<Figure size 600x400 with 1 Axes>"
      ]
     },
     "metadata": {},
     "output_type": "display_data"
    },
    {
     "name": "stdout",
     "output_type": "stream",
     "text": [
      "ExtraTreesRegressor\n"
     ]
    },
    {
     "data": {
      "image/png": "[encoded data removed]",
      "text/plain": [
       "<Figure size 600x400 with 1 Axes>"
      ]
     },
     "metadata": {},
     "output_type": "display_data"
    },
    {
     "name": "stdout",
     "output_type": "stream",
     "text": [
      "GradientBoostingClassifier\n"
     ]
    },
    {
     "data": {
      "image/png": "[encoded data removed]",
      "text/plain": [
       "<Figure size 600x400 with 1 Axes>"
      ]
     },
     "metadata": {},
     "output_type": "display_data"
    },
    {
     "name": "stdout",
     "output_type": "stream",
     "text": [
      "GradientBoostingRegressor\n"
     ]
    },
    {
     "data": {
      "image/png": "[encoded data removed]",
      "text/plain": [
       "<Figure size 600x400 with 1 Axes>"
      ]
     },
     "metadata": {},
     "output_type": "display_data"
    },
    {
     "name": "stdout",
     "output_type": "stream",
     "text": [
      "LinearRegression\n"
     ]
    },
    {
     "data": {
      "image/png": "[encoded data removed]",
      "text/plain": [
       "<Figure size 600x400 with 1 Axes>"
      ]
     },
     "metadata": {},
     "output_type": "display_data"
    },
    {
     "name": "stdout",
     "output_type": "stream",
     "text": [
      "LogisticRegression\n"
     ]
    },
    {
     "data": {
      "image/png": "[encoded data removed]",
      "text/plain": [
       "<Figure size 600x400 with 1 Axes>"
      ]
     },
     "metadata": {},
     "output_type": "display_data"
    },
    {
     "name": "stdout",
     "output_type": "stream",
     "text": [
      "MLPClassifier\n"
     ]
    },
    {
     "data": {
      "image/png": "[encoded data removed]",
      "text/plain": [
       "<Figure size 600x400 with 1 Axes>"
      ]
     },
     "metadata": {},
     "output_type": "display_data"
    },
    {
     "name": "stdout",
     "output_type": "stream",
     "text": [
      "Pipeline\n"
     ]
    },
    {
     "data": {
      "image/png": "[encoded data removed]",
      "text/plain": [
       "<Figure size 600x400 with 1 Axes>"
      ]
     },
     "metadata": {},
     "output_type": "display_data"
    },
    {
     "name": "stdout",
     "output_type": "stream",
     "text": [
      "RandomForestClassifier\n"
     ]
    },
    {
     "data": {
      "image/png": "[encoded data removed]",
      "text/plain": [
       "<Figure size 600x400 with 1 Axes>"
      ]
     },
     "metadata": {},
     "output_type": "display_data"
    },
    {
     "name": "stdout",
     "output_type": "stream",
     "text": [
      "RandomForestRegressor\n"
     ]
    },
    {
     "data": {
      "image/png": "[encoded data removed]",
      "text/plain": [
       "<Figure size 600x400 with 1 Axes>"
      ]
     },
     "metadata": {},
     "output_type": "display_data"
    }
   ],
   "source": [
    "import matplotlib.pyplot as plt\n",
    "plt.rcParams.update({'font.size': 16})\n",
    "\n",
    "for model, group_content in report.groupby('model'):\n",
    "    print(model)\n",
    "    # Generate the scatter plot\n",
    "    plt.figure(figsize=(6, 4))\n",
    "    plt.scatter(group_content['true_mos'], group_content['predicted_mos']) \n",
    "\n",
    "    # Add y=x line to the plot\n",
    "    plt.plot([0, 5], [0, 5], color = 'red')\n",
    "\n",
    "    # Label the axes\n",
    "    plt.xlabel('Perceived MOS')\n",
    "    plt.ylabel('Predicted MOS')\n",
    "    plt.tight_layout()\n",
    "    plt.savefig('./figures/predicted_and_true_distribution_' + model + '_DRACO_' + now.strftime(\"%Y%m%d_%H%M%S\") + '.pdf')  \n",
    "    plt.show()"
   ]
  },
  {
   "cell_type": "markdown",
   "id": "2fb10e07",
   "metadata": {},
   "source": [
    "# Use the ML Model with Partners data to generate QoE results"
   ]
  },
  {
   "cell_type": "markdown",
   "id": "268974d5",
   "metadata": {},
   "source": [
    "## Save the models using joblib"
   ]
  },
  {
   "cell_type": "code",
   "execution_count": 34,
   "id": "44340bba",
   "metadata": {},
   "outputs": [
    {
     "name": "stdout",
     "output_type": "stream",
     "text": [
      "Saved RandomForestClassifier model to: ./results_shivi/trained_models/RandomForestClassifier_20250702_154709.joblib\n",
      "Saved LogisticRegression model to: ./results_shivi/trained_models/LogisticRegression_20250702_154709.joblib\n",
      "Saved GradientBoostingClassifier model to: ./results_shivi/trained_models/GradientBoostingClassifier_20250702_154709.joblib\n",
      "Saved DecisionTreeClassifier model to: ./results_shivi/trained_models/DecisionTreeClassifier_20250702_154709.joblib\n",
      "Saved MLPClassifier model to: ./results_shivi/trained_models/MLPClassifier_20250702_154709.joblib\n",
      "Saved RandomForestRegressor model to: ./results_shivi/trained_models/RandomForestRegressor_20250702_154709.joblib\n",
      "Saved GradientBoostingRegressor model to: ./results_shivi/trained_models/GradientBoostingRegressor_20250702_154709.joblib\n",
      "Saved ExtraTreesRegressor model to: ./results_shivi/trained_models/ExtraTreesRegressor_20250702_154709.joblib\n",
      "Saved LinearRegression model to: ./results_shivi/trained_models/LinearRegression_20250702_154709.joblib\n",
      "Saved Pipeline model to: ./results_shivi/trained_models/Pipeline_20250702_154709.joblib\n"
     ]
    }
   ],
   "source": [
    "from joblib import dump\n",
    "\n",
    "# After training, save all models, not just the best ones\n",
    "\n",
    "# best_models = {}\n",
    "# for model_type in ['classifier', 'regressor']:\n",
    "#     model_data = model_performance[model_performance.model.str.contains(model_type, case=False)]\n",
    "#     best_model_name = model_data.sort_values('rmse', ascending=True).iloc[0]['model']\n",
    "#     best_models[model_type] = best_model_name\n",
    "\n",
    "# Create directories for saving models and scalers\n",
    "import os\n",
    "from datetime import datetime\n",
    "now = datetime.now()\n",
    "\n",
    "models_dir = './results_shivi/trained_models'\n",
    "os.makedirs(models_dir, exist_ok=True)\n",
    "\n",
    "# Save all the models!\n",
    "for m in classifier_models:\n",
    "    # Save model\n",
    "    model_path = os.path.join(models_dir, f\"{m.__class__.__name__}_{now.strftime('%Y%m%d_%H%M%S')}.joblib\")\n",
    "    dump(m, model_path)\n",
    "\n",
    "    print(f\"Saved {m.__class__.__name__} model to: {model_path}\")\n",
    "\n",
    "\n",
    "# Save all the models!\n",
    "for m in regressor_models:\n",
    "    # Save model\n",
    "    model_path = os.path.join(models_dir, f\"{m.__class__.__name__}_{now.strftime('%Y%m%d_%H%M%S')}.joblib\")\n",
    "    dump(m, model_path)\n",
    "\n",
    "    print(f\"Saved {m.__class__.__name__} model to: {model_path}\")"
   ]
  },
  {
   "cell_type": "code",
   "execution_count": 39,
   "id": "08603ded",
   "metadata": {},
   "outputs": [
    {
     "name": "stdout",
     "output_type": "stream",
     "text": [
      "Predicted MOS: 3.8922\n"
     ]
    }
   ],
   "source": [
    "from joblib import load\n",
    "\n",
    "model_names = [\n",
    "    \"RandomForestClassifier\",\n",
    "    \"LogisticRegression\",\n",
    "    \"GradientBoostingClassifier\",\n",
    "    \"DecisionTreeClassifier\",\n",
    "    \"MLPClassifier\",\n",
    "    \"RandomForestRegressor\",\n",
    "    \"GradientBoostingRegressor\",\n",
    "    \"ExtraTreesRegressor\",\n",
    "    \"LinearRegression\",\n",
    "    \"Pipeline\",\n",
    "]\n",
    "\n",
    "# CHANGE THESE FOR USAGE\n",
    "model_timestamp = \"20250702_154709\" \n",
    "current_model_name = \"ExtraTreesRegressor\"\n",
    "\n",
    "model = load(\n",
    "    f\"./results_shivi/trained_models/{current_model_name}_{model_timestamp}.joblib\"\n",
    ")\n",
    "\n",
    "# Prepare new data\n",
    "new_data = pd.DataFrame({\n",
    "    'frame_rate': [30],\n",
    "    #'distance': [2.5],\n",
    "    'quantization_parameter': [14]\n",
    "})\n",
    "\n",
    "\n",
    "prediction = model.predict(new_data)\n",
    "print(f\"Predicted MOS: {prediction[0]:.4f}\")"
   ]
  },
  {
   "cell_type": "markdown",
   "id": "e6293c3e",
   "metadata": {},
   "source": [
    "### Ericsson"
   ]
  }
 ],
 "metadata": {
  "kernelspec": {
   "display_name": "Python 3",
   "language": "python",
   "name": "python3"
  },
  "language_info": {
   "codemirror_mode": {
    "name": "ipython",
    "version": 3
   },
   "file_extension": ".py",
   "mimetype": "text/x-python",
   "name": "python",
   "nbconvert_exporter": "python",
   "pygments_lexer": "ipython3",
   "version": "3.10.12"
  }
 },
 "nbformat": 4,
 "nbformat_minor": 5
}
